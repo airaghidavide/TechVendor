{
  "nbformat": 4,
  "nbformat_minor": 0,
  "metadata": {
    "colab": {
      "name": "Untitled0.ipynb",
      "provenance": [],
      "collapsed_sections": []
    },
    "kernelspec": {
      "name": "python3",
      "display_name": "Python 3"
    },
    "widgets": {
      "application/vnd.jupyter.widget-state+json": {
        "5b4127886d524b03a855f1e93734a86b": {
          "model_module": "@jupyter-widgets/controls",
          "model_name": "HBoxModel",
          "state": {
            "_view_name": "HBoxView",
            "_dom_classes": [],
            "_model_name": "HBoxModel",
            "_view_module": "@jupyter-widgets/controls",
            "_model_module_version": "1.5.0",
            "_view_count": null,
            "_view_module_version": "1.5.0",
            "box_style": "",
            "layout": "IPY_MODEL_6cbc11d21bfd47ceaa93442f75c1f65f",
            "_model_module": "@jupyter-widgets/controls",
            "children": [
              "IPY_MODEL_f7af4b63a24640aca78ac00297f53bf0",
              "IPY_MODEL_87cea137070849c4b021cb1a1f07badc"
            ]
          }
        },
        "6cbc11d21bfd47ceaa93442f75c1f65f": {
          "model_module": "@jupyter-widgets/base",
          "model_name": "LayoutModel",
          "state": {
            "_view_name": "LayoutView",
            "grid_template_rows": null,
            "right": null,
            "justify_content": null,
            "_view_module": "@jupyter-widgets/base",
            "overflow": null,
            "_model_module_version": "1.2.0",
            "_view_count": null,
            "flex_flow": null,
            "width": null,
            "min_width": null,
            "border": null,
            "align_items": null,
            "bottom": null,
            "_model_module": "@jupyter-widgets/base",
            "top": null,
            "grid_column": null,
            "overflow_y": null,
            "overflow_x": null,
            "grid_auto_flow": null,
            "grid_area": null,
            "grid_template_columns": null,
            "flex": null,
            "_model_name": "LayoutModel",
            "justify_items": null,
            "grid_row": null,
            "max_height": null,
            "align_content": null,
            "visibility": null,
            "align_self": null,
            "height": null,
            "min_height": null,
            "padding": null,
            "grid_auto_rows": null,
            "grid_gap": null,
            "max_width": null,
            "order": null,
            "_view_module_version": "1.2.0",
            "grid_template_areas": null,
            "object_position": null,
            "object_fit": null,
            "grid_auto_columns": null,
            "margin": null,
            "display": null,
            "left": null
          }
        },
        "f7af4b63a24640aca78ac00297f53bf0": {
          "model_module": "@jupyter-widgets/controls",
          "model_name": "FloatProgressModel",
          "state": {
            "_view_name": "ProgressView",
            "style": "IPY_MODEL_21222708919c4bb4b3be4679910904ff",
            "_dom_classes": [],
            "description": "100%",
            "_model_name": "FloatProgressModel",
            "bar_style": "success",
            "max": 13,
            "_view_module": "@jupyter-widgets/controls",
            "_model_module_version": "1.5.0",
            "value": 13,
            "_view_count": null,
            "_view_module_version": "1.5.0",
            "orientation": "horizontal",
            "min": 0,
            "description_tooltip": null,
            "_model_module": "@jupyter-widgets/controls",
            "layout": "IPY_MODEL_08b4feae30644dbf97b574a271c4ad01"
          }
        },
        "87cea137070849c4b021cb1a1f07badc": {
          "model_module": "@jupyter-widgets/controls",
          "model_name": "HTMLModel",
          "state": {
            "_view_name": "HTMLView",
            "style": "IPY_MODEL_ab9a6e869e2d446fbde6109fbd8d53ab",
            "_dom_classes": [],
            "description": "",
            "_model_name": "HTMLModel",
            "placeholder": "​",
            "_view_module": "@jupyter-widgets/controls",
            "_model_module_version": "1.5.0",
            "value": " 13/13 [05:46&lt;00:00, 26.64s/it]",
            "_view_count": null,
            "_view_module_version": "1.5.0",
            "description_tooltip": null,
            "_model_module": "@jupyter-widgets/controls",
            "layout": "IPY_MODEL_180daf881f594faeb54cda291a64c18b"
          }
        },
        "21222708919c4bb4b3be4679910904ff": {
          "model_module": "@jupyter-widgets/controls",
          "model_name": "ProgressStyleModel",
          "state": {
            "_view_name": "StyleView",
            "_model_name": "ProgressStyleModel",
            "description_width": "initial",
            "_view_module": "@jupyter-widgets/base",
            "_model_module_version": "1.5.0",
            "_view_count": null,
            "_view_module_version": "1.2.0",
            "bar_color": null,
            "_model_module": "@jupyter-widgets/controls"
          }
        },
        "08b4feae30644dbf97b574a271c4ad01": {
          "model_module": "@jupyter-widgets/base",
          "model_name": "LayoutModel",
          "state": {
            "_view_name": "LayoutView",
            "grid_template_rows": null,
            "right": null,
            "justify_content": null,
            "_view_module": "@jupyter-widgets/base",
            "overflow": null,
            "_model_module_version": "1.2.0",
            "_view_count": null,
            "flex_flow": null,
            "width": null,
            "min_width": null,
            "border": null,
            "align_items": null,
            "bottom": null,
            "_model_module": "@jupyter-widgets/base",
            "top": null,
            "grid_column": null,
            "overflow_y": null,
            "overflow_x": null,
            "grid_auto_flow": null,
            "grid_area": null,
            "grid_template_columns": null,
            "flex": null,
            "_model_name": "LayoutModel",
            "justify_items": null,
            "grid_row": null,
            "max_height": null,
            "align_content": null,
            "visibility": null,
            "align_self": null,
            "height": null,
            "min_height": null,
            "padding": null,
            "grid_auto_rows": null,
            "grid_gap": null,
            "max_width": null,
            "order": null,
            "_view_module_version": "1.2.0",
            "grid_template_areas": null,
            "object_position": null,
            "object_fit": null,
            "grid_auto_columns": null,
            "margin": null,
            "display": null,
            "left": null
          }
        },
        "ab9a6e869e2d446fbde6109fbd8d53ab": {
          "model_module": "@jupyter-widgets/controls",
          "model_name": "DescriptionStyleModel",
          "state": {
            "_view_name": "StyleView",
            "_model_name": "DescriptionStyleModel",
            "description_width": "",
            "_view_module": "@jupyter-widgets/base",
            "_model_module_version": "1.5.0",
            "_view_count": null,
            "_view_module_version": "1.2.0",
            "_model_module": "@jupyter-widgets/controls"
          }
        },
        "180daf881f594faeb54cda291a64c18b": {
          "model_module": "@jupyter-widgets/base",
          "model_name": "LayoutModel",
          "state": {
            "_view_name": "LayoutView",
            "grid_template_rows": null,
            "right": null,
            "justify_content": null,
            "_view_module": "@jupyter-widgets/base",
            "overflow": null,
            "_model_module_version": "1.2.0",
            "_view_count": null,
            "flex_flow": null,
            "width": null,
            "min_width": null,
            "border": null,
            "align_items": null,
            "bottom": null,
            "_model_module": "@jupyter-widgets/base",
            "top": null,
            "grid_column": null,
            "overflow_y": null,
            "overflow_x": null,
            "grid_auto_flow": null,
            "grid_area": null,
            "grid_template_columns": null,
            "flex": null,
            "_model_name": "LayoutModel",
            "justify_items": null,
            "grid_row": null,
            "max_height": null,
            "align_content": null,
            "visibility": null,
            "align_self": null,
            "height": null,
            "min_height": null,
            "padding": null,
            "grid_auto_rows": null,
            "grid_gap": null,
            "max_width": null,
            "order": null,
            "_view_module_version": "1.2.0",
            "grid_template_areas": null,
            "object_position": null,
            "object_fit": null,
            "grid_auto_columns": null,
            "margin": null,
            "display": null,
            "left": null
          }
        },
        "0d0f4ae7bebb403f83175bafe2928a02": {
          "model_module": "@jupyter-widgets/controls",
          "model_name": "HBoxModel",
          "state": {
            "_view_name": "HBoxView",
            "_dom_classes": [],
            "_model_name": "HBoxModel",
            "_view_module": "@jupyter-widgets/controls",
            "_model_module_version": "1.5.0",
            "_view_count": null,
            "_view_module_version": "1.5.0",
            "box_style": "",
            "layout": "IPY_MODEL_f1e618a15c2a473eaa7ac7953f025f11",
            "_model_module": "@jupyter-widgets/controls",
            "children": [
              "IPY_MODEL_421cabb6f870456a9f3bb0f6e9569247",
              "IPY_MODEL_78aa891760a04e35a058ba67d1f694d0"
            ]
          }
        },
        "f1e618a15c2a473eaa7ac7953f025f11": {
          "model_module": "@jupyter-widgets/base",
          "model_name": "LayoutModel",
          "state": {
            "_view_name": "LayoutView",
            "grid_template_rows": null,
            "right": null,
            "justify_content": null,
            "_view_module": "@jupyter-widgets/base",
            "overflow": null,
            "_model_module_version": "1.2.0",
            "_view_count": null,
            "flex_flow": null,
            "width": null,
            "min_width": null,
            "border": null,
            "align_items": null,
            "bottom": null,
            "_model_module": "@jupyter-widgets/base",
            "top": null,
            "grid_column": null,
            "overflow_y": null,
            "overflow_x": null,
            "grid_auto_flow": null,
            "grid_area": null,
            "grid_template_columns": null,
            "flex": null,
            "_model_name": "LayoutModel",
            "justify_items": null,
            "grid_row": null,
            "max_height": null,
            "align_content": null,
            "visibility": null,
            "align_self": null,
            "height": null,
            "min_height": null,
            "padding": null,
            "grid_auto_rows": null,
            "grid_gap": null,
            "max_width": null,
            "order": null,
            "_view_module_version": "1.2.0",
            "grid_template_areas": null,
            "object_position": null,
            "object_fit": null,
            "grid_auto_columns": null,
            "margin": null,
            "display": null,
            "left": null
          }
        },
        "421cabb6f870456a9f3bb0f6e9569247": {
          "model_module": "@jupyter-widgets/controls",
          "model_name": "FloatProgressModel",
          "state": {
            "_view_name": "ProgressView",
            "style": "IPY_MODEL_1f94221244d54da3aaa5448e09da9307",
            "_dom_classes": [],
            "description": "",
            "_model_name": "FloatProgressModel",
            "bar_style": "success",
            "max": 1,
            "_view_module": "@jupyter-widgets/controls",
            "_model_module_version": "1.5.0",
            "value": 1,
            "_view_count": null,
            "_view_module_version": "1.5.0",
            "orientation": "horizontal",
            "min": 0,
            "description_tooltip": null,
            "_model_module": "@jupyter-widgets/controls",
            "layout": "IPY_MODEL_a462619479f549a8acf77b04393d8b03"
          }
        },
        "78aa891760a04e35a058ba67d1f694d0": {
          "model_module": "@jupyter-widgets/controls",
          "model_name": "HTMLModel",
          "state": {
            "_view_name": "HTMLView",
            "style": "IPY_MODEL_f3fed09981c94686b5b4de72592c629b",
            "_dom_classes": [],
            "description": "",
            "_model_name": "HTMLModel",
            "placeholder": "​",
            "_view_module": "@jupyter-widgets/controls",
            "_model_module_version": "1.5.0",
            "value": " 276/? [2:06:47&lt;00:00, 27.56s/it]",
            "_view_count": null,
            "_view_module_version": "1.5.0",
            "description_tooltip": null,
            "_model_module": "@jupyter-widgets/controls",
            "layout": "IPY_MODEL_cf34a3c50d2a47d99ab68db974a3c6ba"
          }
        },
        "1f94221244d54da3aaa5448e09da9307": {
          "model_module": "@jupyter-widgets/controls",
          "model_name": "ProgressStyleModel",
          "state": {
            "_view_name": "StyleView",
            "_model_name": "ProgressStyleModel",
            "description_width": "initial",
            "_view_module": "@jupyter-widgets/base",
            "_model_module_version": "1.5.0",
            "_view_count": null,
            "_view_module_version": "1.2.0",
            "bar_color": null,
            "_model_module": "@jupyter-widgets/controls"
          }
        },
        "a462619479f549a8acf77b04393d8b03": {
          "model_module": "@jupyter-widgets/base",
          "model_name": "LayoutModel",
          "state": {
            "_view_name": "LayoutView",
            "grid_template_rows": null,
            "right": null,
            "justify_content": null,
            "_view_module": "@jupyter-widgets/base",
            "overflow": null,
            "_model_module_version": "1.2.0",
            "_view_count": null,
            "flex_flow": null,
            "width": null,
            "min_width": null,
            "border": null,
            "align_items": null,
            "bottom": null,
            "_model_module": "@jupyter-widgets/base",
            "top": null,
            "grid_column": null,
            "overflow_y": null,
            "overflow_x": null,
            "grid_auto_flow": null,
            "grid_area": null,
            "grid_template_columns": null,
            "flex": null,
            "_model_name": "LayoutModel",
            "justify_items": null,
            "grid_row": null,
            "max_height": null,
            "align_content": null,
            "visibility": null,
            "align_self": null,
            "height": null,
            "min_height": null,
            "padding": null,
            "grid_auto_rows": null,
            "grid_gap": null,
            "max_width": null,
            "order": null,
            "_view_module_version": "1.2.0",
            "grid_template_areas": null,
            "object_position": null,
            "object_fit": null,
            "grid_auto_columns": null,
            "margin": null,
            "display": null,
            "left": null
          }
        },
        "f3fed09981c94686b5b4de72592c629b": {
          "model_module": "@jupyter-widgets/controls",
          "model_name": "DescriptionStyleModel",
          "state": {
            "_view_name": "StyleView",
            "_model_name": "DescriptionStyleModel",
            "description_width": "",
            "_view_module": "@jupyter-widgets/base",
            "_model_module_version": "1.5.0",
            "_view_count": null,
            "_view_module_version": "1.2.0",
            "_model_module": "@jupyter-widgets/controls"
          }
        },
        "cf34a3c50d2a47d99ab68db974a3c6ba": {
          "model_module": "@jupyter-widgets/base",
          "model_name": "LayoutModel",
          "state": {
            "_view_name": "LayoutView",
            "grid_template_rows": null,
            "right": null,
            "justify_content": null,
            "_view_module": "@jupyter-widgets/base",
            "overflow": null,
            "_model_module_version": "1.2.0",
            "_view_count": null,
            "flex_flow": null,
            "width": null,
            "min_width": null,
            "border": null,
            "align_items": null,
            "bottom": null,
            "_model_module": "@jupyter-widgets/base",
            "top": null,
            "grid_column": null,
            "overflow_y": null,
            "overflow_x": null,
            "grid_auto_flow": null,
            "grid_area": null,
            "grid_template_columns": null,
            "flex": null,
            "_model_name": "LayoutModel",
            "justify_items": null,
            "grid_row": null,
            "max_height": null,
            "align_content": null,
            "visibility": null,
            "align_self": null,
            "height": null,
            "min_height": null,
            "padding": null,
            "grid_auto_rows": null,
            "grid_gap": null,
            "max_width": null,
            "order": null,
            "_view_module_version": "1.2.0",
            "grid_template_areas": null,
            "object_position": null,
            "object_fit": null,
            "grid_auto_columns": null,
            "margin": null,
            "display": null,
            "left": null
          }
        },
        "c0b5d0ea005d42748fea3ffdfcf742dd": {
          "model_module": "@jupyter-widgets/controls",
          "model_name": "HBoxModel",
          "state": {
            "_view_name": "HBoxView",
            "_dom_classes": [],
            "_model_name": "HBoxModel",
            "_view_module": "@jupyter-widgets/controls",
            "_model_module_version": "1.5.0",
            "_view_count": null,
            "_view_module_version": "1.5.0",
            "box_style": "",
            "layout": "IPY_MODEL_e56bc712288b4c52bb50c99c0fd477a4",
            "_model_module": "@jupyter-widgets/controls",
            "children": [
              "IPY_MODEL_66053ffc81a8478aa9189c675e9df295",
              "IPY_MODEL_166d08d5f2d844b2acf1d3f7638dc412"
            ]
          }
        },
        "e56bc712288b4c52bb50c99c0fd477a4": {
          "model_module": "@jupyter-widgets/base",
          "model_name": "LayoutModel",
          "state": {
            "_view_name": "LayoutView",
            "grid_template_rows": null,
            "right": null,
            "justify_content": null,
            "_view_module": "@jupyter-widgets/base",
            "overflow": null,
            "_model_module_version": "1.2.0",
            "_view_count": null,
            "flex_flow": null,
            "width": null,
            "min_width": null,
            "border": null,
            "align_items": null,
            "bottom": null,
            "_model_module": "@jupyter-widgets/base",
            "top": null,
            "grid_column": null,
            "overflow_y": null,
            "overflow_x": null,
            "grid_auto_flow": null,
            "grid_area": null,
            "grid_template_columns": null,
            "flex": null,
            "_model_name": "LayoutModel",
            "justify_items": null,
            "grid_row": null,
            "max_height": null,
            "align_content": null,
            "visibility": null,
            "align_self": null,
            "height": null,
            "min_height": null,
            "padding": null,
            "grid_auto_rows": null,
            "grid_gap": null,
            "max_width": null,
            "order": null,
            "_view_module_version": "1.2.0",
            "grid_template_areas": null,
            "object_position": null,
            "object_fit": null,
            "grid_auto_columns": null,
            "margin": null,
            "display": null,
            "left": null
          }
        },
        "66053ffc81a8478aa9189c675e9df295": {
          "model_module": "@jupyter-widgets/controls",
          "model_name": "FloatProgressModel",
          "state": {
            "_view_name": "ProgressView",
            "style": "IPY_MODEL_ed58c4f48f58413fb4d2e55e4253f160",
            "_dom_classes": [],
            "description": "100%",
            "_model_name": "FloatProgressModel",
            "bar_style": "success",
            "max": 14,
            "_view_module": "@jupyter-widgets/controls",
            "_model_module_version": "1.5.0",
            "value": 14,
            "_view_count": null,
            "_view_module_version": "1.5.0",
            "orientation": "horizontal",
            "min": 0,
            "description_tooltip": null,
            "_model_module": "@jupyter-widgets/controls",
            "layout": "IPY_MODEL_e9656c4dbb5b43459867a6188939b7fd"
          }
        },
        "166d08d5f2d844b2acf1d3f7638dc412": {
          "model_module": "@jupyter-widgets/controls",
          "model_name": "HTMLModel",
          "state": {
            "_view_name": "HTMLView",
            "style": "IPY_MODEL_2cba95da67ba4cf0934fe9f42109d5bc",
            "_dom_classes": [],
            "description": "",
            "_model_name": "HTMLModel",
            "placeholder": "​",
            "_view_module": "@jupyter-widgets/controls",
            "_model_module_version": "1.5.0",
            "value": " 14/14 [4:28:01&lt;00:00, 1148.65s/it]",
            "_view_count": null,
            "_view_module_version": "1.5.0",
            "description_tooltip": null,
            "_model_module": "@jupyter-widgets/controls",
            "layout": "IPY_MODEL_a4e89a2bb80b48c78abb7f9cb8a7e167"
          }
        },
        "ed58c4f48f58413fb4d2e55e4253f160": {
          "model_module": "@jupyter-widgets/controls",
          "model_name": "ProgressStyleModel",
          "state": {
            "_view_name": "StyleView",
            "_model_name": "ProgressStyleModel",
            "description_width": "initial",
            "_view_module": "@jupyter-widgets/base",
            "_model_module_version": "1.5.0",
            "_view_count": null,
            "_view_module_version": "1.2.0",
            "bar_color": null,
            "_model_module": "@jupyter-widgets/controls"
          }
        },
        "e9656c4dbb5b43459867a6188939b7fd": {
          "model_module": "@jupyter-widgets/base",
          "model_name": "LayoutModel",
          "state": {
            "_view_name": "LayoutView",
            "grid_template_rows": null,
            "right": null,
            "justify_content": null,
            "_view_module": "@jupyter-widgets/base",
            "overflow": null,
            "_model_module_version": "1.2.0",
            "_view_count": null,
            "flex_flow": null,
            "width": null,
            "min_width": null,
            "border": null,
            "align_items": null,
            "bottom": null,
            "_model_module": "@jupyter-widgets/base",
            "top": null,
            "grid_column": null,
            "overflow_y": null,
            "overflow_x": null,
            "grid_auto_flow": null,
            "grid_area": null,
            "grid_template_columns": null,
            "flex": null,
            "_model_name": "LayoutModel",
            "justify_items": null,
            "grid_row": null,
            "max_height": null,
            "align_content": null,
            "visibility": null,
            "align_self": null,
            "height": null,
            "min_height": null,
            "padding": null,
            "grid_auto_rows": null,
            "grid_gap": null,
            "max_width": null,
            "order": null,
            "_view_module_version": "1.2.0",
            "grid_template_areas": null,
            "object_position": null,
            "object_fit": null,
            "grid_auto_columns": null,
            "margin": null,
            "display": null,
            "left": null
          }
        },
        "2cba95da67ba4cf0934fe9f42109d5bc": {
          "model_module": "@jupyter-widgets/controls",
          "model_name": "DescriptionStyleModel",
          "state": {
            "_view_name": "StyleView",
            "_model_name": "DescriptionStyleModel",
            "description_width": "",
            "_view_module": "@jupyter-widgets/base",
            "_model_module_version": "1.5.0",
            "_view_count": null,
            "_view_module_version": "1.2.0",
            "_model_module": "@jupyter-widgets/controls"
          }
        },
        "a4e89a2bb80b48c78abb7f9cb8a7e167": {
          "model_module": "@jupyter-widgets/base",
          "model_name": "LayoutModel",
          "state": {
            "_view_name": "LayoutView",
            "grid_template_rows": null,
            "right": null,
            "justify_content": null,
            "_view_module": "@jupyter-widgets/base",
            "overflow": null,
            "_model_module_version": "1.2.0",
            "_view_count": null,
            "flex_flow": null,
            "width": null,
            "min_width": null,
            "border": null,
            "align_items": null,
            "bottom": null,
            "_model_module": "@jupyter-widgets/base",
            "top": null,
            "grid_column": null,
            "overflow_y": null,
            "overflow_x": null,
            "grid_auto_flow": null,
            "grid_area": null,
            "grid_template_columns": null,
            "flex": null,
            "_model_name": "LayoutModel",
            "justify_items": null,
            "grid_row": null,
            "max_height": null,
            "align_content": null,
            "visibility": null,
            "align_self": null,
            "height": null,
            "min_height": null,
            "padding": null,
            "grid_auto_rows": null,
            "grid_gap": null,
            "max_width": null,
            "order": null,
            "_view_module_version": "1.2.0",
            "grid_template_areas": null,
            "object_position": null,
            "object_fit": null,
            "grid_auto_columns": null,
            "margin": null,
            "display": null,
            "left": null
          }
        },
        "de21915504234c479d493b4f347c2f25": {
          "model_module": "@jupyter-widgets/controls",
          "model_name": "HBoxModel",
          "state": {
            "_view_name": "HBoxView",
            "_dom_classes": [],
            "_model_name": "HBoxModel",
            "_view_module": "@jupyter-widgets/controls",
            "_model_module_version": "1.5.0",
            "_view_count": null,
            "_view_module_version": "1.5.0",
            "box_style": "",
            "layout": "IPY_MODEL_61c6b6168ea34a33bd1252ffb90e526c",
            "_model_module": "@jupyter-widgets/controls",
            "children": [
              "IPY_MODEL_13bf3c7e2b9e469a931aafb53e0e7c07",
              "IPY_MODEL_b0ad986e77e347ae9e4f20ca178e6f6b"
            ]
          }
        },
        "61c6b6168ea34a33bd1252ffb90e526c": {
          "model_module": "@jupyter-widgets/base",
          "model_name": "LayoutModel",
          "state": {
            "_view_name": "LayoutView",
            "grid_template_rows": null,
            "right": null,
            "justify_content": null,
            "_view_module": "@jupyter-widgets/base",
            "overflow": null,
            "_model_module_version": "1.2.0",
            "_view_count": null,
            "flex_flow": null,
            "width": null,
            "min_width": null,
            "border": null,
            "align_items": null,
            "bottom": null,
            "_model_module": "@jupyter-widgets/base",
            "top": null,
            "grid_column": null,
            "overflow_y": null,
            "overflow_x": null,
            "grid_auto_flow": null,
            "grid_area": null,
            "grid_template_columns": null,
            "flex": null,
            "_model_name": "LayoutModel",
            "justify_items": null,
            "grid_row": null,
            "max_height": null,
            "align_content": null,
            "visibility": null,
            "align_self": null,
            "height": null,
            "min_height": null,
            "padding": null,
            "grid_auto_rows": null,
            "grid_gap": null,
            "max_width": null,
            "order": null,
            "_view_module_version": "1.2.0",
            "grid_template_areas": null,
            "object_position": null,
            "object_fit": null,
            "grid_auto_columns": null,
            "margin": null,
            "display": null,
            "left": null
          }
        },
        "13bf3c7e2b9e469a931aafb53e0e7c07": {
          "model_module": "@jupyter-widgets/controls",
          "model_name": "FloatProgressModel",
          "state": {
            "_view_name": "ProgressView",
            "style": "IPY_MODEL_a6a89c54c9744aa39a643499d29ab9c2",
            "_dom_classes": [],
            "description": "",
            "_model_name": "FloatProgressModel",
            "bar_style": "success",
            "max": 1,
            "_view_module": "@jupyter-widgets/controls",
            "_model_module_version": "1.5.0",
            "value": 1,
            "_view_count": null,
            "_view_module_version": "1.5.0",
            "orientation": "horizontal",
            "min": 0,
            "description_tooltip": null,
            "_model_module": "@jupyter-widgets/controls",
            "layout": "IPY_MODEL_86929db5c2ba4d329da71a9a07817c06"
          }
        },
        "b0ad986e77e347ae9e4f20ca178e6f6b": {
          "model_module": "@jupyter-widgets/controls",
          "model_name": "HTMLModel",
          "state": {
            "_view_name": "HTMLView",
            "style": "IPY_MODEL_49bdd63f934049b497d2d3de693679ff",
            "_dom_classes": [],
            "description": "",
            "_model_name": "HTMLModel",
            "placeholder": "​",
            "_view_module": "@jupyter-widgets/controls",
            "_model_module_version": "1.5.0",
            "value": " 442/? [5:59:20&lt;00:00, 48.78s/it]",
            "_view_count": null,
            "_view_module_version": "1.5.0",
            "description_tooltip": null,
            "_model_module": "@jupyter-widgets/controls",
            "layout": "IPY_MODEL_de21d60eefc24407b76bf9373a021dae"
          }
        },
        "a6a89c54c9744aa39a643499d29ab9c2": {
          "model_module": "@jupyter-widgets/controls",
          "model_name": "ProgressStyleModel",
          "state": {
            "_view_name": "StyleView",
            "_model_name": "ProgressStyleModel",
            "description_width": "initial",
            "_view_module": "@jupyter-widgets/base",
            "_model_module_version": "1.5.0",
            "_view_count": null,
            "_view_module_version": "1.2.0",
            "bar_color": null,
            "_model_module": "@jupyter-widgets/controls"
          }
        },
        "86929db5c2ba4d329da71a9a07817c06": {
          "model_module": "@jupyter-widgets/base",
          "model_name": "LayoutModel",
          "state": {
            "_view_name": "LayoutView",
            "grid_template_rows": null,
            "right": null,
            "justify_content": null,
            "_view_module": "@jupyter-widgets/base",
            "overflow": null,
            "_model_module_version": "1.2.0",
            "_view_count": null,
            "flex_flow": null,
            "width": null,
            "min_width": null,
            "border": null,
            "align_items": null,
            "bottom": null,
            "_model_module": "@jupyter-widgets/base",
            "top": null,
            "grid_column": null,
            "overflow_y": null,
            "overflow_x": null,
            "grid_auto_flow": null,
            "grid_area": null,
            "grid_template_columns": null,
            "flex": null,
            "_model_name": "LayoutModel",
            "justify_items": null,
            "grid_row": null,
            "max_height": null,
            "align_content": null,
            "visibility": null,
            "align_self": null,
            "height": null,
            "min_height": null,
            "padding": null,
            "grid_auto_rows": null,
            "grid_gap": null,
            "max_width": null,
            "order": null,
            "_view_module_version": "1.2.0",
            "grid_template_areas": null,
            "object_position": null,
            "object_fit": null,
            "grid_auto_columns": null,
            "margin": null,
            "display": null,
            "left": null
          }
        },
        "49bdd63f934049b497d2d3de693679ff": {
          "model_module": "@jupyter-widgets/controls",
          "model_name": "DescriptionStyleModel",
          "state": {
            "_view_name": "StyleView",
            "_model_name": "DescriptionStyleModel",
            "description_width": "",
            "_view_module": "@jupyter-widgets/base",
            "_model_module_version": "1.5.0",
            "_view_count": null,
            "_view_module_version": "1.2.0",
            "_model_module": "@jupyter-widgets/controls"
          }
        },
        "de21d60eefc24407b76bf9373a021dae": {
          "model_module": "@jupyter-widgets/base",
          "model_name": "LayoutModel",
          "state": {
            "_view_name": "LayoutView",
            "grid_template_rows": null,
            "right": null,
            "justify_content": null,
            "_view_module": "@jupyter-widgets/base",
            "overflow": null,
            "_model_module_version": "1.2.0",
            "_view_count": null,
            "flex_flow": null,
            "width": null,
            "min_width": null,
            "border": null,
            "align_items": null,
            "bottom": null,
            "_model_module": "@jupyter-widgets/base",
            "top": null,
            "grid_column": null,
            "overflow_y": null,
            "overflow_x": null,
            "grid_auto_flow": null,
            "grid_area": null,
            "grid_template_columns": null,
            "flex": null,
            "_model_name": "LayoutModel",
            "justify_items": null,
            "grid_row": null,
            "max_height": null,
            "align_content": null,
            "visibility": null,
            "align_self": null,
            "height": null,
            "min_height": null,
            "padding": null,
            "grid_auto_rows": null,
            "grid_gap": null,
            "max_width": null,
            "order": null,
            "_view_module_version": "1.2.0",
            "grid_template_areas": null,
            "object_position": null,
            "object_fit": null,
            "grid_auto_columns": null,
            "margin": null,
            "display": null,
            "left": null
          }
        }
      }
    }
  },
  "cells": [
    {
      "cell_type": "markdown",
      "metadata": {
        "id": "aGblc_oAwkmB",
        "colab_type": "text"
      },
      "source": [
        "# TECH VENDOR PROFILER"
      ]
    },
    {
      "cell_type": "markdown",
      "metadata": {
        "id": "Co_3FN4Eq5Ca",
        "colab_type": "text"
      },
      "source": [
        "---\n",
        "#Preparation"
      ]
    },
    {
      "cell_type": "markdown",
      "metadata": {
        "id": "IF7f8pQZ5n8O",
        "colab_type": "text"
      },
      "source": [
        "## Installing packages"
      ]
    },
    {
      "cell_type": "code",
      "metadata": {
        "id": "DveJ5GtB7Lhw",
        "colab_type": "code",
        "colab": {
          "base_uri": "https://localhost:8080/",
          "height": 1000
        },
        "outputId": "3bdf34b9-1e26-47b8-b664-b88faa9fe9ec"
      },
      "source": [
        "!pip install selenium\n",
        "!apt-get update\n",
        "!apt install chromium-chromedriver\n",
        "!cp /usr/lib/chromium-browser/chromedriver /usr/bin"
      ],
      "execution_count": 1,
      "outputs": [
        {
          "output_type": "stream",
          "text": [
            "Collecting selenium\n",
            "\u001b[?25l  Downloading https://files.pythonhosted.org/packages/80/d6/4294f0b4bce4de0abf13e17190289f9d0613b0a44e5dd6a7f5ca98459853/selenium-3.141.0-py2.py3-none-any.whl (904kB)\n",
            "\u001b[K     |████████████████████████████████| 911kB 4.5MB/s \n",
            "\u001b[?25hRequirement already satisfied: urllib3 in /usr/local/lib/python3.6/dist-packages (from selenium) (1.24.3)\n",
            "Installing collected packages: selenium\n",
            "Successfully installed selenium-3.141.0\n",
            "Get:1 https://cloud.r-project.org/bin/linux/ubuntu bionic-cran35/ InRelease [3,626 B]\n",
            "Ign:2 https://developer.download.nvidia.com/compute/cuda/repos/ubuntu1804/x86_64  InRelease\n",
            "Ign:3 https://developer.download.nvidia.com/compute/machine-learning/repos/ubuntu1804/x86_64  InRelease\n",
            "Hit:4 https://developer.download.nvidia.com/compute/cuda/repos/ubuntu1804/x86_64  Release\n",
            "Hit:5 https://developer.download.nvidia.com/compute/machine-learning/repos/ubuntu1804/x86_64  Release\n",
            "Get:6 http://ppa.launchpad.net/graphics-drivers/ppa/ubuntu bionic InRelease [21.3 kB]\n",
            "Get:7 http://security.ubuntu.com/ubuntu bionic-security InRelease [88.7 kB]\n",
            "Hit:8 http://archive.ubuntu.com/ubuntu bionic InRelease\n",
            "Get:9 http://archive.ubuntu.com/ubuntu bionic-updates InRelease [88.7 kB]\n",
            "Get:11 http://ppa.launchpad.net/marutter/c2d4u3.5/ubuntu bionic InRelease [15.4 kB]\n",
            "Get:13 http://archive.ubuntu.com/ubuntu bionic-backports InRelease [74.6 kB]\n",
            "Get:14 http://ppa.launchpad.net/graphics-drivers/ppa/ubuntu bionic/main amd64 Packages [43.3 kB]\n",
            "Get:15 http://security.ubuntu.com/ubuntu bionic-security/restricted amd64 Packages [97.8 kB]\n",
            "Get:16 http://security.ubuntu.com/ubuntu bionic-security/multiverse amd64 Packages [9,279 B]\n",
            "Get:17 http://security.ubuntu.com/ubuntu bionic-security/main amd64 Packages [1,022 kB]\n",
            "Get:18 http://ppa.launchpad.net/marutter/c2d4u3.5/ubuntu bionic/main Sources [1,849 kB]\n",
            "Get:19 http://archive.ubuntu.com/ubuntu bionic-updates/multiverse amd64 Packages [13.6 kB]\n",
            "Get:20 http://archive.ubuntu.com/ubuntu bionic-updates/restricted amd64 Packages [111 kB]\n",
            "Get:21 http://archive.ubuntu.com/ubuntu bionic-updates/main amd64 Packages [1,321 kB]\n",
            "Get:22 http://security.ubuntu.com/ubuntu bionic-security/universe amd64 Packages [870 kB]\n",
            "Get:23 http://archive.ubuntu.com/ubuntu bionic-updates/universe amd64 Packages [1,409 kB]\n",
            "Get:24 http://archive.ubuntu.com/ubuntu bionic-backports/universe amd64 Packages [8,432 B]\n",
            "Get:25 http://ppa.launchpad.net/marutter/c2d4u3.5/ubuntu bionic/main amd64 Packages [893 kB]\n",
            "Fetched 7,939 kB in 4s (1,801 kB/s)\n",
            "Reading package lists... Done\n",
            "Reading package lists... Done\n",
            "Building dependency tree       \n",
            "Reading state information... Done\n",
            "The following package was automatically installed and is no longer required:\n",
            "  libnvidia-common-440\n",
            "Use 'apt autoremove' to remove it.\n",
            "The following additional packages will be installed:\n",
            "  chromium-browser chromium-browser-l10n chromium-codecs-ffmpeg-extra\n",
            "Suggested packages:\n",
            "  webaccounts-chromium-extension unity-chromium-extension adobe-flashplugin\n",
            "The following NEW packages will be installed:\n",
            "  chromium-browser chromium-browser-l10n chromium-chromedriver\n",
            "  chromium-codecs-ffmpeg-extra\n",
            "0 upgraded, 4 newly installed, 0 to remove and 99 not upgraded.\n",
            "Need to get 75.5 MB of archives.\n",
            "After this operation, 256 MB of additional disk space will be used.\n",
            "Get:1 http://archive.ubuntu.com/ubuntu bionic-updates/universe amd64 chromium-codecs-ffmpeg-extra amd64 83.0.4103.61-0ubuntu0.18.04.1 [1,119 kB]\n",
            "Get:2 http://archive.ubuntu.com/ubuntu bionic-updates/universe amd64 chromium-browser amd64 83.0.4103.61-0ubuntu0.18.04.1 [66.7 MB]\n",
            "Get:3 http://archive.ubuntu.com/ubuntu bionic-updates/universe amd64 chromium-browser-l10n all 83.0.4103.61-0ubuntu0.18.04.1 [3,378 kB]\n",
            "Get:4 http://archive.ubuntu.com/ubuntu bionic-updates/universe amd64 chromium-chromedriver amd64 83.0.4103.61-0ubuntu0.18.04.1 [4,294 kB]\n",
            "Fetched 75.5 MB in 5s (14.1 MB/s)\n",
            "Selecting previously unselected package chromium-codecs-ffmpeg-extra.\n",
            "(Reading database ... 144465 files and directories currently installed.)\n",
            "Preparing to unpack .../chromium-codecs-ffmpeg-extra_83.0.4103.61-0ubuntu0.18.04.1_amd64.deb ...\n",
            "Unpacking chromium-codecs-ffmpeg-extra (83.0.4103.61-0ubuntu0.18.04.1) ...\n",
            "Selecting previously unselected package chromium-browser.\n",
            "Preparing to unpack .../chromium-browser_83.0.4103.61-0ubuntu0.18.04.1_amd64.deb ...\n",
            "Unpacking chromium-browser (83.0.4103.61-0ubuntu0.18.04.1) ...\n",
            "Selecting previously unselected package chromium-browser-l10n.\n",
            "Preparing to unpack .../chromium-browser-l10n_83.0.4103.61-0ubuntu0.18.04.1_all.deb ...\n",
            "Unpacking chromium-browser-l10n (83.0.4103.61-0ubuntu0.18.04.1) ...\n",
            "Selecting previously unselected package chromium-chromedriver.\n",
            "Preparing to unpack .../chromium-chromedriver_83.0.4103.61-0ubuntu0.18.04.1_amd64.deb ...\n",
            "Unpacking chromium-chromedriver (83.0.4103.61-0ubuntu0.18.04.1) ...\n",
            "Setting up chromium-codecs-ffmpeg-extra (83.0.4103.61-0ubuntu0.18.04.1) ...\n",
            "Setting up chromium-browser (83.0.4103.61-0ubuntu0.18.04.1) ...\n",
            "update-alternatives: using /usr/bin/chromium-browser to provide /usr/bin/x-www-browser (x-www-browser) in auto mode\n",
            "update-alternatives: using /usr/bin/chromium-browser to provide /usr/bin/gnome-www-browser (gnome-www-browser) in auto mode\n",
            "Setting up chromium-chromedriver (83.0.4103.61-0ubuntu0.18.04.1) ...\n",
            "Setting up chromium-browser-l10n (83.0.4103.61-0ubuntu0.18.04.1) ...\n",
            "Processing triggers for hicolor-icon-theme (0.17-2) ...\n",
            "Processing triggers for mime-support (3.60ubuntu1) ...\n",
            "Processing triggers for man-db (2.8.3-2ubuntu0.1) ...\n",
            "cp: '/usr/lib/chromium-browser/chromedriver' and '/usr/bin/chromedriver' are the same file\n"
          ],
          "name": "stdout"
        }
      ]
    },
    {
      "cell_type": "markdown",
      "metadata": {
        "id": "4BbTeMec532p",
        "colab_type": "text"
      },
      "source": [
        "## Importing libraries and modules"
      ]
    },
    {
      "cell_type": "code",
      "metadata": {
        "id": "cjIon1FVgkq3",
        "colab_type": "code",
        "colab": {}
      },
      "source": [
        "import sys\n",
        "sys.path.insert(0,'/usr/lib/chromium-browser/chromedriver')\n",
        "from selenium import webdriver\n",
        "from tqdm import tqdm_notebook as tqdm\n",
        "import pandas as pd\n",
        "import json\n",
        "import datetime as dt\n",
        "import matplotlib.pyplot as plt\n",
        "import matplotlib.image as mpimg\n",
        "import numpy as np\n",
        "from selenium.webdriver.common.by import By\n",
        "from selenium.webdriver.support.ui import WebDriverWait\n",
        "from selenium.webdriver.support import expected_conditions as EC\n",
        "import time\n",
        "import random\n",
        "import pprint\n",
        "import re\n",
        "import warnings\n",
        "import math\n",
        "warnings.filterwarnings(\"ignore\")"
      ],
      "execution_count": 2,
      "outputs": []
    },
    {
      "cell_type": "code",
      "metadata": {
        "id": "4SX_10Sngn0p",
        "colab_type": "code",
        "colab": {}
      },
      "source": [
        "chrome_options = webdriver.ChromeOptions()\n",
        "chrome_options.add_argument('--headless')\n",
        "chrome_options.add_argument('--no-sandbox')\n",
        "chrome_options.add_argument('--disable-dev-shm-usage')"
      ],
      "execution_count": 5,
      "outputs": []
    },
    {
      "cell_type": "markdown",
      "metadata": {
        "id": "3CXDdtC2JVyr",
        "colab_type": "text"
      },
      "source": [
        "## Global functions"
      ]
    },
    {
      "cell_type": "code",
      "metadata": {
        "id": "EIv2iSrd9Zaz",
        "colab_type": "code",
        "colab": {}
      },
      "source": [
        "#Function to generate a report with the percentage of missing values for each field that has one missing value at least\n",
        "\n",
        "def print_missing_valuePerc(ds):\n",
        "    field_list = [] \n",
        "    field_list = ds.columns[ds.isnull().any()].tolist()\n",
        "    for r in field_list:\n",
        "        print(round(ds[r].isnull().sum()/ds.shape[0],6)*100, \"% of records has missing value in the field\",r)\n",
        "        \n",
        "#Function to describe all statistics feature of the dataset\n",
        "\n",
        "def display_all(df):\n",
        "    with pd.option_context(\"display.max_rows\", 1000, \"display.max_columns\", 1000): \n",
        "        display(df)  \n",
        " #Function that takes and show a screenshot of the webpage where the ghost driver is on \n",
        "\n",
        "def webpage_shot():\n",
        "    wd.save_screenshot('screenshot.png')\n",
        "    %pylab inline\n",
        "    img=mpimg.imread('/content/screenshot.png')\n",
        "    imgplot = plt.imshow(img)\n",
        "    print(wd.title)\n",
        "    return plt.show()"
      ],
      "execution_count": 24,
      "outputs": []
    },
    {
      "cell_type": "markdown",
      "metadata": {
        "id": "LGHTONWM5-iz",
        "colab_type": "text"
      },
      "source": [
        "## Set global constants"
      ]
    },
    {
      "cell_type": "code",
      "metadata": {
        "id": "WQmD8ab06Dxi",
        "colab_type": "code",
        "colab": {}
      },
      "source": [
        "vendor1 = \"MediaWorld\"\n",
        "vendor2 = \"Unieuro\" \n",
        "linkMediaWorld = \"https://www.mediaworld.it/catalogo/telefonia/smartphone-e-cellulari/smartphone\"\n",
        "linkUnieuro = \"https://www.unieuro.it/online/Telefonia-e-Smartphone/Smartphone-e-Cellulari/Smartphone\"\n",
        "scrWidth = 1920\n",
        "scrHeight = 1080\n",
        "delay = 10"
      ],
      "execution_count": 6,
      "outputs": []
    },
    {
      "cell_type": "markdown",
      "metadata": {
        "id": "AKohQG8THPhE",
        "colab_type": "text"
      },
      "source": [
        "---\n",
        "# Extraction - MediaWorld scraping"
      ]
    },
    {
      "cell_type": "code",
      "metadata": {
        "id": "CxpR8TIfHV9u",
        "colab_type": "code",
        "colab": {
          "base_uri": "https://localhost:8080/",
          "height": 34
        },
        "outputId": "eced07a5-0b32-4478-c5ee-32bc860fa0f6"
      },
      "source": [
        "wd = webdriver.Chrome('chromedriver',chrome_options=chrome_options)\n",
        "wd.set_window_size(scrWidth, scrHeight)\n",
        "wd.get(linkMediaWorld)\n",
        "time.sleep(delay)\n",
        "list_mediaworld_smartphone = wd.find_elements_by_css_selector(\"div.main-content.is-catalog-page > div.search-product-list.js-comp.active > div.search-product-list-content.display-mode-list.active > article\")\n",
        "print(len(list_mediaworld_smartphone))"
      ],
      "execution_count": 7,
      "outputs": [
        {
          "output_type": "stream",
          "text": [
            "24\n"
          ],
          "name": "stdout"
        }
      ]
    },
    {
      "cell_type": "markdown",
      "metadata": {
        "id": "FKHB7hFpD6ab",
        "colab_type": "text"
      },
      "source": [
        "24 products per page"
      ]
    },
    {
      "cell_type": "code",
      "metadata": {
        "id": "pa-6eVxuBfwF",
        "colab_type": "code",
        "colab": {
          "base_uri": "https://localhost:8080/",
          "height": 276
        },
        "outputId": "abdf3024-b89f-46bf-8ac4-2babdb4890bb"
      },
      "source": [
        "webpage_shot()"
      ],
      "execution_count": null,
      "outputs": [
        {
          "output_type": "stream",
          "text": [
            "Populating the interactive namespace from numpy and matplotlib\n",
            "Migliori Smartphone Offerte e Prezzi | Mediaworld.it\n"
          ],
          "name": "stdout"
        },
        {
          "output_type": "display_data",
          "data": {
            "image/png": "[encoded data removed]",
            "text/plain": [
              "<Figure size 432x288 with 1 Axes>"
            ]
          },
          "metadata": {
            "tags": [],
            "needs_background": "light"
          }
        }
      ]
    },
    {
      "cell_type": "markdown",
      "metadata": {
        "id": "oj1k-DpmtVvR",
        "colab_type": "text"
      },
      "source": [
        "Function that retrieves all the products link of the products along the pages. \n",
        "I set original price equal to the current price if the product is not discounted"
      ]
    },
    {
      "cell_type": "code",
      "metadata": {
        "id": "2Gq4iWQVB8Xv",
        "colab_type": "code",
        "colab": {}
      },
      "source": [
        "def get_product_info_MediaWorld(s,tms):\n",
        "  url = \"\"\n",
        "  product_name = \"\"\n",
        "  product_category = \"\"\n",
        "  original_price = \"\"\n",
        "  price = \"\"\n",
        "\n",
        "  try:\n",
        "      url = s.find_elements_by_css_selector(\"div.col-2 h3.product-name a\")[0].get_attribute(\"href\")\n",
        "      product_name = s.find_elements_by_css_selector(\"div.col-2 h3.product-name a\")[0].text\n",
        "      product_category = s.find_elements_by_css_selector(\"div.col-2 p.product-category\")[0].text\n",
        "      if (len(s.find_elements_by_css_selector(\"div.col-3 span.full-price.mw-price.strikeout.enhanced\")) == 1):\n",
        "             original_price = s.find_elements_by_css_selector(\"div.col-3 span.full-price.mw-price.strikeout.enhanced\")[0].text.replace(',','.')\n",
        "      else:\n",
        "             original_price = price = s.find_elements_by_css_selector(\"div.price-container span\")[0].text.replace(',','.')        \n",
        "      price = s.find_elements_by_css_selector(\"div.price-container span\")[0].text.replace(',','.')   \n",
        "  except:\n",
        "    pass\n",
        "  return {'tms_loading': tms_loading,\n",
        "          'vendor': vendor1,\n",
        "          'url': url,\n",
        "          'product_name': product_name,\n",
        "          'product_category': product_category,\n",
        "          'original_price': original_price,\n",
        "          'price': price}"
      ],
      "execution_count": 8,
      "outputs": []
    },
    {
      "cell_type": "markdown",
      "metadata": {
        "id": "RuzvCLSPolrt",
        "colab_type": "text"
      },
      "source": [
        "Find the total number of pages to scrape"
      ]
    },
    {
      "cell_type": "code",
      "metadata": {
        "id": "bahXlpP8Q56z",
        "colab_type": "code",
        "colab": {
          "base_uri": "https://localhost:8080/",
          "height": 34
        },
        "outputId": "5d6f851f-1287-41b1-a3a4-2302c28118cb"
      },
      "source": [
        "count_products = wd.find_elements_by_css_selector(\"li.active\")[0].text\n",
        "total_count_products = re.sub('(\\)|\\(|Prodotti )','',count_products)\n",
        "products_per_page = wd.find_elements_by_css_selector(\"span.pagination.top > span.pages\")[0].get_attribute(\"data-pagination-count\")\n",
        "total_pages_mediaworld = math.ceil(int(total_count_products)/int(products_per_page))\n",
        "print(total_pages_mediaworld)"
      ],
      "execution_count": 9,
      "outputs": [
        {
          "output_type": "stream",
          "text": [
            "13\n"
          ],
          "name": "stdout"
        }
      ]
    },
    {
      "cell_type": "markdown",
      "metadata": {
        "id": "cKtzkYHrt0cz",
        "colab_type": "text"
      },
      "source": [
        "Collecting all the links related to every singles product. The link will be used to access to its proper page and get additional data"
      ]
    },
    {
      "cell_type": "code",
      "metadata": {
        "id": "xc22LlcNrZHj",
        "colab_type": "code",
        "colab": {
          "base_uri": "https://localhost:8080/",
          "height": 83,
          "referenced_widgets": [
            "5b4127886d524b03a855f1e93734a86b",
            "6cbc11d21bfd47ceaa93442f75c1f65f",
            "f7af4b63a24640aca78ac00297f53bf0",
            "87cea137070849c4b021cb1a1f07badc",
            "21222708919c4bb4b3be4679910904ff",
            "08b4feae30644dbf97b574a271c4ad01",
            "ab9a6e869e2d446fbde6109fbd8d53ab",
            "180daf881f594faeb54cda291a64c18b"
          ]
        },
        "outputId": "c6397eee-857e-474f-ed40-c4c997adf55a"
      },
      "source": [
        "all_mediaworld_phones = []\n",
        "\n",
        "tms_loading = dt.datetime.now()\n",
        "\n",
        "for num in tqdm(range(1,total_pages_mediaworld + 1)):\n",
        "  wd.get(f\"https://www.mediaworld.it/catalogo/telefonia/smartphone-e-cellulari/smartphone?pageNumber={num}\")\n",
        "  time.sleep(20)\n",
        "  list_mediaworld_smartphone = wd.find_elements_by_css_selector(\"div.main-content.is-catalog-page > div.search-product-list.js-comp.active > div.search-product-list-content.display-mode-list.active > article\")\n",
        "  for s in list_mediaworld_smartphone:\n",
        "    all_mediaworld_phones.append(get_product_info_MediaWorld(s,tms_loading))\n",
        "\n",
        "print('Total collected products: ' + str(len(all_mediaworld_phones)) + '/' + str(total_count_products))"
      ],
      "execution_count": 10,
      "outputs": [
        {
          "output_type": "display_data",
          "data": {
            "application/vnd.jupyter.widget-view+json": {
              "model_id": "5b4127886d524b03a855f1e93734a86b",
              "version_minor": 0,
              "version_major": 2
            },
            "text/plain": [
              "HBox(children=(FloatProgress(value=0.0, max=13.0), HTML(value='')))"
            ]
          },
          "metadata": {
            "tags": []
          }
        },
        {
          "output_type": "stream",
          "text": [
            "\n",
            "Total collected products: 290/293\n"
          ],
          "name": "stdout"
        }
      ]
    },
    {
      "cell_type": "markdown",
      "metadata": {
        "id": "YV3z_lpspbXt",
        "colab_type": "text"
      },
      "source": [
        "Setting a dataframe to collect the products which have just been scraped"
      ]
    },
    {
      "cell_type": "code",
      "metadata": {
        "id": "gVb8hlfdsXnW",
        "colab_type": "code",
        "colab": {
          "base_uri": "https://localhost:8080/",
          "height": 197
        },
        "outputId": "b23e84bc-341e-449d-d8a7-e9ed48de1851"
      },
      "source": [
        "ds_all_mediaworld_phones = pd.DataFrame(all_mediaworld_phones)\n",
        "ds_all_mediaworld_phones.tail()"
      ],
      "execution_count": 11,
      "outputs": [
        {
          "output_type": "execute_result",
          "data": {
            "text/html": [
              "<div>\n",
              "<style scoped>\n",
              "    .dataframe tbody tr th:only-of-type {\n",
              "        vertical-align: middle;\n",
              "    }\n",
              "\n",
              "    .dataframe tbody tr th {\n",
              "        vertical-align: top;\n",
              "    }\n",
              "\n",
              "    .dataframe thead th {\n",
              "        text-align: right;\n",
              "    }\n",
              "</style>\n",
              "<table border=\"1\" class=\"dataframe\">\n",
              "  <thead>\n",
              "    <tr style=\"text-align: right;\">\n",
              "      <th></th>\n",
              "      <th>tms_loading</th>\n",
              "      <th>vendor</th>\n",
              "      <th>url</th>\n",
              "      <th>product_name</th>\n",
              "      <th>product_category</th>\n",
              "      <th>original_price</th>\n",
              "      <th>price</th>\n",
              "    </tr>\n",
              "  </thead>\n",
              "  <tbody>\n",
              "    <tr>\n",
              "      <th>285</th>\n",
              "      <td>2020-07-23 11:47:47.640936</td>\n",
              "      <td>MediaWorld</td>\n",
              "      <td>https://www.mediaworld.it/product/p-101903/alc...</td>\n",
              "      <td>ALCATEL 1S BLUE</td>\n",
              "      <td>Smartphone Dual SIM</td>\n",
              "      <td>95.99</td>\n",
              "      <td>84.99</td>\n",
              "    </tr>\n",
              "    <tr>\n",
              "      <th>286</th>\n",
              "      <td>2020-07-23 11:47:47.640936</td>\n",
              "      <td>MediaWorld</td>\n",
              "      <td>https://www.mediaworld.it/product/p-112082/app...</td>\n",
              "      <td>APPLE iPhone 11 64GB (PRODUCT)RED</td>\n",
              "      <td>Smartphone</td>\n",
              "      <td>839.00</td>\n",
              "      <td>769.00</td>\n",
              "    </tr>\n",
              "    <tr>\n",
              "      <th>287</th>\n",
              "      <td>2020-07-23 11:47:47.640936</td>\n",
              "      <td>MediaWorld</td>\n",
              "      <td>https://www.mediaworld.it/product/p-126171/hua...</td>\n",
              "      <td>HUAWEI P smart Pro Crystal</td>\n",
              "      <td>Smartphone Dual SIM</td>\n",
              "      <td>299.99</td>\n",
              "      <td>261.99</td>\n",
              "    </tr>\n",
              "    <tr>\n",
              "      <th>288</th>\n",
              "      <td>2020-07-23 11:47:47.640936</td>\n",
              "      <td>MediaWorld</td>\n",
              "      <td>https://www.mediaworld.it/product/p-131699/sam...</td>\n",
              "      <td>SAMSUNG Galaxy A31 Black</td>\n",
              "      <td>Smartphone Dual SIM</td>\n",
              "      <td>299.99</td>\n",
              "      <td>269.99</td>\n",
              "    </tr>\n",
              "    <tr>\n",
              "      <th>289</th>\n",
              "      <td>2020-07-23 11:47:47.640936</td>\n",
              "      <td>MediaWorld</td>\n",
              "      <td>https://www.mediaworld.it/product/p-131703/sam...</td>\n",
              "      <td>SAMSUNG Galaxy A31 Blue</td>\n",
              "      <td>Smartphone Dual SIM</td>\n",
              "      <td>299.99</td>\n",
              "      <td>299.99</td>\n",
              "    </tr>\n",
              "  </tbody>\n",
              "</table>\n",
              "</div>"
            ],
            "text/plain": [
              "                   tms_loading      vendor  ... original_price   price\n",
              "285 2020-07-23 11:47:47.640936  MediaWorld  ...          95.99   84.99\n",
              "286 2020-07-23 11:47:47.640936  MediaWorld  ...         839.00  769.00\n",
              "287 2020-07-23 11:47:47.640936  MediaWorld  ...         299.99  261.99\n",
              "288 2020-07-23 11:47:47.640936  MediaWorld  ...         299.99  269.99\n",
              "289 2020-07-23 11:47:47.640936  MediaWorld  ...         299.99  299.99\n",
              "\n",
              "[5 rows x 7 columns]"
            ]
          },
          "metadata": {
            "tags": []
          },
          "execution_count": 11
        }
      ]
    },
    {
      "cell_type": "code",
      "metadata": {
        "id": "P-wUZ7rRBjNc",
        "colab_type": "code",
        "colab": {
          "base_uri": "https://localhost:8080/",
          "height": 256
        },
        "outputId": "f0c9021a-4f1e-4dad-96b8-072821035123"
      },
      "source": [
        "ds_all_mediaworld_phones.info()"
      ],
      "execution_count": 12,
      "outputs": [
        {
          "output_type": "stream",
          "text": [
            "<class 'pandas.core.frame.DataFrame'>\n",
            "RangeIndex: 290 entries, 0 to 289\n",
            "Data columns (total 7 columns):\n",
            " #   Column            Non-Null Count  Dtype         \n",
            "---  ------            --------------  -----         \n",
            " 0   tms_loading       290 non-null    datetime64[ns]\n",
            " 1   vendor            290 non-null    object        \n",
            " 2   url               290 non-null    object        \n",
            " 3   product_name      290 non-null    object        \n",
            " 4   product_category  290 non-null    object        \n",
            " 5   original_price    290 non-null    object        \n",
            " 6   price             290 non-null    object        \n",
            "dtypes: datetime64[ns](1), object(6)\n",
            "memory usage: 16.0+ KB\n"
          ],
          "name": "stdout"
        }
      ]
    },
    {
      "cell_type": "code",
      "metadata": {
        "id": "Tu6Y2dyrAHRP",
        "colab_type": "code",
        "colab": {
          "base_uri": "https://localhost:8080/",
          "height": 34
        },
        "outputId": "b79a5ca2-8949-449c-f24c-518ecb1769d4"
      },
      "source": [
        "ds_all_mediaworld_phones.duplicated().sum()"
      ],
      "execution_count": 13,
      "outputs": [
        {
          "output_type": "execute_result",
          "data": {
            "text/plain": [
              "14"
            ]
          },
          "metadata": {
            "tags": []
          },
          "execution_count": 13
        }
      ]
    },
    {
      "cell_type": "markdown",
      "metadata": {
        "id": "pmsB53PUL1wl",
        "colab_type": "text"
      },
      "source": [
        "It seems that MediaWorld replicates the last product of a page to the beginning of the next page. The products are the same then i drop them from the dataset"
      ]
    },
    {
      "cell_type": "code",
      "metadata": {
        "id": "gMT1Vmv5MO5Y",
        "colab_type": "code",
        "colab": {}
      },
      "source": [
        "ds_all_mediaworld_phones = ds_all_mediaworld_phones.drop_duplicates()"
      ],
      "execution_count": 14,
      "outputs": []
    },
    {
      "cell_type": "markdown",
      "metadata": {
        "id": "xTC1Y51fuRlX",
        "colab_type": "text"
      },
      "source": [
        "This function get all the specs for every product pass as parameters"
      ]
    },
    {
      "cell_type": "code",
      "metadata": {
        "id": "yHeg0MH2BRgY",
        "colab_type": "code",
        "colab": {}
      },
      "source": [
        "def get_prod_spec_MediaWorld(prod,tms,date_loading,price,original_price,brand):\n",
        "  os = \"\"\n",
        "  ram = \"\"\n",
        "  memory = \"\"\n",
        "  brand\n",
        "  model = \"\"\n",
        "  sim = \"\"\n",
        "  color = \"\"\n",
        "  display_type = \"\"\n",
        "  display_size = \"\"\n",
        "  carrier = \"\"\n",
        "  battery_capacity = \"\"\n",
        "  weight = \"\"\n",
        "  gps = \"\"\n",
        "  a_gps = \"\"\n",
        "  dimension = \"\"\n",
        "  height = \"\"\n",
        "  width = \"\"\n",
        "  length = \"\"\n",
        "\n",
        "  check = True\n",
        "  i = 0\n",
        "\n",
        "\n",
        "  for c in prod:\n",
        "      try:\n",
        "        while True:\n",
        "          if(c.find_elements_by_css_selector(\".Tech-row__inner.Tech-row__inner__key\")[i].get_attribute(\"textContent\").strip() == \"Sistema operativo:\"):\n",
        "           os = c.find_elements_by_css_selector(\".Tech-row__inner.Tech-row__inner__value\")[i].get_attribute(\"textContent\").strip() \n",
        "          if(c.find_elements_by_css_selector(\".Tech-row__inner.Tech-row__inner__key\")[i].get_attribute(\"textContent\").strip() == \"RAM:\"):\n",
        "           ram = c.find_elements_by_css_selector(\".Tech-row__inner.Tech-row__inner__value\")[i].get_attribute(\"textContent\").strip() \n",
        "          if(c.find_elements_by_css_selector(\".Tech-row__inner.Tech-row__inner__key\")[i].get_attribute(\"textContent\").strip() == \"Modello:\"):\n",
        "           model = c.find_elements_by_css_selector(\".Tech-row__inner.Tech-row__inner__value\")[i].get_attribute(\"textContent\").strip()  \n",
        "          if(c.find_elements_by_css_selector(\".Tech-row__inner.Tech-row__inner__key\")[i].get_attribute(\"textContent\").strip() == \"Capacità interna:\"):\n",
        "           memory = c.find_elements_by_css_selector(\".Tech-row__inner.Tech-row__inner__value\")[i].get_attribute(\"textContent\").strip() \n",
        "          if(c.find_elements_by_css_selector(\".Tech-row__inner.Tech-row__inner__key\")[i].get_attribute(\"textContent\").strip() == \"Numero Sim:\"):\n",
        "           sim = c.find_elements_by_css_selector(\".Tech-row__inner.Tech-row__inner__value\")[i].get_attribute(\"textContent\").strip()     \n",
        "          if(c.find_elements_by_css_selector(\".Tech-row__inner.Tech-row__inner__key\")[i].get_attribute(\"textContent\").strip() == \"Colore:\"):\n",
        "           color = c.find_elements_by_css_selector(\".Tech-row__inner.Tech-row__inner__value\")[i].get_attribute(\"textContent\").strip() \n",
        "          if(c.find_elements_by_css_selector(\".Tech-row__inner.Tech-row__inner__key\")[i].get_attribute(\"textContent\").strip() == \"Tipologia schermo:\"):\n",
        "           display_type = c.find_elements_by_css_selector(\".Tech-row__inner.Tech-row__inner__value\")[i].get_attribute(\"textContent\").strip()  \n",
        "          if(c.find_elements_by_css_selector(\".Tech-row__inner.Tech-row__inner__key\")[i].get_attribute(\"textContent\").strip() == \"Dimensioni display ('):\"):\n",
        "           display_size = c.find_elements_by_css_selector(\".Tech-row__inner.Tech-row__inner__value\")[i].get_attribute(\"textContent\").strip()  \n",
        "          if(c.find_elements_by_css_selector(\".Tech-row__inner.Tech-row__inner__key\")[i].get_attribute(\"textContent\").strip() == \"Capacità batteria:\"):\n",
        "           battery_capacity = c.find_elements_by_css_selector(\".Tech-row__inner.Tech-row__inner__value\")[i].get_attribute(\"textContent\").strip()    \n",
        "          if(c.find_elements_by_css_selector(\".Tech-row__inner.Tech-row__inner__key\")[i].get_attribute(\"textContent\").strip() == \"Operatore:\"):\n",
        "           carrier = c.find_elements_by_css_selector(\".Tech-row__inner.Tech-row__inner__value\")[i].get_attribute(\"textContent\").strip()    \n",
        "          if(c.find_elements_by_css_selector(\".Tech-row__inner.Tech-row__inner__key\")[i].get_attribute(\"textContent\").strip() == \"Peso (kg):\"):\n",
        "           weight = c.find_elements_by_css_selector(\".Tech-row__inner.Tech-row__inner__value\")[i].get_attribute(\"textContent\").strip()     \n",
        "          if(c.find_elements_by_css_selector(\".Tech-row__inner.Tech-row__inner__key\")[i].get_attribute(\"textContent\").strip() == \"GPS:\"):\n",
        "           gps = c.find_elements_by_css_selector(\".Tech-row__inner.Tech-row__inner__value\")[i].get_attribute(\"textContent\").strip()  \n",
        "          if(c.find_elements_by_css_selector(\".Tech-row__inner.Tech-row__inner__key\")[i].get_attribute(\"textContent\").strip() == \"A-GPS:\"):\n",
        "           a_gps = c.find_elements_by_css_selector(\".Tech-row__inner.Tech-row__inner__value\")[i].get_attribute(\"textContent\").strip()  \n",
        "          if(c.find_elements_by_css_selector(\".Tech-row__inner.Tech-row__inner__key\")[i].get_attribute(\"textContent\").strip() == \"Dimensioni:\"):\n",
        "           dimension = c.find_elements_by_css_selector(\".Tech-row__inner.Tech-row__inner__value\")[i].get_attribute(\"textContent\").strip()  \n",
        "           width = dimension.split('x')[0]\n",
        "           height = dimension.split('x')[1]\n",
        "           length = dimension.split('x')[2]\n",
        "\n",
        "          i += 1\n",
        "      except:\n",
        "        check = False\n",
        "        pass\n",
        "  return {'tms_loading': tms,\n",
        "          'date_loading': date_loading,\n",
        "          'vendor': vendor1, \n",
        "          'os': os,\n",
        "          'brand': brand,\n",
        "          'model': model,\n",
        "          'price': price,\n",
        "          'original_price': original_price,\n",
        "          'ram': ram,\n",
        "          'memory': memory,\n",
        "          'sim': sim,\n",
        "          'gps': gps,\n",
        "          'a_gps': a_gps,\n",
        "          'color': color,\n",
        "          'display_type': display_type,\n",
        "          'display_size': display_size,\n",
        "          'carrier': carrier,\n",
        "          'battery_capacity': battery_capacity,\n",
        "          'height':height,\n",
        "          'width':width,\n",
        "          'length':length,\n",
        "          'weight': weight} "
      ],
      "execution_count": 15,
      "outputs": []
    },
    {
      "cell_type": "markdown",
      "metadata": {
        "id": "Yl_mZYdRvr4I",
        "colab_type": "text"
      },
      "source": [
        "Appending all specs retrieved in a list. To ensure a correct loading of the page we use the class WebDriverWait"
      ]
    },
    {
      "cell_type": "code",
      "metadata": {
        "id": "MsyFaBfCuUtq",
        "colab_type": "code",
        "colab": {
          "base_uri": "https://localhost:8080/",
          "height": 66,
          "referenced_widgets": [
            "0d0f4ae7bebb403f83175bafe2928a02",
            "f1e618a15c2a473eaa7ac7953f025f11",
            "421cabb6f870456a9f3bb0f6e9569247",
            "78aa891760a04e35a058ba67d1f694d0",
            "1f94221244d54da3aaa5448e09da9307",
            "a462619479f549a8acf77b04393d8b03",
            "f3fed09981c94686b5b4de72592c629b",
            "cf34a3c50d2a47d99ab68db974a3c6ba"
          ]
        },
        "outputId": "d35e7225-d7e4-4d2a-d80a-39245cb857d1"
      },
      "source": [
        "all_mediaworld_spec_phones = []\n",
        "\n",
        "tms_loading = dt.datetime.now()\n",
        "\n",
        "date_loading = dt.date.today()\n",
        "\n",
        "for index, project in tqdm(ds_all_mediaworld_phones.iterrows()):\n",
        "    time.sleep(np.random.randint(1,delay))\n",
        "    link = project[\"url\"]\n",
        "    price = project[\"price\"]\n",
        "    original_price = project[\"original_price\"]\n",
        "    brand = project[\"product_name\"].split(' ')[0]\n",
        "    try:\n",
        "      wd.set_window_size(scrWidth, scrHeight)\n",
        "      wd.get(link)\n",
        "      try:\n",
        "       WebDriverWait(wd, 10).until(\n",
        "          EC.element_to_be_clickable((By.CLASS_NAME, \"product-add-to-cart mw-yellow-btn btn-size-md js-add-to-cart\"))\n",
        "       )\n",
        "      except:\n",
        "        pass\n",
        "      prod = wd.find_elements_by_class_name(\"product-content-wrapper\")\n",
        "      all_mediaworld_spec_phones.append(get_prod_spec_MediaWorld(prod,tms_loading,date_loading,price,original_price,brand))\n",
        "    except Exception as e:\n",
        "      print(e) "
      ],
      "execution_count": 16,
      "outputs": [
        {
          "output_type": "display_data",
          "data": {
            "application/vnd.jupyter.widget-view+json": {
              "model_id": "0d0f4ae7bebb403f83175bafe2928a02",
              "version_minor": 0,
              "version_major": 2
            },
            "text/plain": [
              "HBox(children=(FloatProgress(value=1.0, bar_style='info', max=1.0), HTML(value='')))"
            ]
          },
          "metadata": {
            "tags": []
          }
        },
        {
          "output_type": "stream",
          "text": [
            "\n"
          ],
          "name": "stdout"
        }
      ]
    },
    {
      "cell_type": "markdown",
      "metadata": {
        "id": "oMPlyisAvrWS",
        "colab_type": "text"
      },
      "source": [
        "Put the list into a PANDAS Dataframe"
      ]
    },
    {
      "cell_type": "code",
      "metadata": {
        "id": "rS8nciCPajmB",
        "colab_type": "code",
        "colab": {
          "base_uri": "https://localhost:8080/",
          "height": 319
        },
        "outputId": "4290e938-394a-498e-a334-6fa46b415a8b"
      },
      "source": [
        "ds_spec_phones_mediaworld = pd.DataFrame(all_mediaworld_spec_phones)\n",
        "ds_spec_phones_mediaworld.head()"
      ],
      "execution_count": 17,
      "outputs": [
        {
          "output_type": "execute_result",
          "data": {
            "text/html": [
              "<div>\n",
              "<style scoped>\n",
              "    .dataframe tbody tr th:only-of-type {\n",
              "        vertical-align: middle;\n",
              "    }\n",
              "\n",
              "    .dataframe tbody tr th {\n",
              "        vertical-align: top;\n",
              "    }\n",
              "\n",
              "    .dataframe thead th {\n",
              "        text-align: right;\n",
              "    }\n",
              "</style>\n",
              "<table border=\"1\" class=\"dataframe\">\n",
              "  <thead>\n",
              "    <tr style=\"text-align: right;\">\n",
              "      <th></th>\n",
              "      <th>tms_loading</th>\n",
              "      <th>date_loading</th>\n",
              "      <th>vendor</th>\n",
              "      <th>os</th>\n",
              "      <th>brand</th>\n",
              "      <th>model</th>\n",
              "      <th>price</th>\n",
              "      <th>original_price</th>\n",
              "      <th>ram</th>\n",
              "      <th>memory</th>\n",
              "      <th>sim</th>\n",
              "      <th>gps</th>\n",
              "      <th>a_gps</th>\n",
              "      <th>color</th>\n",
              "      <th>display_type</th>\n",
              "      <th>display_size</th>\n",
              "      <th>carrier</th>\n",
              "      <th>battery_capacity</th>\n",
              "      <th>height</th>\n",
              "      <th>width</th>\n",
              "      <th>length</th>\n",
              "      <th>weight</th>\n",
              "    </tr>\n",
              "  </thead>\n",
              "  <tbody>\n",
              "    <tr>\n",
              "      <th>0</th>\n",
              "      <td>2020-07-23 11:54:52.121813</td>\n",
              "      <td>2020-07-23</td>\n",
              "      <td>MediaWorld</td>\n",
              "      <td>Android</td>\n",
              "      <td>SAMSUNG</td>\n",
              "      <td>Galaxy A20e</td>\n",
              "      <td>129.99</td>\n",
              "      <td>179.99</td>\n",
              "      <td>3 GB</td>\n",
              "      <td>32 GB</td>\n",
              "      <td>Dual SIM</td>\n",
              "      <td>Sì</td>\n",
              "      <td>Sì</td>\n",
              "      <td>Black</td>\n",
              "      <td>LCD</td>\n",
              "      <td>5,8</td>\n",
              "      <td>N.d</td>\n",
              "      <td>3000 mAh</td>\n",
              "      <td>14,74</td>\n",
              "      <td>6,97</td>\n",
              "      <td>0,84 cm</td>\n",
              "      <td>0,14</td>\n",
              "    </tr>\n",
              "    <tr>\n",
              "      <th>1</th>\n",
              "      <td>2020-07-23 11:54:52.121813</td>\n",
              "      <td>2020-07-23</td>\n",
              "      <td>MediaWorld</td>\n",
              "      <td>Android</td>\n",
              "      <td>SAMSUNG</td>\n",
              "      <td>Galaxy A71</td>\n",
              "      <td>359.00</td>\n",
              "      <td>459.00</td>\n",
              "      <td>6 GB</td>\n",
              "      <td>128 GB</td>\n",
              "      <td>Dual SIM</td>\n",
              "      <td>Sì</td>\n",
              "      <td>Sì</td>\n",
              "      <td>Black</td>\n",
              "      <td>Super AMOLED</td>\n",
              "      <td>6,7</td>\n",
              "      <td>No</td>\n",
              "      <td>4500 mAh</td>\n",
              "      <td>16,36</td>\n",
              "      <td>7,6</td>\n",
              "      <td>0,77 cm</td>\n",
              "      <td>0,179</td>\n",
              "    </tr>\n",
              "    <tr>\n",
              "      <th>2</th>\n",
              "      <td>2020-07-23 11:54:52.121813</td>\n",
              "      <td>2020-07-23</td>\n",
              "      <td>MediaWorld</td>\n",
              "      <td>Android</td>\n",
              "      <td>SAMSUNG</td>\n",
              "      <td>Galaxy S20 4G</td>\n",
              "      <td>699.00</td>\n",
              "      <td>929.00</td>\n",
              "      <td>8 GB</td>\n",
              "      <td>128 GB</td>\n",
              "      <td>Mono SIM</td>\n",
              "      <td>Sì</td>\n",
              "      <td>Sì</td>\n",
              "      <td>Grey</td>\n",
              "      <td>Dynamic AMOLED</td>\n",
              "      <td>6,2</td>\n",
              "      <td>No</td>\n",
              "      <td>4000 mAh</td>\n",
              "      <td>15,17</td>\n",
              "      <td>6,91</td>\n",
              "      <td>0,79 cm</td>\n",
              "      <td>0,163</td>\n",
              "    </tr>\n",
              "    <tr>\n",
              "      <th>3</th>\n",
              "      <td>2020-07-23 11:54:52.121813</td>\n",
              "      <td>2020-07-23</td>\n",
              "      <td>MediaWorld</td>\n",
              "      <td>Android</td>\n",
              "      <td>SAMSUNG</td>\n",
              "      <td>Galaxy A51</td>\n",
              "      <td>279.00</td>\n",
              "      <td>359.00</td>\n",
              "      <td>4 GB</td>\n",
              "      <td>128 GB</td>\n",
              "      <td>Dual SIM</td>\n",
              "      <td>Sì</td>\n",
              "      <td>Sì</td>\n",
              "      <td>Black</td>\n",
              "      <td>Super AMOLED</td>\n",
              "      <td>6,5</td>\n",
              "      <td>No</td>\n",
              "      <td>4000 mAh</td>\n",
              "      <td>15,85</td>\n",
              "      <td>7,36</td>\n",
              "      <td>0,79 cm</td>\n",
              "      <td>0,172</td>\n",
              "    </tr>\n",
              "    <tr>\n",
              "      <th>4</th>\n",
              "      <td>2020-07-23 11:54:52.121813</td>\n",
              "      <td>2020-07-23</td>\n",
              "      <td>MediaWorld</td>\n",
              "      <td>Android</td>\n",
              "      <td>SAMSUNG</td>\n",
              "      <td>Galaxy A71</td>\n",
              "      <td>359.00</td>\n",
              "      <td>459.00</td>\n",
              "      <td>6 GB</td>\n",
              "      <td>128 GB</td>\n",
              "      <td>Dual SIM</td>\n",
              "      <td>Sì</td>\n",
              "      <td>Sì</td>\n",
              "      <td>Silver</td>\n",
              "      <td>Super AMOLED</td>\n",
              "      <td>6,7</td>\n",
              "      <td>No</td>\n",
              "      <td>4500 mAh</td>\n",
              "      <td>16,36</td>\n",
              "      <td>7,6</td>\n",
              "      <td>0,77 cm</td>\n",
              "      <td>0,179</td>\n",
              "    </tr>\n",
              "  </tbody>\n",
              "</table>\n",
              "</div>"
            ],
            "text/plain": [
              "                 tms_loading date_loading      vendor  ... width   length weight\n",
              "0 2020-07-23 11:54:52.121813   2020-07-23  MediaWorld  ...  6,97  0,84 cm   0,14\n",
              "1 2020-07-23 11:54:52.121813   2020-07-23  MediaWorld  ...   7,6  0,77 cm  0,179\n",
              "2 2020-07-23 11:54:52.121813   2020-07-23  MediaWorld  ...  6,91  0,79 cm  0,163\n",
              "3 2020-07-23 11:54:52.121813   2020-07-23  MediaWorld  ...  7,36  0,79 cm  0,172\n",
              "4 2020-07-23 11:54:52.121813   2020-07-23  MediaWorld  ...   7,6  0,77 cm  0,179\n",
              "\n",
              "[5 rows x 22 columns]"
            ]
          },
          "metadata": {
            "tags": []
          },
          "execution_count": 17
        }
      ]
    },
    {
      "cell_type": "code",
      "metadata": {
        "id": "INnSJOy0Bq9b",
        "colab_type": "code",
        "colab": {
          "base_uri": "https://localhost:8080/",
          "height": 512
        },
        "outputId": "9b278282-cbe8-44b1-bb54-12c4f6381e27"
      },
      "source": [
        "ds_spec_phones_mediaworld.info()"
      ],
      "execution_count": 18,
      "outputs": [
        {
          "output_type": "stream",
          "text": [
            "<class 'pandas.core.frame.DataFrame'>\n",
            "RangeIndex: 276 entries, 0 to 275\n",
            "Data columns (total 22 columns):\n",
            " #   Column            Non-Null Count  Dtype         \n",
            "---  ------            --------------  -----         \n",
            " 0   tms_loading       276 non-null    datetime64[ns]\n",
            " 1   date_loading      276 non-null    object        \n",
            " 2   vendor            276 non-null    object        \n",
            " 3   os                276 non-null    object        \n",
            " 4   brand             276 non-null    object        \n",
            " 5   model             276 non-null    object        \n",
            " 6   price             276 non-null    object        \n",
            " 7   original_price    276 non-null    object        \n",
            " 8   ram               276 non-null    object        \n",
            " 9   memory            276 non-null    object        \n",
            " 10  sim               276 non-null    object        \n",
            " 11  gps               276 non-null    object        \n",
            " 12  a_gps             276 non-null    object        \n",
            " 13  color             276 non-null    object        \n",
            " 14  display_type      276 non-null    object        \n",
            " 15  display_size      276 non-null    object        \n",
            " 16  carrier           276 non-null    object        \n",
            " 17  battery_capacity  276 non-null    object        \n",
            " 18  height            276 non-null    object        \n",
            " 19  width             276 non-null    object        \n",
            " 20  length            276 non-null    object        \n",
            " 21  weight            276 non-null    object        \n",
            "dtypes: datetime64[ns](1), object(21)\n",
            "memory usage: 47.6+ KB\n"
          ],
          "name": "stdout"
        }
      ]
    },
    {
      "cell_type": "code",
      "metadata": {
        "id": "ggF6qYyOtrMi",
        "colab_type": "code",
        "colab": {
          "base_uri": "https://localhost:8080/",
          "height": 34
        },
        "outputId": "bbb52b50-33dc-40db-9a1b-f543d989a94a"
      },
      "source": [
        "ds_all_mediaworld_phones.duplicated().sum()"
      ],
      "execution_count": 19,
      "outputs": [
        {
          "output_type": "execute_result",
          "data": {
            "text/plain": [
              "0"
            ]
          },
          "metadata": {
            "tags": []
          },
          "execution_count": 19
        }
      ]
    },
    {
      "cell_type": "code",
      "metadata": {
        "id": "kHZqGYApwidn",
        "colab_type": "code",
        "colab": {}
      },
      "source": [
        "ds_spec_phones_mediaworld.to_csv(\"ds_spec_phones_mediaworld.csv\",encoding=\"utf-8\")"
      ],
      "execution_count": 20,
      "outputs": []
    },
    {
      "cell_type": "markdown",
      "metadata": {
        "id": "rp4KsMKtCr8r",
        "colab_type": "text"
      },
      "source": [
        "---\n",
        "# Extraction - Unieuro scraping"
      ]
    },
    {
      "cell_type": "code",
      "metadata": {
        "id": "TzFbfEVBC6eP",
        "colab_type": "code",
        "colab": {
          "base_uri": "https://localhost:8080/",
          "height": 34
        },
        "outputId": "3df45b9c-cdb7-4b29-d020-d20c44659413"
      },
      "source": [
        "wd = webdriver.Chrome('chromedriver',chrome_options=chrome_options)\n",
        "wd.set_window_size(scrWidth, scrHeight)\n",
        "wd.get(linkUnieuro)\n",
        "time.sleep(delay)\n",
        "list_smartphone_unieuro = wd.find_elements_by_css_selector(\"div.items-container> section.hits > section.collapsed > article\")\n",
        "print(len(list_smartphone_unieuro))"
      ],
      "execution_count": 8,
      "outputs": [
        {
          "output_type": "stream",
          "text": [
            "32\n"
          ],
          "name": "stdout"
        }
      ]
    },
    {
      "cell_type": "code",
      "metadata": {
        "id": "U6irxjdLB_AM",
        "colab_type": "code",
        "colab": {
          "base_uri": "https://localhost:8080/",
          "height": 276
        },
        "outputId": "73db7235-922b-404e-aeae-73628acaff86"
      },
      "source": [
        "webpage_shot()"
      ],
      "execution_count": null,
      "outputs": [
        {
          "output_type": "stream",
          "text": [
            "Populating the interactive namespace from numpy and matplotlib\n",
            "Smartphone: scopri i prezzi imbattibili di Unieuro\n"
          ],
          "name": "stdout"
        },
        {
          "output_type": "display_data",
          "data": {
            "image/png": "[encoded data removed]",
            "text/plain": [
              "<Figure size 432x288 with 1 Axes>"
            ]
          },
          "metadata": {
            "tags": [],
            "needs_background": "light"
          }
        }
      ]
    },
    {
      "cell_type": "markdown",
      "metadata": {
        "id": "GFMNcpruxsxM",
        "colab_type": "text"
      },
      "source": [
        "Find the total number of pages to scrape"
      ]
    },
    {
      "cell_type": "code",
      "metadata": {
        "id": "-XIMvKpb56YZ",
        "colab_type": "code",
        "colab": {
          "base_uri": "https://localhost:8080/",
          "height": 34
        },
        "outputId": "618304bc-ca4e-415c-d044-00f2bb141389"
      },
      "source": [
        "total_results = wd.find_elements_by_css_selector(\"span.total-results\")[0].text\n",
        "total_products_unieuro = re.sub('(\\)|\\(| Prodotti)','',total_results)\n",
        "total_pages_unieuro = math.ceil(int(total_products_unieuro)/len(list_smartphone_unieuro))\n",
        "print(total_pages_unieuro)"
      ],
      "execution_count": 9,
      "outputs": [
        {
          "output_type": "stream",
          "text": [
            "14\n"
          ],
          "name": "stdout"
        }
      ]
    },
    {
      "cell_type": "markdown",
      "metadata": {
        "id": "YEUwiPZ2w2di",
        "colab_type": "text"
      },
      "source": [
        "Function that retrieves all the products link of the products along the pages. \n",
        "I set original price equal to the current price if the product is not discounted"
      ]
    },
    {
      "cell_type": "code",
      "metadata": {
        "id": "VxzuRHhCC6go",
        "colab_type": "code",
        "colab": {}
      },
      "source": [
        "def get_product_info_Unieuro(s,tms):\n",
        "  url = \"\"\n",
        "  product_name = \"\"\n",
        "  product_category = \"\"\n",
        "  original_price = \"\"\n",
        "  price = \"\"\n",
        "\n",
        "  try:\n",
        "      url = s.find_elements_by_css_selector(\"div.info div.product-img-container a\")[0].get_attribute(\"href\")\n",
        "      product_name = s.find_elements_by_css_selector(\"div.info div.title a\")[0].text\n",
        "      product_category = s.find_elements_by_css_selector(\"div.info div.category\")[0].text\n",
        "      if(len(s.find_elements_by_css_selector(\"div.info span.original-price\")) == 1):\n",
        "            original_price = s.find_elements_by_css_selector(\"div.info span.original-price\")[0].text.replace(',','.') \n",
        "      else:\n",
        "            original_price = s.find_elements_by_css_selector(\"div.info div.price\")[0].text.replace(',','.')         \n",
        "      price = s.find_elements_by_css_selector(\"div.info div.price\")[0].text.replace(',','.')   \n",
        "  except:\n",
        "    pass\n",
        "  return {'tms_loading': tms,\n",
        "          'vendor': vendor2,\n",
        "          'url': url,\n",
        "          'product_name': product_name,\n",
        "          'product_category': product_category,\n",
        "          'original_price': original_price,\n",
        "          'price': price}"
      ],
      "execution_count": 10,
      "outputs": []
    },
    {
      "cell_type": "markdown",
      "metadata": {
        "id": "HJhkqZ53x6tV",
        "colab_type": "text"
      },
      "source": [
        "Collecting all the links related to every singles product. The link will be used to access to its proper page and get additional data"
      ]
    },
    {
      "cell_type": "code",
      "metadata": {
        "id": "5BDupkCIAsLg",
        "colab_type": "code",
        "colab": {
          "base_uri": "https://localhost:8080/",
          "height": 83,
          "referenced_widgets": [
            "c0b5d0ea005d42748fea3ffdfcf742dd",
            "e56bc712288b4c52bb50c99c0fd477a4",
            "66053ffc81a8478aa9189c675e9df295",
            "166d08d5f2d844b2acf1d3f7638dc412",
            "ed58c4f48f58413fb4d2e55e4253f160",
            "e9656c4dbb5b43459867a6188939b7fd",
            "2cba95da67ba4cf0934fe9f42109d5bc",
            "a4e89a2bb80b48c78abb7f9cb8a7e167"
          ]
        },
        "outputId": "e5fa91ce-bb89-4bc6-c70f-872105fe8949"
      },
      "source": [
        "all_unieuro_phones = []\n",
        "\n",
        "tms_loading = dt.datetime.now()\n",
        "\n",
        "for num in tqdm(range(0,total_pages_unieuro)):\n",
        "  wd.get(f\"https://www.unieuro.it/online/Telefonia-e-Smartphone/Smartphone-e-Cellulari/Smartphone?p={num}&dFR[categories.lvl3][0]=C2101\")\n",
        "  time.sleep(np.random.randint(1,delay))\n",
        "  list_smartphone = wd.find_elements_by_css_selector(\"div.items-container> section.hits > section.collapsed > article\")\n",
        "  for s in list_smartphone:\n",
        "    all_unieuro_phones.append(get_product_info_Unieuro(s,tms_loading))\n",
        "\n",
        "print('Total collected products: ' + str(len(all_unieuro_phones)) + '/' + total_products_unieuro)"
      ],
      "execution_count": 11,
      "outputs": [
        {
          "output_type": "display_data",
          "data": {
            "application/vnd.jupyter.widget-view+json": {
              "model_id": "c0b5d0ea005d42748fea3ffdfcf742dd",
              "version_minor": 0,
              "version_major": 2
            },
            "text/plain": [
              "HBox(children=(FloatProgress(value=0.0, max=14.0), HTML(value='')))"
            ]
          },
          "metadata": {
            "tags": []
          }
        },
        {
          "output_type": "stream",
          "text": [
            "\n",
            "Total collected products: 442/442\n"
          ],
          "name": "stdout"
        }
      ]
    },
    {
      "cell_type": "markdown",
      "metadata": {
        "id": "luf6ArreyJIj",
        "colab_type": "text"
      },
      "source": [
        "Setting a dataframe to collect the products which have just been scraped"
      ]
    },
    {
      "cell_type": "code",
      "metadata": {
        "id": "F2GeS4JYPiee",
        "colab_type": "code",
        "colab": {
          "base_uri": "https://localhost:8080/",
          "height": 197
        },
        "outputId": "82d2904e-2cc1-4db4-baaf-05a7615ecc00"
      },
      "source": [
        "ds_unieuro_phones = pd.DataFrame(all_unieuro_phones)\n",
        "ds_unieuro_phones.head()"
      ],
      "execution_count": 12,
      "outputs": [
        {
          "output_type": "execute_result",
          "data": {
            "text/html": [
              "<div>\n",
              "<style scoped>\n",
              "    .dataframe tbody tr th:only-of-type {\n",
              "        vertical-align: middle;\n",
              "    }\n",
              "\n",
              "    .dataframe tbody tr th {\n",
              "        vertical-align: top;\n",
              "    }\n",
              "\n",
              "    .dataframe thead th {\n",
              "        text-align: right;\n",
              "    }\n",
              "</style>\n",
              "<table border=\"1\" class=\"dataframe\">\n",
              "  <thead>\n",
              "    <tr style=\"text-align: right;\">\n",
              "      <th></th>\n",
              "      <th>tms_loading</th>\n",
              "      <th>vendor</th>\n",
              "      <th>url</th>\n",
              "      <th>product_name</th>\n",
              "      <th>product_category</th>\n",
              "      <th>original_price</th>\n",
              "      <th>price</th>\n",
              "    </tr>\n",
              "  </thead>\n",
              "  <tbody>\n",
              "    <tr>\n",
              "      <th>0</th>\n",
              "      <td>2020-07-23 05:43:20.671189</td>\n",
              "      <td>Unieuro</td>\n",
              "      <td>https://www.unieuro.it/online/Smartphone/Galax...</td>\n",
              "      <td>Samsung Galaxy A51 6.5\" 4 GB 128 GB Doppia SIM...</td>\n",
              "      <td>Smartphone</td>\n",
              "      <td>€379.90</td>\n",
              "      <td>€279.00</td>\n",
              "    </tr>\n",
              "    <tr>\n",
              "      <th>1</th>\n",
              "      <td>2020-07-23 05:43:20.671189</td>\n",
              "      <td>Unieuro</td>\n",
              "      <td>https://www.unieuro.it/online/Smartphone/Galax...</td>\n",
              "      <td>Samsung Galaxy A30s , Black, 6.4, Wi-Fi 5 (802...</td>\n",
              "      <td>Smartphone</td>\n",
              "      <td>€259.90</td>\n",
              "      <td>€189.00</td>\n",
              "    </tr>\n",
              "    <tr>\n",
              "      <th>2</th>\n",
              "      <td>2020-07-23 05:43:20.671189</td>\n",
              "      <td>Unieuro</td>\n",
              "      <td>https://www.unieuro.it/online/Smartphone/Galax...</td>\n",
              "      <td>Samsung Galaxy A30s , White, 6.4, Wi-Fi 5 (802...</td>\n",
              "      <td>Smartphone</td>\n",
              "      <td>€259.90</td>\n",
              "      <td>€189.00</td>\n",
              "    </tr>\n",
              "    <tr>\n",
              "      <th>3</th>\n",
              "      <td>2020-07-23 05:43:20.671189</td>\n",
              "      <td>Unieuro</td>\n",
              "      <td>https://www.unieuro.it/online/Smartphone/Note-...</td>\n",
              "      <td>Xiaomi Redmi Note 8T 16 cm (6.3\") 4 GB 64 GB D...</td>\n",
              "      <td>Smartphone</td>\n",
              "      <td>€229.90</td>\n",
              "      <td>€169.00</td>\n",
              "    </tr>\n",
              "    <tr>\n",
              "      <th>4</th>\n",
              "      <td>2020-07-23 05:43:20.671189</td>\n",
              "      <td>Unieuro</td>\n",
              "      <td>https://www.unieuro.it/online/Smartphone/Galax...</td>\n",
              "      <td>Samsung Galaxy A71 , Black, 6.7, Wi-Fi 5 (802....</td>\n",
              "      <td>Smartphone</td>\n",
              "      <td>€509.80</td>\n",
              "      <td>€359.90</td>\n",
              "    </tr>\n",
              "  </tbody>\n",
              "</table>\n",
              "</div>"
            ],
            "text/plain": [
              "                 tms_loading   vendor  ... original_price    price\n",
              "0 2020-07-23 05:43:20.671189  Unieuro  ...        €379.90  €279.00\n",
              "1 2020-07-23 05:43:20.671189  Unieuro  ...        €259.90  €189.00\n",
              "2 2020-07-23 05:43:20.671189  Unieuro  ...        €259.90  €189.00\n",
              "3 2020-07-23 05:43:20.671189  Unieuro  ...        €229.90  €169.00\n",
              "4 2020-07-23 05:43:20.671189  Unieuro  ...        €509.80  €359.90\n",
              "\n",
              "[5 rows x 7 columns]"
            ]
          },
          "metadata": {
            "tags": []
          },
          "execution_count": 12
        }
      ]
    },
    {
      "cell_type": "code",
      "metadata": {
        "id": "QfhDp7C2CBBa",
        "colab_type": "code",
        "colab": {
          "base_uri": "https://localhost:8080/",
          "height": 256
        },
        "outputId": "1491f90a-a77a-4e7a-f74d-7546cfa64802"
      },
      "source": [
        "ds_unieuro_phones.info()"
      ],
      "execution_count": 13,
      "outputs": [
        {
          "output_type": "stream",
          "text": [
            "<class 'pandas.core.frame.DataFrame'>\n",
            "RangeIndex: 442 entries, 0 to 441\n",
            "Data columns (total 7 columns):\n",
            " #   Column            Non-Null Count  Dtype         \n",
            "---  ------            --------------  -----         \n",
            " 0   tms_loading       442 non-null    datetime64[ns]\n",
            " 1   vendor            442 non-null    object        \n",
            " 2   url               442 non-null    object        \n",
            " 3   product_name      442 non-null    object        \n",
            " 4   product_category  442 non-null    object        \n",
            " 5   original_price    442 non-null    object        \n",
            " 6   price             442 non-null    object        \n",
            "dtypes: datetime64[ns](1), object(6)\n",
            "memory usage: 24.3+ KB\n"
          ],
          "name": "stdout"
        }
      ]
    },
    {
      "cell_type": "code",
      "metadata": {
        "id": "a3VaxWQj_18s",
        "colab_type": "code",
        "colab": {
          "base_uri": "https://localhost:8080/",
          "height": 34
        },
        "outputId": "5322f39a-d1c0-4646-b7a6-34374d08dcf9"
      },
      "source": [
        "ds_unieuro_phones.duplicated().sum()"
      ],
      "execution_count": 14,
      "outputs": [
        {
          "output_type": "execute_result",
          "data": {
            "text/plain": [
              "0"
            ]
          },
          "metadata": {
            "tags": []
          },
          "execution_count": 14
        }
      ]
    },
    {
      "cell_type": "markdown",
      "metadata": {
        "id": "kpTfDSBGyQYa",
        "colab_type": "text"
      },
      "source": [
        "This function get all the specs for every product pass as parameters"
      ]
    },
    {
      "cell_type": "code",
      "metadata": {
        "id": "dVx3CbgFAGXl",
        "colab_type": "code",
        "colab": {}
      },
      "source": [
        "def get_prod_spec_Unieuro(prod,tms,date_loading,price,original_price,brand,model,carrier):\n",
        "  os = \"\"\n",
        "  ram = \"\"\n",
        "  memory = \"\"\n",
        "  sim = \"\"\n",
        "  color = \"\"\n",
        "  display_type = \"\"\n",
        "  display_size = \"\"\n",
        "  battery_capacity = \"\"\n",
        "  weight = \"\"\n",
        "  gps = \"\"\n",
        "  a_gps = \"\"\n",
        "  height = \"\"\n",
        "  width = \"\"\n",
        "  length = \"\"\n",
        "  \n",
        "  i = 0\n",
        "\n",
        "  check = True\n",
        "\n",
        "  try:\n",
        "    while check:\n",
        "      if(prod.find_elements_by_css_selector(\"span.label\")[i].text == \"Piattaforma\"):\n",
        "        os = prod.find_elements_by_css_selector(\"span.detail\")[i].text \n",
        "      if(prod.find_elements_by_css_selector(\"span.label\")[i].text == \"Capacità della RAM\"):\n",
        "        ram = prod.find_elements_by_css_selector(\"span.detail\")[i].text \n",
        "      if(prod.find_elements_by_css_selector(\"span.label\")[i].text == \"Capacità memoria interna\"):\n",
        "        memory = prod.find_elements_by_css_selector(\"span.detail\")[i].text \n",
        "      if(prod.find_elements_by_css_selector(\"span.label\")[i].text == \"Capacità della scheda SIM\"):\n",
        "        sim = prod.find_elements_by_css_selector(\"span.detail\")[i].text     \n",
        "      if(prod.find_elements_by_css_selector(\"span.label\")[i].text == \"Colore del prodotto\"):\n",
        "        color = prod.find_elements_by_css_selector(\"span.detail\")[i].text  \n",
        "      if(prod.find_elements_by_css_selector(\"span.label\")[i].text == \"Tipo di display\"):\n",
        "        display_type = prod.find_elements_by_css_selector(\"span.detail\")[i].text   \n",
        "      if(prod.find_elements_by_css_selector(\"span.label\")[i].text == \"Dimensioni schermo\"):\n",
        "        display_size = prod.find_elements_by_css_selector(\"span.detail\")[i].text   \n",
        "      if(prod.find_elements_by_css_selector(\"span.label\")[i].text == \"Capacità della batteria\"):\n",
        "       battery_capacity = prod.find_elements_by_css_selector(\"span.detail\")[i].text    \n",
        "      if(prod.find_elements_by_css_selector(\"span.label\")[i].text == \"Peso\"):\n",
        "       weight = prod.find_elements_by_css_selector(\"span.detail\")[i].text    \n",
        "      if(prod.find_elements_by_css_selector(\"span.label\")[i].text == \"GPS\"):\n",
        "       gps = prod.find_elements_by_css_selector(\"span.detail\")[i].text   \n",
        "      if(prod.find_elements_by_css_selector(\"span.label\")[i].text == \"Assistenza funzione GPS (A-GPS)\"):\n",
        "       a_gps = prod.find_elements_by_css_selector(\"span.detail\")[i].text \n",
        "      if(prod.find_elements_by_css_selector(\"span.label\")[i].text == \"Altezza\"):\n",
        "       height = prod.find_elements_by_css_selector(\"span.detail\")[i].text   \n",
        "      if(prod.find_elements_by_css_selector(\"span.label\")[i].text == \"Larghezza\"):\n",
        "       width = prod.find_elements_by_css_selector(\"span.detail\")[i].text   \n",
        "      if(prod.find_elements_by_css_selector(\"span.label\")[i].text == \"Profondità\"):\n",
        "       length = prod.find_elements_by_css_selector(\"span.detail\")[i].text   \n",
        "\n",
        "      i += 1\n",
        "\n",
        "  except:\n",
        "     check = False\n",
        "     pass\n",
        "  return {'tms_loading': tms,\n",
        "          'date_loading': date_loading,\n",
        "          'vendor': vendor2, \n",
        "          'os': os,\n",
        "          'brand': brand,  \n",
        "          'model': model,\n",
        "          'price': price,\n",
        "          'original_price': original_price,       \n",
        "          'ram': ram,\n",
        "          'memory': memory,\n",
        "          'sim': sim,\n",
        "          'gps': gps,\n",
        "          'a_gps': a_gps,\n",
        "          'color': color,\n",
        "          'display_type': display_type,\n",
        "          'display_size': display_size,\n",
        "          'carrier': carrier,\n",
        "          'battery_capacity': battery_capacity,\n",
        "          'height':height,\n",
        "          'width':width,\n",
        "          'length':length,\n",
        "          'weight': weight} "
      ],
      "execution_count": 15,
      "outputs": []
    },
    {
      "cell_type": "markdown",
      "metadata": {
        "id": "JUapflGgyV25",
        "colab_type": "text"
      },
      "source": [
        "Appending all specs retrieved in a list. To ensure a correct loading of the page we use the class WebDriverWait"
      ]
    },
    {
      "cell_type": "code",
      "metadata": {
        "id": "dETFzt9YQxcE",
        "colab_type": "code",
        "colab": {
          "base_uri": "https://localhost:8080/",
          "height": 66,
          "referenced_widgets": [
            "de21915504234c479d493b4f347c2f25",
            "61c6b6168ea34a33bd1252ffb90e526c",
            "13bf3c7e2b9e469a931aafb53e0e7c07",
            "b0ad986e77e347ae9e4f20ca178e6f6b",
            "a6a89c54c9744aa39a643499d29ab9c2",
            "86929db5c2ba4d329da71a9a07817c06",
            "49bdd63f934049b497d2d3de693679ff",
            "de21d60eefc24407b76bf9373a021dae"
          ]
        },
        "outputId": "c79d45a2-4d51-478c-f441-ae56ba84b36a"
      },
      "source": [
        "all_unieuro_spec_phones = []\n",
        "\n",
        "tms_loading = dt.datetime.now()\n",
        "\n",
        "date_loading = dt.date.today()\n",
        "\n",
        "for index, project in tqdm(ds_unieuro_phones.iterrows()):\n",
        "    time.sleep(np.random.randint(1,delay))\n",
        "    link = project[\"url\"]\n",
        "    price = project[\"price\"]\n",
        "    original_price = project[\"original_price\"]\n",
        "    product_name_ext = project[\"product_name\"]\n",
        "    product_name_no_carrier = re.sub(('Vodafone|TIM|H3G|WindTre'),'',product_name_ext,flags = re.IGNORECASE)\n",
        "    brand = product_name_no_carrier.split(' ')[0]\n",
        "    carrier = re.match(('Vodafone|TIM|H3G|WindTre'),product_name_ext,re.IGNORECASE)\n",
        "    if carrier is None:\n",
        "      carrier = 'No'\n",
        "    else:\n",
        "      carrier = carrier.group()\n",
        "    product_name_no_carrier = product_name_no_carrier.strip()  \n",
        "    product_name_no_carrier_no_brand = re.sub(brand,'',product_name_no_carrier,flags = re.IGNORECASE)\n",
        "    product_name_no_carrier_no_brand = product_name_no_carrier_no_brand.strip()\n",
        "    model_ext = re.match('(^.*?)(,|:|[0-9] cm|[0-9] GB|[0-9]\")',product_name_no_carrier_no_brand,re.IGNORECASE)\n",
        "    if model_ext is None:\n",
        "      model = product_name_no_carrier_no_brand\n",
        "    else:\n",
        "      model = re.match('.*(?=\\ )',model_ext.group(),re.IGNORECASE)\n",
        "      model = model.group()\n",
        "    try:\n",
        "      wd.set_window_size(scrWidth, scrHeight)\n",
        "      wd.get(link)\n",
        "      try:\n",
        "       WebDriverWait(wd, 10).until(\n",
        "          EC.presence_of_element_located((By.ID , \"specifications\"))\n",
        "       )\n",
        "      except:\n",
        "        pass\n",
        "      prod = wd.find_element_by_id(\"specifications\")   \n",
        "      all_unieuro_spec_phones.append(get_prod_spec_Unieuro(prod,tms_loading,date_loading,price,original_price,brand,model,carrier))\n",
        "    except Exception as e:\n",
        "      print(e) "
      ],
      "execution_count": 16,
      "outputs": [
        {
          "output_type": "display_data",
          "data": {
            "application/vnd.jupyter.widget-view+json": {
              "model_id": "de21915504234c479d493b4f347c2f25",
              "version_minor": 0,
              "version_major": 2
            },
            "text/plain": [
              "HBox(children=(FloatProgress(value=1.0, bar_style='info', max=1.0), HTML(value='')))"
            ]
          },
          "metadata": {
            "tags": []
          }
        },
        {
          "output_type": "stream",
          "text": [
            "\n"
          ],
          "name": "stdout"
        }
      ]
    },
    {
      "cell_type": "markdown",
      "metadata": {
        "id": "l1l4MsiWwJrh",
        "colab_type": "text"
      },
      "source": [
        "Put the list into a PANDAS Dataframe"
      ]
    },
    {
      "cell_type": "code",
      "metadata": {
        "id": "6xy10qLmlk0Q",
        "colab_type": "code",
        "colab": {
          "base_uri": "https://localhost:8080/",
          "height": 319
        },
        "outputId": "0d31db6b-43cf-449d-e92c-1b50efecf1ab"
      },
      "source": [
        "ds_spec_phones_unieuro = pd.DataFrame(all_unieuro_spec_phones)\n",
        "ds_spec_phones_unieuro.head()"
      ],
      "execution_count": 17,
      "outputs": [
        {
          "output_type": "execute_result",
          "data": {
            "text/html": [
              "<div>\n",
              "<style scoped>\n",
              "    .dataframe tbody tr th:only-of-type {\n",
              "        vertical-align: middle;\n",
              "    }\n",
              "\n",
              "    .dataframe tbody tr th {\n",
              "        vertical-align: top;\n",
              "    }\n",
              "\n",
              "    .dataframe thead th {\n",
              "        text-align: right;\n",
              "    }\n",
              "</style>\n",
              "<table border=\"1\" class=\"dataframe\">\n",
              "  <thead>\n",
              "    <tr style=\"text-align: right;\">\n",
              "      <th></th>\n",
              "      <th>tms_loading</th>\n",
              "      <th>date_loading</th>\n",
              "      <th>vendor</th>\n",
              "      <th>os</th>\n",
              "      <th>brand</th>\n",
              "      <th>model</th>\n",
              "      <th>price</th>\n",
              "      <th>original_price</th>\n",
              "      <th>ram</th>\n",
              "      <th>memory</th>\n",
              "      <th>sim</th>\n",
              "      <th>gps</th>\n",
              "      <th>a_gps</th>\n",
              "      <th>color</th>\n",
              "      <th>display_type</th>\n",
              "      <th>display_size</th>\n",
              "      <th>carrier</th>\n",
              "      <th>battery_capacity</th>\n",
              "      <th>height</th>\n",
              "      <th>width</th>\n",
              "      <th>length</th>\n",
              "      <th>weight</th>\n",
              "    </tr>\n",
              "  </thead>\n",
              "  <tbody>\n",
              "    <tr>\n",
              "      <th>0</th>\n",
              "      <td>2020-07-23 05:46:54.088812</td>\n",
              "      <td>2020-07-23</td>\n",
              "      <td>Unieuro</td>\n",
              "      <td>Android</td>\n",
              "      <td>Samsung</td>\n",
              "      <td>Galaxy A51</td>\n",
              "      <td>€279.00</td>\n",
              "      <td>€379.90</td>\n",
              "      <td>4   GB</td>\n",
              "      <td>128   GB</td>\n",
              "      <td>Doppia SIM</td>\n",
              "      <td>Sì</td>\n",
              "      <td>Sì</td>\n",
              "      <td>Nero</td>\n",
              "      <td>SAMOLED</td>\n",
              "      <td>6.5   \"</td>\n",
              "      <td>No</td>\n",
              "      <td>4000   mAh</td>\n",
              "      <td>158.5   mm</td>\n",
              "      <td>73.6   mm</td>\n",
              "      <td>7.9   mm</td>\n",
              "      <td>172   g</td>\n",
              "    </tr>\n",
              "    <tr>\n",
              "      <th>1</th>\n",
              "      <td>2020-07-23 05:46:54.088812</td>\n",
              "      <td>2020-07-23</td>\n",
              "      <td>Unieuro</td>\n",
              "      <td>Android</td>\n",
              "      <td>Samsung</td>\n",
              "      <td>Galaxy A30s</td>\n",
              "      <td>€189.00</td>\n",
              "      <td>€259.90</td>\n",
              "      <td>4   GB</td>\n",
              "      <td>128   GB</td>\n",
              "      <td>Doppia SIM</td>\n",
              "      <td>Sì</td>\n",
              "      <td></td>\n",
              "      <td>Nero</td>\n",
              "      <td>SAMOLED</td>\n",
              "      <td>6.4   \"</td>\n",
              "      <td>No</td>\n",
              "      <td>4000   mAh</td>\n",
              "      <td>158.5   mm</td>\n",
              "      <td>74.7   mm</td>\n",
              "      <td>7.8   mm</td>\n",
              "      <td>169   g</td>\n",
              "    </tr>\n",
              "    <tr>\n",
              "      <th>2</th>\n",
              "      <td>2020-07-23 05:46:54.088812</td>\n",
              "      <td>2020-07-23</td>\n",
              "      <td>Unieuro</td>\n",
              "      <td>Android</td>\n",
              "      <td>Samsung</td>\n",
              "      <td>Galaxy A30s</td>\n",
              "      <td>€189.00</td>\n",
              "      <td>€259.90</td>\n",
              "      <td>4   GB</td>\n",
              "      <td>128   GB</td>\n",
              "      <td>Doppia SIM</td>\n",
              "      <td>Sì</td>\n",
              "      <td>Sì</td>\n",
              "      <td>Bianco</td>\n",
              "      <td>SAMOLED</td>\n",
              "      <td>6.4   \"</td>\n",
              "      <td>No</td>\n",
              "      <td>4000   mAh</td>\n",
              "      <td>158.5   mm</td>\n",
              "      <td>74.7   mm</td>\n",
              "      <td>7.8   mm</td>\n",
              "      <td>169   g</td>\n",
              "    </tr>\n",
              "    <tr>\n",
              "      <th>3</th>\n",
              "      <td>2020-07-23 05:46:54.088812</td>\n",
              "      <td>2020-07-23</td>\n",
              "      <td>Unieuro</td>\n",
              "      <td>Android</td>\n",
              "      <td>Xiaomi</td>\n",
              "      <td>Redmi Note 8T 16</td>\n",
              "      <td>€169.00</td>\n",
              "      <td>€229.90</td>\n",
              "      <td>4   GB</td>\n",
              "      <td>64   GB</td>\n",
              "      <td>Doppia SIM</td>\n",
              "      <td>Sì</td>\n",
              "      <td>Sì</td>\n",
              "      <td>Grigio</td>\n",
              "      <td>IPS</td>\n",
              "      <td>6.3   \"</td>\n",
              "      <td>No</td>\n",
              "      <td>4000   mAh</td>\n",
              "      <td>161.15   mm</td>\n",
              "      <td>75.4   mm</td>\n",
              "      <td>8.6   mm</td>\n",
              "      <td>199.8   g</td>\n",
              "    </tr>\n",
              "    <tr>\n",
              "      <th>4</th>\n",
              "      <td>2020-07-23 05:46:54.088812</td>\n",
              "      <td>2020-07-23</td>\n",
              "      <td>Unieuro</td>\n",
              "      <td>Android</td>\n",
              "      <td>Samsung</td>\n",
              "      <td>Galaxy A71</td>\n",
              "      <td>€359.90</td>\n",
              "      <td>€509.80</td>\n",
              "      <td>6   GB</td>\n",
              "      <td>128   GB</td>\n",
              "      <td>Doppia SIM</td>\n",
              "      <td>Sì</td>\n",
              "      <td>Sì</td>\n",
              "      <td>Nero</td>\n",
              "      <td>SAMOLED</td>\n",
              "      <td>6.7   \"</td>\n",
              "      <td>No</td>\n",
              "      <td>4500   mAh</td>\n",
              "      <td>163.6   mm</td>\n",
              "      <td>76   mm</td>\n",
              "      <td>7.7   mm</td>\n",
              "      <td>179   g</td>\n",
              "    </tr>\n",
              "  </tbody>\n",
              "</table>\n",
              "</div>"
            ],
            "text/plain": [
              "                 tms_loading date_loading  ...    length     weight\n",
              "0 2020-07-23 05:46:54.088812   2020-07-23  ...  7.9   mm    172   g\n",
              "1 2020-07-23 05:46:54.088812   2020-07-23  ...  7.8   mm    169   g\n",
              "2 2020-07-23 05:46:54.088812   2020-07-23  ...  7.8   mm    169   g\n",
              "3 2020-07-23 05:46:54.088812   2020-07-23  ...  8.6   mm  199.8   g\n",
              "4 2020-07-23 05:46:54.088812   2020-07-23  ...  7.7   mm    179   g\n",
              "\n",
              "[5 rows x 22 columns]"
            ]
          },
          "metadata": {
            "tags": []
          },
          "execution_count": 17
        }
      ]
    },
    {
      "cell_type": "code",
      "metadata": {
        "id": "XCyHtUFdCEZJ",
        "colab_type": "code",
        "colab": {
          "base_uri": "https://localhost:8080/",
          "height": 512
        },
        "outputId": "e21b24f7-69d4-49d4-c37a-a0e519674c75"
      },
      "source": [
        "ds_spec_phones_unieuro.info()"
      ],
      "execution_count": 18,
      "outputs": [
        {
          "output_type": "stream",
          "text": [
            "<class 'pandas.core.frame.DataFrame'>\n",
            "RangeIndex: 442 entries, 0 to 441\n",
            "Data columns (total 22 columns):\n",
            " #   Column            Non-Null Count  Dtype         \n",
            "---  ------            --------------  -----         \n",
            " 0   tms_loading       442 non-null    datetime64[ns]\n",
            " 1   date_loading      442 non-null    object        \n",
            " 2   vendor            442 non-null    object        \n",
            " 3   os                442 non-null    object        \n",
            " 4   brand             442 non-null    object        \n",
            " 5   model             442 non-null    object        \n",
            " 6   price             442 non-null    object        \n",
            " 7   original_price    442 non-null    object        \n",
            " 8   ram               442 non-null    object        \n",
            " 9   memory            442 non-null    object        \n",
            " 10  sim               442 non-null    object        \n",
            " 11  gps               442 non-null    object        \n",
            " 12  a_gps             442 non-null    object        \n",
            " 13  color             442 non-null    object        \n",
            " 14  display_type      442 non-null    object        \n",
            " 15  display_size      442 non-null    object        \n",
            " 16  carrier           442 non-null    object        \n",
            " 17  battery_capacity  442 non-null    object        \n",
            " 18  height            442 non-null    object        \n",
            " 19  width             442 non-null    object        \n",
            " 20  length            442 non-null    object        \n",
            " 21  weight            442 non-null    object        \n",
            "dtypes: datetime64[ns](1), object(21)\n",
            "memory usage: 76.1+ KB\n"
          ],
          "name": "stdout"
        }
      ]
    },
    {
      "cell_type": "code",
      "metadata": {
        "id": "0xSuXC1-a3q3",
        "colab_type": "code",
        "colab": {}
      },
      "source": [
        "ds_spec_phones_unieuro = pd.read_csv(\"ds_spec_phones_unieuro.csv\",encoding=\"utf-8\")"
      ],
      "execution_count": 27,
      "outputs": []
    },
    {
      "cell_type": "markdown",
      "metadata": {
        "id": "1LAKcL9hZ7SQ",
        "colab_type": "text"
      },
      "source": [
        "Combine the resulting datasets"
      ]
    },
    {
      "cell_type": "code",
      "metadata": {
        "id": "CoioIEp6Z6b4",
        "colab_type": "code",
        "colab": {
          "base_uri": "https://localhost:8080/",
          "height": 180
        },
        "outputId": "fbe85e4c-5ffc-41c8-d4af-2b0e90bf96b3"
      },
      "source": [
        "ds_all_phones_spec = ds_spec_phones_unieuro.append(ds_spec_phones_mediaworld, ignore_index = True)"
      ],
      "execution_count": 28,
      "outputs": [
        {
          "output_type": "error",
          "ename": "NameError",
          "evalue": "ignored",
          "traceback": [
            "\u001b[0;31m---------------------------------------------------------------------------\u001b[0m",
            "\u001b[0;31mNameError\u001b[0m                                 Traceback (most recent call last)",
            "\u001b[0;32m<ipython-input-28-c68f4d9302d4>\u001b[0m in \u001b[0;36m<module>\u001b[0;34m()\u001b[0m\n\u001b[1;32m      1\u001b[0m \u001b[0mds_all_phones_spec\u001b[0m \u001b[0;34m=\u001b[0m \u001b[0mds_spec_phones_unieuro\u001b[0m\u001b[0;34m.\u001b[0m\u001b[0mappend\u001b[0m\u001b[0;34m(\u001b[0m\u001b[0mds_spec_phones_mediaworld\u001b[0m\u001b[0;34m,\u001b[0m \u001b[0mignore_index\u001b[0m \u001b[0;34m=\u001b[0m \u001b[0;32mTrue\u001b[0m\u001b[0;34m)\u001b[0m\u001b[0;34m\u001b[0m\u001b[0;34m\u001b[0m\u001b[0m\n\u001b[0;32m----> 2\u001b[0;31m \u001b[0mprint_missing_valuePerc\u001b[0m\u001b[0;34m(\u001b[0m\u001b[0mds_all_phones_spec\u001b[0m\u001b[0;34m)\u001b[0m\u001b[0;34m\u001b[0m\u001b[0;34m\u001b[0m\u001b[0m\n\u001b[0m",
            "\u001b[0;31mNameError\u001b[0m: name 'print_missing_valuePerc' is not defined"
          ]
        }
      ]
    },
    {
      "cell_type": "code",
      "metadata": {
        "id": "vPM4h3dI_vtx",
        "colab_type": "code",
        "colab": {
          "base_uri": "https://localhost:8080/",
          "height": 529
        },
        "outputId": "11f0c7d9-3bf1-4301-f5d9-4f788cf147c3"
      },
      "source": [
        "ds_all_phones_spec.info()"
      ],
      "execution_count": 29,
      "outputs": [
        {
          "output_type": "stream",
          "text": [
            "<class 'pandas.core.frame.DataFrame'>\n",
            "RangeIndex: 718 entries, 0 to 717\n",
            "Data columns (total 23 columns):\n",
            " #   Column            Non-Null Count  Dtype  \n",
            "---  ------            --------------  -----  \n",
            " 0   Unnamed: 0        442 non-null    float64\n",
            " 1   tms_loading       718 non-null    object \n",
            " 2   date_loading      718 non-null    object \n",
            " 3   vendor            718 non-null    object \n",
            " 4   os                690 non-null    object \n",
            " 5   brand             678 non-null    object \n",
            " 6   model             718 non-null    object \n",
            " 7   price             718 non-null    object \n",
            " 8   original_price    718 non-null    object \n",
            " 9   ram               711 non-null    object \n",
            " 10  memory            715 non-null    object \n",
            " 11  sim               673 non-null    object \n",
            " 12  gps               710 non-null    object \n",
            " 13  a_gps             605 non-null    object \n",
            " 14  color             717 non-null    object \n",
            " 15  display_type      681 non-null    object \n",
            " 16  display_size      718 non-null    object \n",
            " 17  carrier           718 non-null    object \n",
            " 18  battery_capacity  716 non-null    object \n",
            " 19  height            718 non-null    object \n",
            " 20  width             718 non-null    object \n",
            " 21  length            718 non-null    object \n",
            " 22  weight            714 non-null    object \n",
            "dtypes: float64(1), object(22)\n",
            "memory usage: 129.1+ KB\n"
          ],
          "name": "stdout"
        }
      ]
    },
    {
      "cell_type": "markdown",
      "metadata": {
        "id": "6J-JILDXEmav",
        "colab_type": "text"
      },
      "source": [
        "Export the resulting dataset"
      ]
    },
    {
      "cell_type": "code",
      "metadata": {
        "id": "lWCCIEYCEpJo",
        "colab_type": "code",
        "colab": {}
      },
      "source": [
        "ds_all_phones_spec\n",
        "ds_all_phones_spec.to_csv(\"ds_all_phones_spec.csv\",encoding=\"utf-8\")"
      ],
      "execution_count": 30,
      "outputs": []
    },
    {
      "cell_type": "markdown",
      "metadata": {
        "id": "jLD5IxVk2D79",
        "colab_type": "text"
      },
      "source": [
        "---\n",
        "\n",
        "#Transforming\n",
        "\n",
        "1.   Data profiling with OpenRefine\n",
        "2.   Data enrichment with Python\n",
        "\n"
      ]
    },
    {
      "cell_type": "code",
      "metadata": {
        "id": "mO1XlII7M4Yn",
        "colab_type": "code",
        "colab": {}
      },
      "source": [
        "df_refined = pd.read_csv (r'ds_all_phones_spec-csv_refined.csv')"
      ],
      "execution_count": null,
      "outputs": []
    },
    {
      "cell_type": "markdown",
      "metadata": {
        "id": "1jjuYKjwGN4p",
        "colab_type": "text"
      },
      "source": [
        "Create the field PRICE range (1: smartphone with price < 100, 7: smartphone with price > 600"
      ]
    },
    {
      "cell_type": "code",
      "metadata": {
        "id": "OLiNu8sYEFA9",
        "colab_type": "code",
        "colab": {
          "base_uri": "https://localhost:8080/",
          "height": 694
        },
        "outputId": "9bab6372-1343-42bd-93e7-770014ee8e08"
      },
      "source": [
        "conditions = [\n",
        "    (df_refined['price'] <= 100),\n",
        "    (df_refined['price'] > 100) & (df_refined['price'] <= 200),\n",
        "    (df_refined['price'] > 200) & (df_refined['price'] <= 300),\n",
        "    (df_refined['price'] > 300) & (df_refined['price'] <= 400),\n",
        "    (df_refined['price'] > 400) & (df_refined['price'] <= 500), \n",
        "    (df_refined['price'] > 500) & (df_refined['price'] <= 600), \n",
        "    (df_refined['price'] > 600)\n",
        "    ]\n",
        "values = [1,2,3,4,5,6,7]\n",
        "\n",
        "\n",
        "df_refined['price_range'] = np.select(conditions, values)"
      ],
      "execution_count": null,
      "outputs": [
        {
          "output_type": "execute_result",
          "data": {
            "text/html": [
              "<div>\n",
              "<style scoped>\n",
              "    .dataframe tbody tr th:only-of-type {\n",
              "        vertical-align: middle;\n",
              "    }\n",
              "\n",
              "    .dataframe tbody tr th {\n",
              "        vertical-align: top;\n",
              "    }\n",
              "\n",
              "    .dataframe thead th {\n",
              "        text-align: right;\n",
              "    }\n",
              "</style>\n",
              "<table border=\"1\" class=\"dataframe\">\n",
              "  <thead>\n",
              "    <tr style=\"text-align: right;\">\n",
              "      <th></th>\n",
              "      <th>Column</th>\n",
              "      <th>tms_loading</th>\n",
              "      <th>date_loading</th>\n",
              "      <th>vendor</th>\n",
              "      <th>os</th>\n",
              "      <th>brand</th>\n",
              "      <th>model</th>\n",
              "      <th>price</th>\n",
              "      <th>original_price</th>\n",
              "      <th>ram</th>\n",
              "      <th>memory</th>\n",
              "      <th>sim</th>\n",
              "      <th>gps</th>\n",
              "      <th>a_gps</th>\n",
              "      <th>color</th>\n",
              "      <th>display_type</th>\n",
              "      <th>display_size</th>\n",
              "      <th>carrier</th>\n",
              "      <th>battery_capacity</th>\n",
              "      <th>height</th>\n",
              "      <th>width</th>\n",
              "      <th>length</th>\n",
              "      <th>weight</th>\n",
              "      <th>weigth</th>\n",
              "      <th>price_range</th>\n",
              "    </tr>\n",
              "  </thead>\n",
              "  <tbody>\n",
              "    <tr>\n",
              "      <th>0</th>\n",
              "      <td>0</td>\n",
              "      <td>2020-07-20 09:57:53.519155</td>\n",
              "      <td>2020-07-20</td>\n",
              "      <td>Unieuro</td>\n",
              "      <td>Android</td>\n",
              "      <td>Samsung</td>\n",
              "      <td>Galaxy A20e</td>\n",
              "      <td>129.90</td>\n",
              "      <td>169.90</td>\n",
              "      <td>3   GB</td>\n",
              "      <td>32   GB</td>\n",
              "      <td>Doppia SIM</td>\n",
              "      <td>Sì</td>\n",
              "      <td>Sì</td>\n",
              "      <td>Nero</td>\n",
              "      <td>PLS</td>\n",
              "      <td>5.8   \"</td>\n",
              "      <td>No carrier</td>\n",
              "      <td>3000   mAh</td>\n",
              "      <td>147.4   mm</td>\n",
              "      <td>69.7   mm</td>\n",
              "      <td>8.4   mm</td>\n",
              "      <td>141   g</td>\n",
              "      <td>NaN</td>\n",
              "      <td>2</td>\n",
              "    </tr>\n",
              "    <tr>\n",
              "      <th>1</th>\n",
              "      <td>1</td>\n",
              "      <td>2020-07-20 09:57:53.519155</td>\n",
              "      <td>2020-07-20</td>\n",
              "      <td>Unieuro</td>\n",
              "      <td>Android</td>\n",
              "      <td>Samsung</td>\n",
              "      <td>Galaxy A51</td>\n",
              "      <td>319.00</td>\n",
              "      <td>379.90</td>\n",
              "      <td>4   GB</td>\n",
              "      <td>128   GB</td>\n",
              "      <td>Doppia SIM</td>\n",
              "      <td>Sì</td>\n",
              "      <td>Sì</td>\n",
              "      <td>Nero</td>\n",
              "      <td>SAMOLED</td>\n",
              "      <td>6.5   \"</td>\n",
              "      <td>No carrier</td>\n",
              "      <td>4000   mAh</td>\n",
              "      <td>158.5   mm</td>\n",
              "      <td>73.6   mm</td>\n",
              "      <td>7.9   mm</td>\n",
              "      <td>172   g</td>\n",
              "      <td>NaN</td>\n",
              "      <td>4</td>\n",
              "    </tr>\n",
              "    <tr>\n",
              "      <th>2</th>\n",
              "      <td>2</td>\n",
              "      <td>2020-07-20 09:57:53.519155</td>\n",
              "      <td>2020-07-20</td>\n",
              "      <td>Unieuro</td>\n",
              "      <td>Android</td>\n",
              "      <td>Samsung</td>\n",
              "      <td>Galaxy A30s</td>\n",
              "      <td>189.00</td>\n",
              "      <td>259.90</td>\n",
              "      <td>4   GB</td>\n",
              "      <td>128   GB</td>\n",
              "      <td>Doppia SIM</td>\n",
              "      <td>Sì</td>\n",
              "      <td>NaN</td>\n",
              "      <td>Nero</td>\n",
              "      <td>SAMOLED</td>\n",
              "      <td>6.4   \"</td>\n",
              "      <td>No carrier</td>\n",
              "      <td>4000   mAh</td>\n",
              "      <td>158.5   mm</td>\n",
              "      <td>74.7   mm</td>\n",
              "      <td>7.8   mm</td>\n",
              "      <td>169   g</td>\n",
              "      <td>NaN</td>\n",
              "      <td>2</td>\n",
              "    </tr>\n",
              "    <tr>\n",
              "      <th>3</th>\n",
              "      <td>3</td>\n",
              "      <td>2020-07-20 09:57:53.519155</td>\n",
              "      <td>2020-07-20</td>\n",
              "      <td>Unieuro</td>\n",
              "      <td>Android</td>\n",
              "      <td>Samsung</td>\n",
              "      <td>Galaxy A20e</td>\n",
              "      <td>129.90</td>\n",
              "      <td>169.90</td>\n",
              "      <td>3   GB</td>\n",
              "      <td>32   GB</td>\n",
              "      <td>Doppia SIM</td>\n",
              "      <td>Sì</td>\n",
              "      <td>Sì</td>\n",
              "      <td>Blu</td>\n",
              "      <td>PLS</td>\n",
              "      <td>5.8   \"</td>\n",
              "      <td>No carrier</td>\n",
              "      <td>3000   mAh</td>\n",
              "      <td>147.4   mm</td>\n",
              "      <td>69.7   mm</td>\n",
              "      <td>8.4   mm</td>\n",
              "      <td>141   g</td>\n",
              "      <td>NaN</td>\n",
              "      <td>2</td>\n",
              "    </tr>\n",
              "    <tr>\n",
              "      <th>4</th>\n",
              "      <td>4</td>\n",
              "      <td>2020-07-20 09:57:53.519155</td>\n",
              "      <td>2020-07-20</td>\n",
              "      <td>Unieuro</td>\n",
              "      <td>Android</td>\n",
              "      <td>Xiaomi</td>\n",
              "      <td>Redmi Note 8T 16</td>\n",
              "      <td>179.00</td>\n",
              "      <td>229.90</td>\n",
              "      <td>4   GB</td>\n",
              "      <td>64   GB</td>\n",
              "      <td>Doppia SIM</td>\n",
              "      <td>Sì</td>\n",
              "      <td>Sì</td>\n",
              "      <td>Grigio</td>\n",
              "      <td>IPS</td>\n",
              "      <td>6.3   \"</td>\n",
              "      <td>No carrier</td>\n",
              "      <td>4000   mAh</td>\n",
              "      <td>161.15   mm</td>\n",
              "      <td>75.4   mm</td>\n",
              "      <td>8.6   mm</td>\n",
              "      <td>199.8   g</td>\n",
              "      <td>NaN</td>\n",
              "      <td>2</td>\n",
              "    </tr>\n",
              "    <tr>\n",
              "      <th>...</th>\n",
              "      <td>...</td>\n",
              "      <td>...</td>\n",
              "      <td>...</td>\n",
              "      <td>...</td>\n",
              "      <td>...</td>\n",
              "      <td>...</td>\n",
              "      <td>...</td>\n",
              "      <td>...</td>\n",
              "      <td>...</td>\n",
              "      <td>...</td>\n",
              "      <td>...</td>\n",
              "      <td>...</td>\n",
              "      <td>...</td>\n",
              "      <td>...</td>\n",
              "      <td>...</td>\n",
              "      <td>...</td>\n",
              "      <td>...</td>\n",
              "      <td>...</td>\n",
              "      <td>...</td>\n",
              "      <td>...</td>\n",
              "      <td>...</td>\n",
              "      <td>...</td>\n",
              "      <td>...</td>\n",
              "      <td>...</td>\n",
              "      <td>...</td>\n",
              "    </tr>\n",
              "    <tr>\n",
              "      <th>717</th>\n",
              "      <td>717</td>\n",
              "      <td>2020-07-20 07:32:47.581657</td>\n",
              "      <td>2020-07-20</td>\n",
              "      <td>MediaWorld</td>\n",
              "      <td>Android</td>\n",
              "      <td>Wiko</td>\n",
              "      <td>Y60</td>\n",
              "      <td>71.99</td>\n",
              "      <td>79.99</td>\n",
              "      <td>1 GB</td>\n",
              "      <td>16 GB</td>\n",
              "      <td>Dual SIM</td>\n",
              "      <td>Sì</td>\n",
              "      <td>Sì</td>\n",
              "      <td>Blue</td>\n",
              "      <td>Standard</td>\n",
              "      <td>5,45</td>\n",
              "      <td>No</td>\n",
              "      <td>2500 mAh</td>\n",
              "      <td>0,93 cm</td>\n",
              "      <td>7,18</td>\n",
              "      <td>14,68</td>\n",
              "      <td>NaN</td>\n",
              "      <td>0,177</td>\n",
              "      <td>1</td>\n",
              "    </tr>\n",
              "    <tr>\n",
              "      <th>718</th>\n",
              "      <td>718</td>\n",
              "      <td>2020-07-20 07:32:47.581657</td>\n",
              "      <td>2020-07-20</td>\n",
              "      <td>MediaWorld</td>\n",
              "      <td>Android</td>\n",
              "      <td>Wiko</td>\n",
              "      <td>Y60</td>\n",
              "      <td>79.99</td>\n",
              "      <td>NaN</td>\n",
              "      <td>1 GB</td>\n",
              "      <td>16 GB</td>\n",
              "      <td>Dual SIM</td>\n",
              "      <td>Sì</td>\n",
              "      <td>Sì</td>\n",
              "      <td>Cyan</td>\n",
              "      <td>Standard</td>\n",
              "      <td>5,45</td>\n",
              "      <td>No</td>\n",
              "      <td>2500 mAh</td>\n",
              "      <td>0,93 cm</td>\n",
              "      <td>7,18</td>\n",
              "      <td>14,68</td>\n",
              "      <td>NaN</td>\n",
              "      <td>0,177</td>\n",
              "      <td>1</td>\n",
              "    </tr>\n",
              "    <tr>\n",
              "      <th>719</th>\n",
              "      <td>719</td>\n",
              "      <td>2020-07-20 07:32:47.581657</td>\n",
              "      <td>2020-07-20</td>\n",
              "      <td>MediaWorld</td>\n",
              "      <td>Android</td>\n",
              "      <td>Huawei</td>\n",
              "      <td>Psmart Pro Crystal</td>\n",
              "      <td>244.99</td>\n",
              "      <td>299.99</td>\n",
              "      <td>6 GB</td>\n",
              "      <td>128 GB</td>\n",
              "      <td>Dual SIM</td>\n",
              "      <td>Sì</td>\n",
              "      <td>Sì</td>\n",
              "      <td>Breathing Crystal</td>\n",
              "      <td>LCD</td>\n",
              "      <td>6,59</td>\n",
              "      <td>No</td>\n",
              "      <td>4000 mAh</td>\n",
              "      <td>0,88 cm</td>\n",
              "      <td>7,72</td>\n",
              "      <td>16,31</td>\n",
              "      <td>NaN</td>\n",
              "      <td>0,206</td>\n",
              "      <td>3</td>\n",
              "    </tr>\n",
              "    <tr>\n",
              "      <th>720</th>\n",
              "      <td>720</td>\n",
              "      <td>2020-07-20 07:32:47.581657</td>\n",
              "      <td>2020-07-20</td>\n",
              "      <td>MediaWorld</td>\n",
              "      <td>Android</td>\n",
              "      <td>Xiaomi</td>\n",
              "      <td>Mi 10 Lite 5G 6+128 White</td>\n",
              "      <td>347.00</td>\n",
              "      <td>399.00</td>\n",
              "      <td>6 GB</td>\n",
              "      <td>128 GB</td>\n",
              "      <td>Dual SIM</td>\n",
              "      <td>Sì</td>\n",
              "      <td>Sì</td>\n",
              "      <td>White</td>\n",
              "      <td>AMOLED</td>\n",
              "      <td>6,57</td>\n",
              "      <td>No</td>\n",
              "      <td>4160 mAh</td>\n",
              "      <td>0,79 cm</td>\n",
              "      <td>7,47</td>\n",
              "      <td>13,71</td>\n",
              "      <td>NaN</td>\n",
              "      <td>0,192</td>\n",
              "      <td>4</td>\n",
              "    </tr>\n",
              "    <tr>\n",
              "      <th>721</th>\n",
              "      <td>721</td>\n",
              "      <td>2020-07-20 07:32:47.581657</td>\n",
              "      <td>2020-07-20</td>\n",
              "      <td>MediaWorld</td>\n",
              "      <td>Android</td>\n",
              "      <td>Samsung</td>\n",
              "      <td>Galaxy A20e</td>\n",
              "      <td>129.00</td>\n",
              "      <td>179.99</td>\n",
              "      <td>3 GB</td>\n",
              "      <td>32 GB</td>\n",
              "      <td>Dual SIM</td>\n",
              "      <td>Sì</td>\n",
              "      <td>Sì</td>\n",
              "      <td>White</td>\n",
              "      <td>TFT</td>\n",
              "      <td>5,8</td>\n",
              "      <td>N.d</td>\n",
              "      <td>3000 mAh</td>\n",
              "      <td>0,84 cm</td>\n",
              "      <td>6,97</td>\n",
              "      <td>14,74</td>\n",
              "      <td>NaN</td>\n",
              "      <td>0,14</td>\n",
              "      <td>2</td>\n",
              "    </tr>\n",
              "  </tbody>\n",
              "</table>\n",
              "<p>722 rows × 25 columns</p>\n",
              "</div>"
            ],
            "text/plain": [
              "     Column                 tms_loading  ... weigth price_range\n",
              "0         0  2020-07-20 09:57:53.519155  ...    NaN           2\n",
              "1         1  2020-07-20 09:57:53.519155  ...    NaN           4\n",
              "2         2  2020-07-20 09:57:53.519155  ...    NaN           2\n",
              "3         3  2020-07-20 09:57:53.519155  ...    NaN           2\n",
              "4         4  2020-07-20 09:57:53.519155  ...    NaN           2\n",
              "..      ...                         ...  ...    ...         ...\n",
              "717     717  2020-07-20 07:32:47.581657  ...  0,177           1\n",
              "718     718  2020-07-20 07:32:47.581657  ...  0,177           1\n",
              "719     719  2020-07-20 07:32:47.581657  ...  0,206           3\n",
              "720     720  2020-07-20 07:32:47.581657  ...  0,192           4\n",
              "721     721  2020-07-20 07:32:47.581657  ...   0,14           2\n",
              "\n",
              "[722 rows x 25 columns]"
            ]
          },
          "metadata": {
            "tags": []
          },
          "execution_count": 46
        }
      ]
    },
    {
      "cell_type": "markdown",
      "metadata": {
        "id": "iR-KvQE1HjFC",
        "colab_type": "text"
      },
      "source": [
        "Computation of the applied discount for each product"
      ]
    },
    {
      "cell_type": "code",
      "metadata": {
        "id": "58l8Zf3mHpyr",
        "colab_type": "code",
        "colab": {}
      },
      "source": [
        "df_refined['discount'] = df_refined.original_price - df_refined.price"
      ],
      "execution_count": null,
      "outputs": []
    },
    {
      "cell_type": "markdown",
      "metadata": {
        "id": "aN4zp1OKO1ZE",
        "colab_type": "text"
      },
      "source": [
        "Create the flag discount (1 stands for a discounted product, 0 is not)"
      ]
    },
    {
      "cell_type": "code",
      "metadata": {
        "id": "yRixQegwOzfS",
        "colab_type": "code",
        "colab": {
          "base_uri": "https://localhost:8080/",
          "height": 694
        },
        "outputId": "9e1cf812-1f66-4760-b81a-c75d8b92808e"
      },
      "source": [
        "conds = [(df_refined['discount'] == 0),(df_refined['discount'] != 0)]\n",
        "val = ['0','1']\n",
        "\n",
        "df_refined['flag_discount'] = np.select(conds, val)"
      ],
      "execution_count": null,
      "outputs": [
        {
          "output_type": "execute_result",
          "data": {
            "text/html": [
              "<div>\n",
              "<style scoped>\n",
              "    .dataframe tbody tr th:only-of-type {\n",
              "        vertical-align: middle;\n",
              "    }\n",
              "\n",
              "    .dataframe tbody tr th {\n",
              "        vertical-align: top;\n",
              "    }\n",
              "\n",
              "    .dataframe thead th {\n",
              "        text-align: right;\n",
              "    }\n",
              "</style>\n",
              "<table border=\"1\" class=\"dataframe\">\n",
              "  <thead>\n",
              "    <tr style=\"text-align: right;\">\n",
              "      <th></th>\n",
              "      <th>Column</th>\n",
              "      <th>tms_loading</th>\n",
              "      <th>date_loading</th>\n",
              "      <th>vendor</th>\n",
              "      <th>os</th>\n",
              "      <th>brand</th>\n",
              "      <th>model</th>\n",
              "      <th>price</th>\n",
              "      <th>original_price</th>\n",
              "      <th>ram</th>\n",
              "      <th>memory</th>\n",
              "      <th>sim</th>\n",
              "      <th>gps</th>\n",
              "      <th>a_gps</th>\n",
              "      <th>color</th>\n",
              "      <th>display_type</th>\n",
              "      <th>display_size</th>\n",
              "      <th>carrier</th>\n",
              "      <th>battery_capacity</th>\n",
              "      <th>height</th>\n",
              "      <th>width</th>\n",
              "      <th>length</th>\n",
              "      <th>weight</th>\n",
              "      <th>weigth</th>\n",
              "      <th>price_range</th>\n",
              "      <th>discount</th>\n",
              "      <th>discount_perc</th>\n",
              "      <th>flag_discount</th>\n",
              "    </tr>\n",
              "  </thead>\n",
              "  <tbody>\n",
              "    <tr>\n",
              "      <th>0</th>\n",
              "      <td>0</td>\n",
              "      <td>2020-07-20 09:57:53.519155</td>\n",
              "      <td>2020-07-20</td>\n",
              "      <td>Unieuro</td>\n",
              "      <td>Android</td>\n",
              "      <td>Samsung</td>\n",
              "      <td>Galaxy A20e</td>\n",
              "      <td>129.90</td>\n",
              "      <td>169.90</td>\n",
              "      <td>3   GB</td>\n",
              "      <td>32   GB</td>\n",
              "      <td>Doppia SIM</td>\n",
              "      <td>Sì</td>\n",
              "      <td>Sì</td>\n",
              "      <td>Nero</td>\n",
              "      <td>PLS</td>\n",
              "      <td>5.8   \"</td>\n",
              "      <td>No carrier</td>\n",
              "      <td>3000   mAh</td>\n",
              "      <td>147.4   mm</td>\n",
              "      <td>69.7   mm</td>\n",
              "      <td>8.4   mm</td>\n",
              "      <td>141   g</td>\n",
              "      <td>NaN</td>\n",
              "      <td>2</td>\n",
              "      <td>40.00</td>\n",
              "      <td>0.76</td>\n",
              "      <td>1</td>\n",
              "    </tr>\n",
              "    <tr>\n",
              "      <th>1</th>\n",
              "      <td>1</td>\n",
              "      <td>2020-07-20 09:57:53.519155</td>\n",
              "      <td>2020-07-20</td>\n",
              "      <td>Unieuro</td>\n",
              "      <td>Android</td>\n",
              "      <td>Samsung</td>\n",
              "      <td>Galaxy A51</td>\n",
              "      <td>319.00</td>\n",
              "      <td>379.90</td>\n",
              "      <td>4   GB</td>\n",
              "      <td>128   GB</td>\n",
              "      <td>Doppia SIM</td>\n",
              "      <td>Sì</td>\n",
              "      <td>Sì</td>\n",
              "      <td>Nero</td>\n",
              "      <td>SAMOLED</td>\n",
              "      <td>6.5   \"</td>\n",
              "      <td>No carrier</td>\n",
              "      <td>4000   mAh</td>\n",
              "      <td>158.5   mm</td>\n",
              "      <td>73.6   mm</td>\n",
              "      <td>7.9   mm</td>\n",
              "      <td>172   g</td>\n",
              "      <td>NaN</td>\n",
              "      <td>4</td>\n",
              "      <td>60.90</td>\n",
              "      <td>0.84</td>\n",
              "      <td>1</td>\n",
              "    </tr>\n",
              "    <tr>\n",
              "      <th>2</th>\n",
              "      <td>2</td>\n",
              "      <td>2020-07-20 09:57:53.519155</td>\n",
              "      <td>2020-07-20</td>\n",
              "      <td>Unieuro</td>\n",
              "      <td>Android</td>\n",
              "      <td>Samsung</td>\n",
              "      <td>Galaxy A30s</td>\n",
              "      <td>189.00</td>\n",
              "      <td>259.90</td>\n",
              "      <td>4   GB</td>\n",
              "      <td>128   GB</td>\n",
              "      <td>Doppia SIM</td>\n",
              "      <td>Sì</td>\n",
              "      <td>NaN</td>\n",
              "      <td>Nero</td>\n",
              "      <td>SAMOLED</td>\n",
              "      <td>6.4   \"</td>\n",
              "      <td>No carrier</td>\n",
              "      <td>4000   mAh</td>\n",
              "      <td>158.5   mm</td>\n",
              "      <td>74.7   mm</td>\n",
              "      <td>7.8   mm</td>\n",
              "      <td>169   g</td>\n",
              "      <td>NaN</td>\n",
              "      <td>2</td>\n",
              "      <td>70.90</td>\n",
              "      <td>0.73</td>\n",
              "      <td>1</td>\n",
              "    </tr>\n",
              "    <tr>\n",
              "      <th>3</th>\n",
              "      <td>3</td>\n",
              "      <td>2020-07-20 09:57:53.519155</td>\n",
              "      <td>2020-07-20</td>\n",
              "      <td>Unieuro</td>\n",
              "      <td>Android</td>\n",
              "      <td>Samsung</td>\n",
              "      <td>Galaxy A20e</td>\n",
              "      <td>129.90</td>\n",
              "      <td>169.90</td>\n",
              "      <td>3   GB</td>\n",
              "      <td>32   GB</td>\n",
              "      <td>Doppia SIM</td>\n",
              "      <td>Sì</td>\n",
              "      <td>Sì</td>\n",
              "      <td>Blu</td>\n",
              "      <td>PLS</td>\n",
              "      <td>5.8   \"</td>\n",
              "      <td>No carrier</td>\n",
              "      <td>3000   mAh</td>\n",
              "      <td>147.4   mm</td>\n",
              "      <td>69.7   mm</td>\n",
              "      <td>8.4   mm</td>\n",
              "      <td>141   g</td>\n",
              "      <td>NaN</td>\n",
              "      <td>2</td>\n",
              "      <td>40.00</td>\n",
              "      <td>0.76</td>\n",
              "      <td>1</td>\n",
              "    </tr>\n",
              "    <tr>\n",
              "      <th>4</th>\n",
              "      <td>4</td>\n",
              "      <td>2020-07-20 09:57:53.519155</td>\n",
              "      <td>2020-07-20</td>\n",
              "      <td>Unieuro</td>\n",
              "      <td>Android</td>\n",
              "      <td>Xiaomi</td>\n",
              "      <td>Redmi Note 8T 16</td>\n",
              "      <td>179.00</td>\n",
              "      <td>229.90</td>\n",
              "      <td>4   GB</td>\n",
              "      <td>64   GB</td>\n",
              "      <td>Doppia SIM</td>\n",
              "      <td>Sì</td>\n",
              "      <td>Sì</td>\n",
              "      <td>Grigio</td>\n",
              "      <td>IPS</td>\n",
              "      <td>6.3   \"</td>\n",
              "      <td>No carrier</td>\n",
              "      <td>4000   mAh</td>\n",
              "      <td>161.15   mm</td>\n",
              "      <td>75.4   mm</td>\n",
              "      <td>8.6   mm</td>\n",
              "      <td>199.8   g</td>\n",
              "      <td>NaN</td>\n",
              "      <td>2</td>\n",
              "      <td>50.90</td>\n",
              "      <td>0.78</td>\n",
              "      <td>1</td>\n",
              "    </tr>\n",
              "    <tr>\n",
              "      <th>...</th>\n",
              "      <td>...</td>\n",
              "      <td>...</td>\n",
              "      <td>...</td>\n",
              "      <td>...</td>\n",
              "      <td>...</td>\n",
              "      <td>...</td>\n",
              "      <td>...</td>\n",
              "      <td>...</td>\n",
              "      <td>...</td>\n",
              "      <td>...</td>\n",
              "      <td>...</td>\n",
              "      <td>...</td>\n",
              "      <td>...</td>\n",
              "      <td>...</td>\n",
              "      <td>...</td>\n",
              "      <td>...</td>\n",
              "      <td>...</td>\n",
              "      <td>...</td>\n",
              "      <td>...</td>\n",
              "      <td>...</td>\n",
              "      <td>...</td>\n",
              "      <td>...</td>\n",
              "      <td>...</td>\n",
              "      <td>...</td>\n",
              "      <td>...</td>\n",
              "      <td>...</td>\n",
              "      <td>...</td>\n",
              "      <td>...</td>\n",
              "    </tr>\n",
              "    <tr>\n",
              "      <th>717</th>\n",
              "      <td>717</td>\n",
              "      <td>2020-07-20 07:32:47.581657</td>\n",
              "      <td>2020-07-20</td>\n",
              "      <td>MediaWorld</td>\n",
              "      <td>Android</td>\n",
              "      <td>Wiko</td>\n",
              "      <td>Y60</td>\n",
              "      <td>71.99</td>\n",
              "      <td>79.99</td>\n",
              "      <td>1 GB</td>\n",
              "      <td>16 GB</td>\n",
              "      <td>Dual SIM</td>\n",
              "      <td>Sì</td>\n",
              "      <td>Sì</td>\n",
              "      <td>Blue</td>\n",
              "      <td>Standard</td>\n",
              "      <td>5,45</td>\n",
              "      <td>No</td>\n",
              "      <td>2500 mAh</td>\n",
              "      <td>0,93 cm</td>\n",
              "      <td>7,18</td>\n",
              "      <td>14,68</td>\n",
              "      <td>NaN</td>\n",
              "      <td>0,177</td>\n",
              "      <td>1</td>\n",
              "      <td>8.00</td>\n",
              "      <td>0.90</td>\n",
              "      <td>1</td>\n",
              "    </tr>\n",
              "    <tr>\n",
              "      <th>718</th>\n",
              "      <td>718</td>\n",
              "      <td>2020-07-20 07:32:47.581657</td>\n",
              "      <td>2020-07-20</td>\n",
              "      <td>MediaWorld</td>\n",
              "      <td>Android</td>\n",
              "      <td>Wiko</td>\n",
              "      <td>Y60</td>\n",
              "      <td>79.99</td>\n",
              "      <td>NaN</td>\n",
              "      <td>1 GB</td>\n",
              "      <td>16 GB</td>\n",
              "      <td>Dual SIM</td>\n",
              "      <td>Sì</td>\n",
              "      <td>Sì</td>\n",
              "      <td>Cyan</td>\n",
              "      <td>Standard</td>\n",
              "      <td>5,45</td>\n",
              "      <td>No</td>\n",
              "      <td>2500 mAh</td>\n",
              "      <td>0,93 cm</td>\n",
              "      <td>7,18</td>\n",
              "      <td>14,68</td>\n",
              "      <td>NaN</td>\n",
              "      <td>0,177</td>\n",
              "      <td>1</td>\n",
              "      <td>NaN</td>\n",
              "      <td>NaN</td>\n",
              "      <td>1</td>\n",
              "    </tr>\n",
              "    <tr>\n",
              "      <th>719</th>\n",
              "      <td>719</td>\n",
              "      <td>2020-07-20 07:32:47.581657</td>\n",
              "      <td>2020-07-20</td>\n",
              "      <td>MediaWorld</td>\n",
              "      <td>Android</td>\n",
              "      <td>Huawei</td>\n",
              "      <td>Psmart Pro Crystal</td>\n",
              "      <td>244.99</td>\n",
              "      <td>299.99</td>\n",
              "      <td>6 GB</td>\n",
              "      <td>128 GB</td>\n",
              "      <td>Dual SIM</td>\n",
              "      <td>Sì</td>\n",
              "      <td>Sì</td>\n",
              "      <td>Breathing Crystal</td>\n",
              "      <td>LCD</td>\n",
              "      <td>6,59</td>\n",
              "      <td>No</td>\n",
              "      <td>4000 mAh</td>\n",
              "      <td>0,88 cm</td>\n",
              "      <td>7,72</td>\n",
              "      <td>16,31</td>\n",
              "      <td>NaN</td>\n",
              "      <td>0,206</td>\n",
              "      <td>3</td>\n",
              "      <td>55.00</td>\n",
              "      <td>0.82</td>\n",
              "      <td>1</td>\n",
              "    </tr>\n",
              "    <tr>\n",
              "      <th>720</th>\n",
              "      <td>720</td>\n",
              "      <td>2020-07-20 07:32:47.581657</td>\n",
              "      <td>2020-07-20</td>\n",
              "      <td>MediaWorld</td>\n",
              "      <td>Android</td>\n",
              "      <td>Xiaomi</td>\n",
              "      <td>Mi 10 Lite 5G 6+128 White</td>\n",
              "      <td>347.00</td>\n",
              "      <td>399.00</td>\n",
              "      <td>6 GB</td>\n",
              "      <td>128 GB</td>\n",
              "      <td>Dual SIM</td>\n",
              "      <td>Sì</td>\n",
              "      <td>Sì</td>\n",
              "      <td>White</td>\n",
              "      <td>AMOLED</td>\n",
              "      <td>6,57</td>\n",
              "      <td>No</td>\n",
              "      <td>4160 mAh</td>\n",
              "      <td>0,79 cm</td>\n",
              "      <td>7,47</td>\n",
              "      <td>13,71</td>\n",
              "      <td>NaN</td>\n",
              "      <td>0,192</td>\n",
              "      <td>4</td>\n",
              "      <td>52.00</td>\n",
              "      <td>0.87</td>\n",
              "      <td>1</td>\n",
              "    </tr>\n",
              "    <tr>\n",
              "      <th>721</th>\n",
              "      <td>721</td>\n",
              "      <td>2020-07-20 07:32:47.581657</td>\n",
              "      <td>2020-07-20</td>\n",
              "      <td>MediaWorld</td>\n",
              "      <td>Android</td>\n",
              "      <td>Samsung</td>\n",
              "      <td>Galaxy A20e</td>\n",
              "      <td>129.00</td>\n",
              "      <td>179.99</td>\n",
              "      <td>3 GB</td>\n",
              "      <td>32 GB</td>\n",
              "      <td>Dual SIM</td>\n",
              "      <td>Sì</td>\n",
              "      <td>Sì</td>\n",
              "      <td>White</td>\n",
              "      <td>TFT</td>\n",
              "      <td>5,8</td>\n",
              "      <td>N.d</td>\n",
              "      <td>3000 mAh</td>\n",
              "      <td>0,84 cm</td>\n",
              "      <td>6,97</td>\n",
              "      <td>14,74</td>\n",
              "      <td>NaN</td>\n",
              "      <td>0,14</td>\n",
              "      <td>2</td>\n",
              "      <td>50.99</td>\n",
              "      <td>0.72</td>\n",
              "      <td>1</td>\n",
              "    </tr>\n",
              "  </tbody>\n",
              "</table>\n",
              "<p>722 rows × 28 columns</p>\n",
              "</div>"
            ],
            "text/plain": [
              "     Column                 tms_loading  ... discount_perc flag_discount\n",
              "0         0  2020-07-20 09:57:53.519155  ...          0.76             1\n",
              "1         1  2020-07-20 09:57:53.519155  ...          0.84             1\n",
              "2         2  2020-07-20 09:57:53.519155  ...          0.73             1\n",
              "3         3  2020-07-20 09:57:53.519155  ...          0.76             1\n",
              "4         4  2020-07-20 09:57:53.519155  ...          0.78             1\n",
              "..      ...                         ...  ...           ...           ...\n",
              "717     717  2020-07-20 07:32:47.581657  ...          0.90             1\n",
              "718     718  2020-07-20 07:32:47.581657  ...           NaN             1\n",
              "719     719  2020-07-20 07:32:47.581657  ...          0.82             1\n",
              "720     720  2020-07-20 07:32:47.581657  ...          0.87             1\n",
              "721     721  2020-07-20 07:32:47.581657  ...          0.72             1\n",
              "\n",
              "[722 rows x 28 columns]"
            ]
          },
          "metadata": {
            "tags": []
          },
          "execution_count": 54
        }
      ]
    },
    {
      "cell_type": "markdown",
      "metadata": {
        "id": "DuHogJxlIcml",
        "colab_type": "text"
      },
      "source": [
        "Discount percentage"
      ]
    },
    {
      "cell_type": "code",
      "metadata": {
        "id": "K5SMvnNlIbxY",
        "colab_type": "code",
        "colab": {}
      },
      "source": [
        "df_refined['discount_perc'] = round(df_refined.price/df_refined.original_price,2)"
      ],
      "execution_count": null,
      "outputs": []
    },
    {
      "cell_type": "markdown",
      "metadata": {
        "id": "HF_s_v_kpA_3",
        "colab_type": "text"
      },
      "source": [
        "Final dataset"
      ]
    },
    {
      "cell_type": "code",
      "metadata": {
        "id": "sw-XlBm8RDuZ",
        "colab_type": "code",
        "colab": {
          "base_uri": "https://localhost:8080/",
          "height": 267
        },
        "outputId": "9ad8c505-7e2a-49fd-e009-8fbdd7459f14"
      },
      "source": [
        "df_refined.loc[:4].style.background_gradient(subset=['price','original_price','discount'],cmap='viridis')"
      ],
      "execution_count": null,
      "outputs": [
        {
          "output_type": "execute_result",
          "data": {
            "text/html": [
              "<style  type=\"text/css\" >\n",
              "    #T_c582528c_caae_11ea_bb87_0242ac1c0002row0_col7 {\n",
              "            background-color:  #440154;\n",
              "            color:  #f1f1f1;\n",
              "        }    #T_c582528c_caae_11ea_bb87_0242ac1c0002row0_col25 {\n",
              "            background-color:  #440154;\n",
              "            color:  #f1f1f1;\n",
              "        }    #T_c582528c_caae_11ea_bb87_0242ac1c0002row1_col7 {\n",
              "            background-color:  #fde725;\n",
              "            color:  #000000;\n",
              "        }    #T_c582528c_caae_11ea_bb87_0242ac1c0002row1_col25 {\n",
              "            background-color:  #3aba76;\n",
              "            color:  #000000;\n",
              "        }    #T_c582528c_caae_11ea_bb87_0242ac1c0002row2_col7 {\n",
              "            background-color:  #33638d;\n",
              "            color:  #f1f1f1;\n",
              "        }    #T_c582528c_caae_11ea_bb87_0242ac1c0002row2_col25 {\n",
              "            background-color:  #fde725;\n",
              "            color:  #000000;\n",
              "        }    #T_c582528c_caae_11ea_bb87_0242ac1c0002row3_col7 {\n",
              "            background-color:  #440154;\n",
              "            color:  #f1f1f1;\n",
              "        }    #T_c582528c_caae_11ea_bb87_0242ac1c0002row3_col25 {\n",
              "            background-color:  #440154;\n",
              "            color:  #f1f1f1;\n",
              "        }    #T_c582528c_caae_11ea_bb87_0242ac1c0002row4_col7 {\n",
              "            background-color:  #3a548c;\n",
              "            color:  #f1f1f1;\n",
              "        }    #T_c582528c_caae_11ea_bb87_0242ac1c0002row4_col25 {\n",
              "            background-color:  #2e6d8e;\n",
              "            color:  #f1f1f1;\n",
              "        }</style><table id=\"T_c582528c_caae_11ea_bb87_0242ac1c0002\" ><thead>    <tr>        <th class=\"blank level0\" ></th>        <th class=\"col_heading level0 col0\" >Column</th>        <th class=\"col_heading level0 col1\" >tms_loading</th>        <th class=\"col_heading level0 col2\" >date_loading</th>        <th class=\"col_heading level0 col3\" >vendor</th>        <th class=\"col_heading level0 col4\" >os</th>        <th class=\"col_heading level0 col5\" >brand</th>        <th class=\"col_heading level0 col6\" >model</th>        <th class=\"col_heading level0 col7\" >price</th>        <th class=\"col_heading level0 col8\" >original_price</th>        <th class=\"col_heading level0 col9\" >ram</th>        <th class=\"col_heading level0 col10\" >memory</th>        <th class=\"col_heading level0 col11\" >sim</th>        <th class=\"col_heading level0 col12\" >gps</th>        <th class=\"col_heading level0 col13\" >a_gps</th>        <th class=\"col_heading level0 col14\" >color</th>        <th class=\"col_heading level0 col15\" >display_type</th>        <th class=\"col_heading level0 col16\" >display_size</th>        <th class=\"col_heading level0 col17\" >carrier</th>        <th class=\"col_heading level0 col18\" >battery_capacity</th>        <th class=\"col_heading level0 col19\" >height</th>        <th class=\"col_heading level0 col20\" >width</th>        <th class=\"col_heading level0 col21\" >length</th>        <th class=\"col_heading level0 col22\" >weight</th>        <th class=\"col_heading level0 col23\" >weigth</th>        <th class=\"col_heading level0 col24\" >price_range</th>        <th class=\"col_heading level0 col25\" >discount</th>        <th class=\"col_heading level0 col26\" >discount_perc</th>        <th class=\"col_heading level0 col27\" >flag_discount</th>    </tr></thead><tbody>\n",
              "                <tr>\n",
              "                        <th id=\"T_c582528c_caae_11ea_bb87_0242ac1c0002level0_row0\" class=\"row_heading level0 row0\" >0</th>\n",
              "                        <td id=\"T_c582528c_caae_11ea_bb87_0242ac1c0002row0_col0\" class=\"data row0 col0\" >0</td>\n",
              "                        <td id=\"T_c582528c_caae_11ea_bb87_0242ac1c0002row0_col1\" class=\"data row0 col1\" >2020-07-20 09:57:53.519155</td>\n",
              "                        <td id=\"T_c582528c_caae_11ea_bb87_0242ac1c0002row0_col2\" class=\"data row0 col2\" >2020-07-20</td>\n",
              "                        <td id=\"T_c582528c_caae_11ea_bb87_0242ac1c0002row0_col3\" class=\"data row0 col3\" >Unieuro</td>\n",
              "                        <td id=\"T_c582528c_caae_11ea_bb87_0242ac1c0002row0_col4\" class=\"data row0 col4\" >Android  </td>\n",
              "                        <td id=\"T_c582528c_caae_11ea_bb87_0242ac1c0002row0_col5\" class=\"data row0 col5\" >Samsung</td>\n",
              "                        <td id=\"T_c582528c_caae_11ea_bb87_0242ac1c0002row0_col6\" class=\"data row0 col6\" > Galaxy A20e</td>\n",
              "                        <td id=\"T_c582528c_caae_11ea_bb87_0242ac1c0002row0_col7\" class=\"data row0 col7\" >129.900000</td>\n",
              "                        <td id=\"T_c582528c_caae_11ea_bb87_0242ac1c0002row0_col8\" class=\"data row0 col8\" >169.900000</td>\n",
              "                        <td id=\"T_c582528c_caae_11ea_bb87_0242ac1c0002row0_col9\" class=\"data row0 col9\" >3   GB</td>\n",
              "                        <td id=\"T_c582528c_caae_11ea_bb87_0242ac1c0002row0_col10\" class=\"data row0 col10\" >32   GB</td>\n",
              "                        <td id=\"T_c582528c_caae_11ea_bb87_0242ac1c0002row0_col11\" class=\"data row0 col11\" >Doppia SIM  </td>\n",
              "                        <td id=\"T_c582528c_caae_11ea_bb87_0242ac1c0002row0_col12\" class=\"data row0 col12\" >Sì  </td>\n",
              "                        <td id=\"T_c582528c_caae_11ea_bb87_0242ac1c0002row0_col13\" class=\"data row0 col13\" >Sì  </td>\n",
              "                        <td id=\"T_c582528c_caae_11ea_bb87_0242ac1c0002row0_col14\" class=\"data row0 col14\" >Nero  </td>\n",
              "                        <td id=\"T_c582528c_caae_11ea_bb87_0242ac1c0002row0_col15\" class=\"data row0 col15\" >PLS  </td>\n",
              "                        <td id=\"T_c582528c_caae_11ea_bb87_0242ac1c0002row0_col16\" class=\"data row0 col16\" >5.8   \"</td>\n",
              "                        <td id=\"T_c582528c_caae_11ea_bb87_0242ac1c0002row0_col17\" class=\"data row0 col17\" >No carrier</td>\n",
              "                        <td id=\"T_c582528c_caae_11ea_bb87_0242ac1c0002row0_col18\" class=\"data row0 col18\" >3000   mAh</td>\n",
              "                        <td id=\"T_c582528c_caae_11ea_bb87_0242ac1c0002row0_col19\" class=\"data row0 col19\" >147.4   mm</td>\n",
              "                        <td id=\"T_c582528c_caae_11ea_bb87_0242ac1c0002row0_col20\" class=\"data row0 col20\" >69.7   mm</td>\n",
              "                        <td id=\"T_c582528c_caae_11ea_bb87_0242ac1c0002row0_col21\" class=\"data row0 col21\" >8.4   mm</td>\n",
              "                        <td id=\"T_c582528c_caae_11ea_bb87_0242ac1c0002row0_col22\" class=\"data row0 col22\" >141   g</td>\n",
              "                        <td id=\"T_c582528c_caae_11ea_bb87_0242ac1c0002row0_col23\" class=\"data row0 col23\" >nan</td>\n",
              "                        <td id=\"T_c582528c_caae_11ea_bb87_0242ac1c0002row0_col24\" class=\"data row0 col24\" >2</td>\n",
              "                        <td id=\"T_c582528c_caae_11ea_bb87_0242ac1c0002row0_col25\" class=\"data row0 col25\" >40.000000</td>\n",
              "                        <td id=\"T_c582528c_caae_11ea_bb87_0242ac1c0002row0_col26\" class=\"data row0 col26\" >0.760000</td>\n",
              "                        <td id=\"T_c582528c_caae_11ea_bb87_0242ac1c0002row0_col27\" class=\"data row0 col27\" >1</td>\n",
              "            </tr>\n",
              "            <tr>\n",
              "                        <th id=\"T_c582528c_caae_11ea_bb87_0242ac1c0002level0_row1\" class=\"row_heading level0 row1\" >1</th>\n",
              "                        <td id=\"T_c582528c_caae_11ea_bb87_0242ac1c0002row1_col0\" class=\"data row1 col0\" >1</td>\n",
              "                        <td id=\"T_c582528c_caae_11ea_bb87_0242ac1c0002row1_col1\" class=\"data row1 col1\" >2020-07-20 09:57:53.519155</td>\n",
              "                        <td id=\"T_c582528c_caae_11ea_bb87_0242ac1c0002row1_col2\" class=\"data row1 col2\" >2020-07-20</td>\n",
              "                        <td id=\"T_c582528c_caae_11ea_bb87_0242ac1c0002row1_col3\" class=\"data row1 col3\" >Unieuro</td>\n",
              "                        <td id=\"T_c582528c_caae_11ea_bb87_0242ac1c0002row1_col4\" class=\"data row1 col4\" >Android  </td>\n",
              "                        <td id=\"T_c582528c_caae_11ea_bb87_0242ac1c0002row1_col5\" class=\"data row1 col5\" >Samsung</td>\n",
              "                        <td id=\"T_c582528c_caae_11ea_bb87_0242ac1c0002row1_col6\" class=\"data row1 col6\" > Galaxy A51</td>\n",
              "                        <td id=\"T_c582528c_caae_11ea_bb87_0242ac1c0002row1_col7\" class=\"data row1 col7\" >319.000000</td>\n",
              "                        <td id=\"T_c582528c_caae_11ea_bb87_0242ac1c0002row1_col8\" class=\"data row1 col8\" >379.900000</td>\n",
              "                        <td id=\"T_c582528c_caae_11ea_bb87_0242ac1c0002row1_col9\" class=\"data row1 col9\" >4   GB</td>\n",
              "                        <td id=\"T_c582528c_caae_11ea_bb87_0242ac1c0002row1_col10\" class=\"data row1 col10\" >128   GB</td>\n",
              "                        <td id=\"T_c582528c_caae_11ea_bb87_0242ac1c0002row1_col11\" class=\"data row1 col11\" >Doppia SIM  </td>\n",
              "                        <td id=\"T_c582528c_caae_11ea_bb87_0242ac1c0002row1_col12\" class=\"data row1 col12\" >Sì  </td>\n",
              "                        <td id=\"T_c582528c_caae_11ea_bb87_0242ac1c0002row1_col13\" class=\"data row1 col13\" >Sì  </td>\n",
              "                        <td id=\"T_c582528c_caae_11ea_bb87_0242ac1c0002row1_col14\" class=\"data row1 col14\" >Nero  </td>\n",
              "                        <td id=\"T_c582528c_caae_11ea_bb87_0242ac1c0002row1_col15\" class=\"data row1 col15\" >SAMOLED  </td>\n",
              "                        <td id=\"T_c582528c_caae_11ea_bb87_0242ac1c0002row1_col16\" class=\"data row1 col16\" >6.5   \"</td>\n",
              "                        <td id=\"T_c582528c_caae_11ea_bb87_0242ac1c0002row1_col17\" class=\"data row1 col17\" >No carrier</td>\n",
              "                        <td id=\"T_c582528c_caae_11ea_bb87_0242ac1c0002row1_col18\" class=\"data row1 col18\" >4000   mAh</td>\n",
              "                        <td id=\"T_c582528c_caae_11ea_bb87_0242ac1c0002row1_col19\" class=\"data row1 col19\" >158.5   mm</td>\n",
              "                        <td id=\"T_c582528c_caae_11ea_bb87_0242ac1c0002row1_col20\" class=\"data row1 col20\" >73.6   mm</td>\n",
              "                        <td id=\"T_c582528c_caae_11ea_bb87_0242ac1c0002row1_col21\" class=\"data row1 col21\" >7.9   mm</td>\n",
              "                        <td id=\"T_c582528c_caae_11ea_bb87_0242ac1c0002row1_col22\" class=\"data row1 col22\" >172   g</td>\n",
              "                        <td id=\"T_c582528c_caae_11ea_bb87_0242ac1c0002row1_col23\" class=\"data row1 col23\" >nan</td>\n",
              "                        <td id=\"T_c582528c_caae_11ea_bb87_0242ac1c0002row1_col24\" class=\"data row1 col24\" >4</td>\n",
              "                        <td id=\"T_c582528c_caae_11ea_bb87_0242ac1c0002row1_col25\" class=\"data row1 col25\" >60.900000</td>\n",
              "                        <td id=\"T_c582528c_caae_11ea_bb87_0242ac1c0002row1_col26\" class=\"data row1 col26\" >0.840000</td>\n",
              "                        <td id=\"T_c582528c_caae_11ea_bb87_0242ac1c0002row1_col27\" class=\"data row1 col27\" >1</td>\n",
              "            </tr>\n",
              "            <tr>\n",
              "                        <th id=\"T_c582528c_caae_11ea_bb87_0242ac1c0002level0_row2\" class=\"row_heading level0 row2\" >2</th>\n",
              "                        <td id=\"T_c582528c_caae_11ea_bb87_0242ac1c0002row2_col0\" class=\"data row2 col0\" >2</td>\n",
              "                        <td id=\"T_c582528c_caae_11ea_bb87_0242ac1c0002row2_col1\" class=\"data row2 col1\" >2020-07-20 09:57:53.519155</td>\n",
              "                        <td id=\"T_c582528c_caae_11ea_bb87_0242ac1c0002row2_col2\" class=\"data row2 col2\" >2020-07-20</td>\n",
              "                        <td id=\"T_c582528c_caae_11ea_bb87_0242ac1c0002row2_col3\" class=\"data row2 col3\" >Unieuro</td>\n",
              "                        <td id=\"T_c582528c_caae_11ea_bb87_0242ac1c0002row2_col4\" class=\"data row2 col4\" >Android  </td>\n",
              "                        <td id=\"T_c582528c_caae_11ea_bb87_0242ac1c0002row2_col5\" class=\"data row2 col5\" >Samsung</td>\n",
              "                        <td id=\"T_c582528c_caae_11ea_bb87_0242ac1c0002row2_col6\" class=\"data row2 col6\" > Galaxy A30s</td>\n",
              "                        <td id=\"T_c582528c_caae_11ea_bb87_0242ac1c0002row2_col7\" class=\"data row2 col7\" >189.000000</td>\n",
              "                        <td id=\"T_c582528c_caae_11ea_bb87_0242ac1c0002row2_col8\" class=\"data row2 col8\" >259.900000</td>\n",
              "                        <td id=\"T_c582528c_caae_11ea_bb87_0242ac1c0002row2_col9\" class=\"data row2 col9\" >4   GB</td>\n",
              "                        <td id=\"T_c582528c_caae_11ea_bb87_0242ac1c0002row2_col10\" class=\"data row2 col10\" >128   GB</td>\n",
              "                        <td id=\"T_c582528c_caae_11ea_bb87_0242ac1c0002row2_col11\" class=\"data row2 col11\" >Doppia SIM  </td>\n",
              "                        <td id=\"T_c582528c_caae_11ea_bb87_0242ac1c0002row2_col12\" class=\"data row2 col12\" >Sì  </td>\n",
              "                        <td id=\"T_c582528c_caae_11ea_bb87_0242ac1c0002row2_col13\" class=\"data row2 col13\" >nan</td>\n",
              "                        <td id=\"T_c582528c_caae_11ea_bb87_0242ac1c0002row2_col14\" class=\"data row2 col14\" >Nero  </td>\n",
              "                        <td id=\"T_c582528c_caae_11ea_bb87_0242ac1c0002row2_col15\" class=\"data row2 col15\" >SAMOLED  </td>\n",
              "                        <td id=\"T_c582528c_caae_11ea_bb87_0242ac1c0002row2_col16\" class=\"data row2 col16\" >6.4   \"</td>\n",
              "                        <td id=\"T_c582528c_caae_11ea_bb87_0242ac1c0002row2_col17\" class=\"data row2 col17\" >No carrier</td>\n",
              "                        <td id=\"T_c582528c_caae_11ea_bb87_0242ac1c0002row2_col18\" class=\"data row2 col18\" >4000   mAh</td>\n",
              "                        <td id=\"T_c582528c_caae_11ea_bb87_0242ac1c0002row2_col19\" class=\"data row2 col19\" >158.5   mm</td>\n",
              "                        <td id=\"T_c582528c_caae_11ea_bb87_0242ac1c0002row2_col20\" class=\"data row2 col20\" >74.7   mm</td>\n",
              "                        <td id=\"T_c582528c_caae_11ea_bb87_0242ac1c0002row2_col21\" class=\"data row2 col21\" >7.8   mm</td>\n",
              "                        <td id=\"T_c582528c_caae_11ea_bb87_0242ac1c0002row2_col22\" class=\"data row2 col22\" >169   g</td>\n",
              "                        <td id=\"T_c582528c_caae_11ea_bb87_0242ac1c0002row2_col23\" class=\"data row2 col23\" >nan</td>\n",
              "                        <td id=\"T_c582528c_caae_11ea_bb87_0242ac1c0002row2_col24\" class=\"data row2 col24\" >2</td>\n",
              "                        <td id=\"T_c582528c_caae_11ea_bb87_0242ac1c0002row2_col25\" class=\"data row2 col25\" >70.900000</td>\n",
              "                        <td id=\"T_c582528c_caae_11ea_bb87_0242ac1c0002row2_col26\" class=\"data row2 col26\" >0.730000</td>\n",
              "                        <td id=\"T_c582528c_caae_11ea_bb87_0242ac1c0002row2_col27\" class=\"data row2 col27\" >1</td>\n",
              "            </tr>\n",
              "            <tr>\n",
              "                        <th id=\"T_c582528c_caae_11ea_bb87_0242ac1c0002level0_row3\" class=\"row_heading level0 row3\" >3</th>\n",
              "                        <td id=\"T_c582528c_caae_11ea_bb87_0242ac1c0002row3_col0\" class=\"data row3 col0\" >3</td>\n",
              "                        <td id=\"T_c582528c_caae_11ea_bb87_0242ac1c0002row3_col1\" class=\"data row3 col1\" >2020-07-20 09:57:53.519155</td>\n",
              "                        <td id=\"T_c582528c_caae_11ea_bb87_0242ac1c0002row3_col2\" class=\"data row3 col2\" >2020-07-20</td>\n",
              "                        <td id=\"T_c582528c_caae_11ea_bb87_0242ac1c0002row3_col3\" class=\"data row3 col3\" >Unieuro</td>\n",
              "                        <td id=\"T_c582528c_caae_11ea_bb87_0242ac1c0002row3_col4\" class=\"data row3 col4\" >Android  </td>\n",
              "                        <td id=\"T_c582528c_caae_11ea_bb87_0242ac1c0002row3_col5\" class=\"data row3 col5\" >Samsung</td>\n",
              "                        <td id=\"T_c582528c_caae_11ea_bb87_0242ac1c0002row3_col6\" class=\"data row3 col6\" > Galaxy A20e</td>\n",
              "                        <td id=\"T_c582528c_caae_11ea_bb87_0242ac1c0002row3_col7\" class=\"data row3 col7\" >129.900000</td>\n",
              "                        <td id=\"T_c582528c_caae_11ea_bb87_0242ac1c0002row3_col8\" class=\"data row3 col8\" >169.900000</td>\n",
              "                        <td id=\"T_c582528c_caae_11ea_bb87_0242ac1c0002row3_col9\" class=\"data row3 col9\" >3   GB</td>\n",
              "                        <td id=\"T_c582528c_caae_11ea_bb87_0242ac1c0002row3_col10\" class=\"data row3 col10\" >32   GB</td>\n",
              "                        <td id=\"T_c582528c_caae_11ea_bb87_0242ac1c0002row3_col11\" class=\"data row3 col11\" >Doppia SIM  </td>\n",
              "                        <td id=\"T_c582528c_caae_11ea_bb87_0242ac1c0002row3_col12\" class=\"data row3 col12\" >Sì  </td>\n",
              "                        <td id=\"T_c582528c_caae_11ea_bb87_0242ac1c0002row3_col13\" class=\"data row3 col13\" >Sì  </td>\n",
              "                        <td id=\"T_c582528c_caae_11ea_bb87_0242ac1c0002row3_col14\" class=\"data row3 col14\" >Blu  </td>\n",
              "                        <td id=\"T_c582528c_caae_11ea_bb87_0242ac1c0002row3_col15\" class=\"data row3 col15\" >PLS  </td>\n",
              "                        <td id=\"T_c582528c_caae_11ea_bb87_0242ac1c0002row3_col16\" class=\"data row3 col16\" >5.8   \"</td>\n",
              "                        <td id=\"T_c582528c_caae_11ea_bb87_0242ac1c0002row3_col17\" class=\"data row3 col17\" >No carrier</td>\n",
              "                        <td id=\"T_c582528c_caae_11ea_bb87_0242ac1c0002row3_col18\" class=\"data row3 col18\" >3000   mAh</td>\n",
              "                        <td id=\"T_c582528c_caae_11ea_bb87_0242ac1c0002row3_col19\" class=\"data row3 col19\" >147.4   mm</td>\n",
              "                        <td id=\"T_c582528c_caae_11ea_bb87_0242ac1c0002row3_col20\" class=\"data row3 col20\" >69.7   mm</td>\n",
              "                        <td id=\"T_c582528c_caae_11ea_bb87_0242ac1c0002row3_col21\" class=\"data row3 col21\" >8.4   mm</td>\n",
              "                        <td id=\"T_c582528c_caae_11ea_bb87_0242ac1c0002row3_col22\" class=\"data row3 col22\" >141   g</td>\n",
              "                        <td id=\"T_c582528c_caae_11ea_bb87_0242ac1c0002row3_col23\" class=\"data row3 col23\" >nan</td>\n",
              "                        <td id=\"T_c582528c_caae_11ea_bb87_0242ac1c0002row3_col24\" class=\"data row3 col24\" >2</td>\n",
              "                        <td id=\"T_c582528c_caae_11ea_bb87_0242ac1c0002row3_col25\" class=\"data row3 col25\" >40.000000</td>\n",
              "                        <td id=\"T_c582528c_caae_11ea_bb87_0242ac1c0002row3_col26\" class=\"data row3 col26\" >0.760000</td>\n",
              "                        <td id=\"T_c582528c_caae_11ea_bb87_0242ac1c0002row3_col27\" class=\"data row3 col27\" >1</td>\n",
              "            </tr>\n",
              "            <tr>\n",
              "                        <th id=\"T_c582528c_caae_11ea_bb87_0242ac1c0002level0_row4\" class=\"row_heading level0 row4\" >4</th>\n",
              "                        <td id=\"T_c582528c_caae_11ea_bb87_0242ac1c0002row4_col0\" class=\"data row4 col0\" >4</td>\n",
              "                        <td id=\"T_c582528c_caae_11ea_bb87_0242ac1c0002row4_col1\" class=\"data row4 col1\" >2020-07-20 09:57:53.519155</td>\n",
              "                        <td id=\"T_c582528c_caae_11ea_bb87_0242ac1c0002row4_col2\" class=\"data row4 col2\" >2020-07-20</td>\n",
              "                        <td id=\"T_c582528c_caae_11ea_bb87_0242ac1c0002row4_col3\" class=\"data row4 col3\" >Unieuro</td>\n",
              "                        <td id=\"T_c582528c_caae_11ea_bb87_0242ac1c0002row4_col4\" class=\"data row4 col4\" >Android  </td>\n",
              "                        <td id=\"T_c582528c_caae_11ea_bb87_0242ac1c0002row4_col5\" class=\"data row4 col5\" >Xiaomi</td>\n",
              "                        <td id=\"T_c582528c_caae_11ea_bb87_0242ac1c0002row4_col6\" class=\"data row4 col6\" > Redmi Note 8T 16</td>\n",
              "                        <td id=\"T_c582528c_caae_11ea_bb87_0242ac1c0002row4_col7\" class=\"data row4 col7\" >179.000000</td>\n",
              "                        <td id=\"T_c582528c_caae_11ea_bb87_0242ac1c0002row4_col8\" class=\"data row4 col8\" >229.900000</td>\n",
              "                        <td id=\"T_c582528c_caae_11ea_bb87_0242ac1c0002row4_col9\" class=\"data row4 col9\" >4   GB</td>\n",
              "                        <td id=\"T_c582528c_caae_11ea_bb87_0242ac1c0002row4_col10\" class=\"data row4 col10\" >64   GB</td>\n",
              "                        <td id=\"T_c582528c_caae_11ea_bb87_0242ac1c0002row4_col11\" class=\"data row4 col11\" >Doppia SIM  </td>\n",
              "                        <td id=\"T_c582528c_caae_11ea_bb87_0242ac1c0002row4_col12\" class=\"data row4 col12\" >Sì  </td>\n",
              "                        <td id=\"T_c582528c_caae_11ea_bb87_0242ac1c0002row4_col13\" class=\"data row4 col13\" >Sì  </td>\n",
              "                        <td id=\"T_c582528c_caae_11ea_bb87_0242ac1c0002row4_col14\" class=\"data row4 col14\" >Grigio  </td>\n",
              "                        <td id=\"T_c582528c_caae_11ea_bb87_0242ac1c0002row4_col15\" class=\"data row4 col15\" >IPS  </td>\n",
              "                        <td id=\"T_c582528c_caae_11ea_bb87_0242ac1c0002row4_col16\" class=\"data row4 col16\" >6.3   \"</td>\n",
              "                        <td id=\"T_c582528c_caae_11ea_bb87_0242ac1c0002row4_col17\" class=\"data row4 col17\" >No carrier</td>\n",
              "                        <td id=\"T_c582528c_caae_11ea_bb87_0242ac1c0002row4_col18\" class=\"data row4 col18\" >4000   mAh</td>\n",
              "                        <td id=\"T_c582528c_caae_11ea_bb87_0242ac1c0002row4_col19\" class=\"data row4 col19\" >161.15   mm</td>\n",
              "                        <td id=\"T_c582528c_caae_11ea_bb87_0242ac1c0002row4_col20\" class=\"data row4 col20\" >75.4   mm</td>\n",
              "                        <td id=\"T_c582528c_caae_11ea_bb87_0242ac1c0002row4_col21\" class=\"data row4 col21\" >8.6   mm</td>\n",
              "                        <td id=\"T_c582528c_caae_11ea_bb87_0242ac1c0002row4_col22\" class=\"data row4 col22\" >199.8   g</td>\n",
              "                        <td id=\"T_c582528c_caae_11ea_bb87_0242ac1c0002row4_col23\" class=\"data row4 col23\" >nan</td>\n",
              "                        <td id=\"T_c582528c_caae_11ea_bb87_0242ac1c0002row4_col24\" class=\"data row4 col24\" >2</td>\n",
              "                        <td id=\"T_c582528c_caae_11ea_bb87_0242ac1c0002row4_col25\" class=\"data row4 col25\" >50.900000</td>\n",
              "                        <td id=\"T_c582528c_caae_11ea_bb87_0242ac1c0002row4_col26\" class=\"data row4 col26\" >0.780000</td>\n",
              "                        <td id=\"T_c582528c_caae_11ea_bb87_0242ac1c0002row4_col27\" class=\"data row4 col27\" >1</td>\n",
              "            </tr>\n",
              "    </tbody></table>"
            ],
            "text/plain": [
              "<pandas.io.formats.style.Styler at 0x7f6d8363f400>"
            ]
          },
          "metadata": {
            "tags": []
          },
          "execution_count": 61
        }
      ]
    },
    {
      "cell_type": "markdown",
      "metadata": {
        "id": "gjR_XYocoHco",
        "colab_type": "text"
      },
      "source": [
        "Dataset features explanation"
      ]
    },
    {
      "cell_type": "markdown",
      "metadata": {
        "id": "4wN5jFvap_zY",
        "colab_type": "text"
      },
      "source": [
        "| Field | Field explanation | Unit of measure\n",
        "| --- | --- | --- |\n",
        "| tms_loading | timestamp of the loading |\n",
        "| date_loading | data of the loading |\n",
        "| os | operating system |\n",
        "| brand | brand of the product |\n",
        "| model | model of the product |\n",
        "| price | current price | €\n",
        "| original_price | original price | €\n",
        "| ram |\tram | GB\n",
        "| memory | internal memory | GB\n",
        "| sim | one sim / dual sim |\n",
        "| gps | gps |\n",
        "| a-gps | assisted gps |\n",
        "| color | color |\n",
        "| display_type | display type |\n",
        "| display_size | display size | inches\n",
        "| carrier | carrier |\n",
        "| battery_capacity | capacity of the battery |\n",
        "| height | height of the product | mm\n",
        "| width\t| width of the samrtphone | mm\n",
        "| length | length of the product | mm\n",
        "| weigth | weigth of the product | g\n",
        "| price range | price range |\n",
        "| discount | discounted value | €\n",
        "| discount_perc | discout percentage applied |\n",
        "| flag_discount | discounted / not discounted |"
      ]
    },
    {
      "cell_type": "markdown",
      "metadata": {
        "id": "-cOzo914qWhn",
        "colab_type": "text"
      },
      "source": [
        "---\n",
        "\n",
        "# Loading"
      ]
    },
    {
      "cell_type": "markdown",
      "metadata": {
        "id": "A1J7W9PhxfyP",
        "colab_type": "text"
      },
      "source": [
        "Export the dataset into a csv file"
      ]
    },
    {
      "cell_type": "markdown",
      "metadata": {
        "id": "GA4hxtJ3qBy4",
        "colab_type": "text"
      },
      "source": [
        "---\n",
        "\n",
        "# Data Visualization"
      ]
    },
    {
      "cell_type": "markdown",
      "metadata": {
        "id": "UDk1Yjl0xY35",
        "colab_type": "text"
      },
      "source": [
        "Go to the published POWER BI Dashboard"
      ]
    }
  ]
}