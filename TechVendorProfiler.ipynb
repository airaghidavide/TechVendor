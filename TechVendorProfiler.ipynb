{
  "nbformat": 4,
  "nbformat_minor": 0,
  "metadata": {
    "colab": {
      "name": "TechVendorProfiler.ipynb",
      "provenance": [],
      "collapsed_sections": [],
      "toc_visible": true
    },
    "kernelspec": {
      "name": "python3",
      "display_name": "Python 3"
    },
    "widgets": {
      "application/vnd.jupyter.widget-state+json": {
        "2e665a2f067748eea022a09dc49256db": {
          "model_module": "@jupyter-widgets/controls",
          "model_name": "HBoxModel",
          "state": {
            "_view_name": "HBoxView",
            "_dom_classes": [],
            "_model_name": "HBoxModel",
            "_view_module": "@jupyter-widgets/controls",
            "_model_module_version": "1.5.0",
            "_view_count": null,
            "_view_module_version": "1.5.0",
            "box_style": "",
            "layout": "IPY_MODEL_bcd9c71ca6924bb8834d0c77963bbec6",
            "_model_module": "@jupyter-widgets/controls",
            "children": [
              "IPY_MODEL_cac237ed09b843fc9b7f1a3ea09166d8",
              "IPY_MODEL_95f9a11c7d4e4b74840d3a5be41bfca1"
            ]
          }
        },
        "bcd9c71ca6924bb8834d0c77963bbec6": {
          "model_module": "@jupyter-widgets/base",
          "model_name": "LayoutModel",
          "state": {
            "_view_name": "LayoutView",
            "grid_template_rows": null,
            "right": null,
            "justify_content": null,
            "_view_module": "@jupyter-widgets/base",
            "overflow": null,
            "_model_module_version": "1.2.0",
            "_view_count": null,
            "flex_flow": null,
            "width": null,
            "min_width": null,
            "border": null,
            "align_items": null,
            "bottom": null,
            "_model_module": "@jupyter-widgets/base",
            "top": null,
            "grid_column": null,
            "overflow_y": null,
            "overflow_x": null,
            "grid_auto_flow": null,
            "grid_area": null,
            "grid_template_columns": null,
            "flex": null,
            "_model_name": "LayoutModel",
            "justify_items": null,
            "grid_row": null,
            "max_height": null,
            "align_content": null,
            "visibility": null,
            "align_self": null,
            "height": null,
            "min_height": null,
            "padding": null,
            "grid_auto_rows": null,
            "grid_gap": null,
            "max_width": null,
            "order": null,
            "_view_module_version": "1.2.0",
            "grid_template_areas": null,
            "object_position": null,
            "object_fit": null,
            "grid_auto_columns": null,
            "margin": null,
            "display": null,
            "left": null
          }
        },
        "cac237ed09b843fc9b7f1a3ea09166d8": {
          "model_module": "@jupyter-widgets/controls",
          "model_name": "FloatProgressModel",
          "state": {
            "_view_name": "ProgressView",
            "style": "IPY_MODEL_a95587e5b213451e8eabd4af571fa740",
            "_dom_classes": [],
            "description": "100%",
            "_model_name": "FloatProgressModel",
            "bar_style": "success",
            "max": 13,
            "_view_module": "@jupyter-widgets/controls",
            "_model_module_version": "1.5.0",
            "value": 13,
            "_view_count": null,
            "_view_module_version": "1.5.0",
            "orientation": "horizontal",
            "min": 0,
            "description_tooltip": null,
            "_model_module": "@jupyter-widgets/controls",
            "layout": "IPY_MODEL_bcfe27c71185447eaf37c6fdb7947217"
          }
        },
        "95f9a11c7d4e4b74840d3a5be41bfca1": {
          "model_module": "@jupyter-widgets/controls",
          "model_name": "HTMLModel",
          "state": {
            "_view_name": "HTMLView",
            "style": "IPY_MODEL_77312f9d680e4b5b96731c769b40c3bb",
            "_dom_classes": [],
            "description": "",
            "_model_name": "HTMLModel",
            "placeholder": "​",
            "_view_module": "@jupyter-widgets/controls",
            "_model_module_version": "1.5.0",
            "value": " 13/13 [2:15:40&lt;00:00, 626.21s/it]",
            "_view_count": null,
            "_view_module_version": "1.5.0",
            "description_tooltip": null,
            "_model_module": "@jupyter-widgets/controls",
            "layout": "IPY_MODEL_b727b44756ea4874ae34b10978e6ea15"
          }
        },
        "a95587e5b213451e8eabd4af571fa740": {
          "model_module": "@jupyter-widgets/controls",
          "model_name": "ProgressStyleModel",
          "state": {
            "_view_name": "StyleView",
            "_model_name": "ProgressStyleModel",
            "description_width": "initial",
            "_view_module": "@jupyter-widgets/base",
            "_model_module_version": "1.5.0",
            "_view_count": null,
            "_view_module_version": "1.2.0",
            "bar_color": null,
            "_model_module": "@jupyter-widgets/controls"
          }
        },
        "bcfe27c71185447eaf37c6fdb7947217": {
          "model_module": "@jupyter-widgets/base",
          "model_name": "LayoutModel",
          "state": {
            "_view_name": "LayoutView",
            "grid_template_rows": null,
            "right": null,
            "justify_content": null,
            "_view_module": "@jupyter-widgets/base",
            "overflow": null,
            "_model_module_version": "1.2.0",
            "_view_count": null,
            "flex_flow": null,
            "width": null,
            "min_width": null,
            "border": null,
            "align_items": null,
            "bottom": null,
            "_model_module": "@jupyter-widgets/base",
            "top": null,
            "grid_column": null,
            "overflow_y": null,
            "overflow_x": null,
            "grid_auto_flow": null,
            "grid_area": null,
            "grid_template_columns": null,
            "flex": null,
            "_model_name": "LayoutModel",
            "justify_items": null,
            "grid_row": null,
            "max_height": null,
            "align_content": null,
            "visibility": null,
            "align_self": null,
            "height": null,
            "min_height": null,
            "padding": null,
            "grid_auto_rows": null,
            "grid_gap": null,
            "max_width": null,
            "order": null,
            "_view_module_version": "1.2.0",
            "grid_template_areas": null,
            "object_position": null,
            "object_fit": null,
            "grid_auto_columns": null,
            "margin": null,
            "display": null,
            "left": null
          }
        },
        "77312f9d680e4b5b96731c769b40c3bb": {
          "model_module": "@jupyter-widgets/controls",
          "model_name": "DescriptionStyleModel",
          "state": {
            "_view_name": "StyleView",
            "_model_name": "DescriptionStyleModel",
            "description_width": "",
            "_view_module": "@jupyter-widgets/base",
            "_model_module_version": "1.5.0",
            "_view_count": null,
            "_view_module_version": "1.2.0",
            "_model_module": "@jupyter-widgets/controls"
          }
        },
        "b727b44756ea4874ae34b10978e6ea15": {
          "model_module": "@jupyter-widgets/base",
          "model_name": "LayoutModel",
          "state": {
            "_view_name": "LayoutView",
            "grid_template_rows": null,
            "right": null,
            "justify_content": null,
            "_view_module": "@jupyter-widgets/base",
            "overflow": null,
            "_model_module_version": "1.2.0",
            "_view_count": null,
            "flex_flow": null,
            "width": null,
            "min_width": null,
            "border": null,
            "align_items": null,
            "bottom": null,
            "_model_module": "@jupyter-widgets/base",
            "top": null,
            "grid_column": null,
            "overflow_y": null,
            "overflow_x": null,
            "grid_auto_flow": null,
            "grid_area": null,
            "grid_template_columns": null,
            "flex": null,
            "_model_name": "LayoutModel",
            "justify_items": null,
            "grid_row": null,
            "max_height": null,
            "align_content": null,
            "visibility": null,
            "align_self": null,
            "height": null,
            "min_height": null,
            "padding": null,
            "grid_auto_rows": null,
            "grid_gap": null,
            "max_width": null,
            "order": null,
            "_view_module_version": "1.2.0",
            "grid_template_areas": null,
            "object_position": null,
            "object_fit": null,
            "grid_auto_columns": null,
            "margin": null,
            "display": null,
            "left": null
          }
        },
        "b1acae52528d4e7991ff20955ee1b55c": {
          "model_module": "@jupyter-widgets/controls",
          "model_name": "HBoxModel",
          "state": {
            "_view_name": "HBoxView",
            "_dom_classes": [],
            "_model_name": "HBoxModel",
            "_view_module": "@jupyter-widgets/controls",
            "_model_module_version": "1.5.0",
            "_view_count": null,
            "_view_module_version": "1.5.0",
            "box_style": "",
            "layout": "IPY_MODEL_de6b2200e0944c958fe5028ebdb65e9d",
            "_model_module": "@jupyter-widgets/controls",
            "children": [
              "IPY_MODEL_1dab4c2a60674f9999bca9937083c5a3",
              "IPY_MODEL_d95a4eb308c64731906a9d501543d997"
            ]
          }
        },
        "de6b2200e0944c958fe5028ebdb65e9d": {
          "model_module": "@jupyter-widgets/base",
          "model_name": "LayoutModel",
          "state": {
            "_view_name": "LayoutView",
            "grid_template_rows": null,
            "right": null,
            "justify_content": null,
            "_view_module": "@jupyter-widgets/base",
            "overflow": null,
            "_model_module_version": "1.2.0",
            "_view_count": null,
            "flex_flow": null,
            "width": null,
            "min_width": null,
            "border": null,
            "align_items": null,
            "bottom": null,
            "_model_module": "@jupyter-widgets/base",
            "top": null,
            "grid_column": null,
            "overflow_y": null,
            "overflow_x": null,
            "grid_auto_flow": null,
            "grid_area": null,
            "grid_template_columns": null,
            "flex": null,
            "_model_name": "LayoutModel",
            "justify_items": null,
            "grid_row": null,
            "max_height": null,
            "align_content": null,
            "visibility": null,
            "align_self": null,
            "height": null,
            "min_height": null,
            "padding": null,
            "grid_auto_rows": null,
            "grid_gap": null,
            "max_width": null,
            "order": null,
            "_view_module_version": "1.2.0",
            "grid_template_areas": null,
            "object_position": null,
            "object_fit": null,
            "grid_auto_columns": null,
            "margin": null,
            "display": null,
            "left": null
          }
        },
        "1dab4c2a60674f9999bca9937083c5a3": {
          "model_module": "@jupyter-widgets/controls",
          "model_name": "FloatProgressModel",
          "state": {
            "_view_name": "ProgressView",
            "style": "IPY_MODEL_d05691afcc9144b5abbb37b168d0ddfc",
            "_dom_classes": [],
            "description": "",
            "_model_name": "FloatProgressModel",
            "bar_style": "success",
            "max": 1,
            "_view_module": "@jupyter-widgets/controls",
            "_model_module_version": "1.5.0",
            "value": 1,
            "_view_count": null,
            "_view_module_version": "1.5.0",
            "orientation": "horizontal",
            "min": 0,
            "description_tooltip": null,
            "_model_module": "@jupyter-widgets/controls",
            "layout": "IPY_MODEL_2130ef49cd0c4a8d8e48bc9efa69879d"
          }
        },
        "d95a4eb308c64731906a9d501543d997": {
          "model_module": "@jupyter-widgets/controls",
          "model_name": "HTMLModel",
          "state": {
            "_view_name": "HTMLView",
            "style": "IPY_MODEL_8ba4de6c4fe94fcd830420e18e052bb7",
            "_dom_classes": [],
            "description": "",
            "_model_name": "HTMLModel",
            "placeholder": "​",
            "_view_module": "@jupyter-widgets/controls",
            "_model_module_version": "1.5.0",
            "value": " 296/? [2:11:49&lt;00:00, 26.72s/it]",
            "_view_count": null,
            "_view_module_version": "1.5.0",
            "description_tooltip": null,
            "_model_module": "@jupyter-widgets/controls",
            "layout": "IPY_MODEL_88d0cffd8f9545f09c250022f9832f82"
          }
        },
        "d05691afcc9144b5abbb37b168d0ddfc": {
          "model_module": "@jupyter-widgets/controls",
          "model_name": "ProgressStyleModel",
          "state": {
            "_view_name": "StyleView",
            "_model_name": "ProgressStyleModel",
            "description_width": "initial",
            "_view_module": "@jupyter-widgets/base",
            "_model_module_version": "1.5.0",
            "_view_count": null,
            "_view_module_version": "1.2.0",
            "bar_color": null,
            "_model_module": "@jupyter-widgets/controls"
          }
        },
        "2130ef49cd0c4a8d8e48bc9efa69879d": {
          "model_module": "@jupyter-widgets/base",
          "model_name": "LayoutModel",
          "state": {
            "_view_name": "LayoutView",
            "grid_template_rows": null,
            "right": null,
            "justify_content": null,
            "_view_module": "@jupyter-widgets/base",
            "overflow": null,
            "_model_module_version": "1.2.0",
            "_view_count": null,
            "flex_flow": null,
            "width": null,
            "min_width": null,
            "border": null,
            "align_items": null,
            "bottom": null,
            "_model_module": "@jupyter-widgets/base",
            "top": null,
            "grid_column": null,
            "overflow_y": null,
            "overflow_x": null,
            "grid_auto_flow": null,
            "grid_area": null,
            "grid_template_columns": null,
            "flex": null,
            "_model_name": "LayoutModel",
            "justify_items": null,
            "grid_row": null,
            "max_height": null,
            "align_content": null,
            "visibility": null,
            "align_self": null,
            "height": null,
            "min_height": null,
            "padding": null,
            "grid_auto_rows": null,
            "grid_gap": null,
            "max_width": null,
            "order": null,
            "_view_module_version": "1.2.0",
            "grid_template_areas": null,
            "object_position": null,
            "object_fit": null,
            "grid_auto_columns": null,
            "margin": null,
            "display": null,
            "left": null
          }
        },
        "8ba4de6c4fe94fcd830420e18e052bb7": {
          "model_module": "@jupyter-widgets/controls",
          "model_name": "DescriptionStyleModel",
          "state": {
            "_view_name": "StyleView",
            "_model_name": "DescriptionStyleModel",
            "description_width": "",
            "_view_module": "@jupyter-widgets/base",
            "_model_module_version": "1.5.0",
            "_view_count": null,
            "_view_module_version": "1.2.0",
            "_model_module": "@jupyter-widgets/controls"
          }
        },
        "88d0cffd8f9545f09c250022f9832f82": {
          "model_module": "@jupyter-widgets/base",
          "model_name": "LayoutModel",
          "state": {
            "_view_name": "LayoutView",
            "grid_template_rows": null,
            "right": null,
            "justify_content": null,
            "_view_module": "@jupyter-widgets/base",
            "overflow": null,
            "_model_module_version": "1.2.0",
            "_view_count": null,
            "flex_flow": null,
            "width": null,
            "min_width": null,
            "border": null,
            "align_items": null,
            "bottom": null,
            "_model_module": "@jupyter-widgets/base",
            "top": null,
            "grid_column": null,
            "overflow_y": null,
            "overflow_x": null,
            "grid_auto_flow": null,
            "grid_area": null,
            "grid_template_columns": null,
            "flex": null,
            "_model_name": "LayoutModel",
            "justify_items": null,
            "grid_row": null,
            "max_height": null,
            "align_content": null,
            "visibility": null,
            "align_self": null,
            "height": null,
            "min_height": null,
            "padding": null,
            "grid_auto_rows": null,
            "grid_gap": null,
            "max_width": null,
            "order": null,
            "_view_module_version": "1.2.0",
            "grid_template_areas": null,
            "object_position": null,
            "object_fit": null,
            "grid_auto_columns": null,
            "margin": null,
            "display": null,
            "left": null
          }
        },
        "90aefe5464564fb299348a64e40a8637": {
          "model_module": "@jupyter-widgets/controls",
          "model_name": "HBoxModel",
          "state": {
            "_view_name": "HBoxView",
            "_dom_classes": [],
            "_model_name": "HBoxModel",
            "_view_module": "@jupyter-widgets/controls",
            "_model_module_version": "1.5.0",
            "_view_count": null,
            "_view_module_version": "1.5.0",
            "box_style": "",
            "layout": "IPY_MODEL_88e9f372885649198113da603c268c09",
            "_model_module": "@jupyter-widgets/controls",
            "children": [
              "IPY_MODEL_c986bdecab2a4a05960b46b3d55df74b",
              "IPY_MODEL_0d5791d6423041c388eaf7f4b42e811d"
            ]
          }
        },
        "88e9f372885649198113da603c268c09": {
          "model_module": "@jupyter-widgets/base",
          "model_name": "LayoutModel",
          "state": {
            "_view_name": "LayoutView",
            "grid_template_rows": null,
            "right": null,
            "justify_content": null,
            "_view_module": "@jupyter-widgets/base",
            "overflow": null,
            "_model_module_version": "1.2.0",
            "_view_count": null,
            "flex_flow": null,
            "width": null,
            "min_width": null,
            "border": null,
            "align_items": null,
            "bottom": null,
            "_model_module": "@jupyter-widgets/base",
            "top": null,
            "grid_column": null,
            "overflow_y": null,
            "overflow_x": null,
            "grid_auto_flow": null,
            "grid_area": null,
            "grid_template_columns": null,
            "flex": null,
            "_model_name": "LayoutModel",
            "justify_items": null,
            "grid_row": null,
            "max_height": null,
            "align_content": null,
            "visibility": null,
            "align_self": null,
            "height": null,
            "min_height": null,
            "padding": null,
            "grid_auto_rows": null,
            "grid_gap": null,
            "max_width": null,
            "order": null,
            "_view_module_version": "1.2.0",
            "grid_template_areas": null,
            "object_position": null,
            "object_fit": null,
            "grid_auto_columns": null,
            "margin": null,
            "display": null,
            "left": null
          }
        },
        "c986bdecab2a4a05960b46b3d55df74b": {
          "model_module": "@jupyter-widgets/controls",
          "model_name": "FloatProgressModel",
          "state": {
            "_view_name": "ProgressView",
            "style": "IPY_MODEL_a7acefc2940a49ec9ca565fdb65129ef",
            "_dom_classes": [],
            "description": "100%",
            "_model_name": "FloatProgressModel",
            "bar_style": "success",
            "max": 19,
            "_view_module": "@jupyter-widgets/controls",
            "_model_module_version": "1.5.0",
            "value": 19,
            "_view_count": null,
            "_view_module_version": "1.5.0",
            "orientation": "horizontal",
            "min": 0,
            "description_tooltip": null,
            "_model_module": "@jupyter-widgets/controls",
            "layout": "IPY_MODEL_f44d45db792042fbb95dd4641a3b6cfb"
          }
        },
        "0d5791d6423041c388eaf7f4b42e811d": {
          "model_module": "@jupyter-widgets/controls",
          "model_name": "HTMLModel",
          "state": {
            "_view_name": "HTMLView",
            "style": "IPY_MODEL_1c98ee50f2a04dd1a5fbc7f73295e583",
            "_dom_classes": [],
            "description": "",
            "_model_name": "HTMLModel",
            "placeholder": "​",
            "_view_module": "@jupyter-widgets/controls",
            "_model_module_version": "1.5.0",
            "value": " 19/19 [1:47:55&lt;00:00, 340.83s/it]",
            "_view_count": null,
            "_view_module_version": "1.5.0",
            "description_tooltip": null,
            "_model_module": "@jupyter-widgets/controls",
            "layout": "IPY_MODEL_fbfe9d0c152d43f9b039b21368efffa5"
          }
        },
        "a7acefc2940a49ec9ca565fdb65129ef": {
          "model_module": "@jupyter-widgets/controls",
          "model_name": "ProgressStyleModel",
          "state": {
            "_view_name": "StyleView",
            "_model_name": "ProgressStyleModel",
            "description_width": "initial",
            "_view_module": "@jupyter-widgets/base",
            "_model_module_version": "1.5.0",
            "_view_count": null,
            "_view_module_version": "1.2.0",
            "bar_color": null,
            "_model_module": "@jupyter-widgets/controls"
          }
        },
        "f44d45db792042fbb95dd4641a3b6cfb": {
          "model_module": "@jupyter-widgets/base",
          "model_name": "LayoutModel",
          "state": {
            "_view_name": "LayoutView",
            "grid_template_rows": null,
            "right": null,
            "justify_content": null,
            "_view_module": "@jupyter-widgets/base",
            "overflow": null,
            "_model_module_version": "1.2.0",
            "_view_count": null,
            "flex_flow": null,
            "width": null,
            "min_width": null,
            "border": null,
            "align_items": null,
            "bottom": null,
            "_model_module": "@jupyter-widgets/base",
            "top": null,
            "grid_column": null,
            "overflow_y": null,
            "overflow_x": null,
            "grid_auto_flow": null,
            "grid_area": null,
            "grid_template_columns": null,
            "flex": null,
            "_model_name": "LayoutModel",
            "justify_items": null,
            "grid_row": null,
            "max_height": null,
            "align_content": null,
            "visibility": null,
            "align_self": null,
            "height": null,
            "min_height": null,
            "padding": null,
            "grid_auto_rows": null,
            "grid_gap": null,
            "max_width": null,
            "order": null,
            "_view_module_version": "1.2.0",
            "grid_template_areas": null,
            "object_position": null,
            "object_fit": null,
            "grid_auto_columns": null,
            "margin": null,
            "display": null,
            "left": null
          }
        },
        "1c98ee50f2a04dd1a5fbc7f73295e583": {
          "model_module": "@jupyter-widgets/controls",
          "model_name": "DescriptionStyleModel",
          "state": {
            "_view_name": "StyleView",
            "_model_name": "DescriptionStyleModel",
            "description_width": "",
            "_view_module": "@jupyter-widgets/base",
            "_model_module_version": "1.5.0",
            "_view_count": null,
            "_view_module_version": "1.2.0",
            "_model_module": "@jupyter-widgets/controls"
          }
        },
        "fbfe9d0c152d43f9b039b21368efffa5": {
          "model_module": "@jupyter-widgets/base",
          "model_name": "LayoutModel",
          "state": {
            "_view_name": "LayoutView",
            "grid_template_rows": null,
            "right": null,
            "justify_content": null,
            "_view_module": "@jupyter-widgets/base",
            "overflow": null,
            "_model_module_version": "1.2.0",
            "_view_count": null,
            "flex_flow": null,
            "width": null,
            "min_width": null,
            "border": null,
            "align_items": null,
            "bottom": null,
            "_model_module": "@jupyter-widgets/base",
            "top": null,
            "grid_column": null,
            "overflow_y": null,
            "overflow_x": null,
            "grid_auto_flow": null,
            "grid_area": null,
            "grid_template_columns": null,
            "flex": null,
            "_model_name": "LayoutModel",
            "justify_items": null,
            "grid_row": null,
            "max_height": null,
            "align_content": null,
            "visibility": null,
            "align_self": null,
            "height": null,
            "min_height": null,
            "padding": null,
            "grid_auto_rows": null,
            "grid_gap": null,
            "max_width": null,
            "order": null,
            "_view_module_version": "1.2.0",
            "grid_template_areas": null,
            "object_position": null,
            "object_fit": null,
            "grid_auto_columns": null,
            "margin": null,
            "display": null,
            "left": null
          }
        },
        "81d46d3d569040128efb89ed139712b5": {
          "model_module": "@jupyter-widgets/controls",
          "model_name": "HBoxModel",
          "state": {
            "_view_name": "HBoxView",
            "_dom_classes": [],
            "_model_name": "HBoxModel",
            "_view_module": "@jupyter-widgets/controls",
            "_model_module_version": "1.5.0",
            "_view_count": null,
            "_view_module_version": "1.5.0",
            "box_style": "",
            "layout": "IPY_MODEL_4390fb3d0e5a4a1797fd6ee96ec1a501",
            "_model_module": "@jupyter-widgets/controls",
            "children": [
              "IPY_MODEL_ffc256c8f16b4e60916aa0c856fd8447",
              "IPY_MODEL_51c67dec4d47400d8f708fe990fbfccf"
            ]
          }
        },
        "4390fb3d0e5a4a1797fd6ee96ec1a501": {
          "model_module": "@jupyter-widgets/base",
          "model_name": "LayoutModel",
          "state": {
            "_view_name": "LayoutView",
            "grid_template_rows": null,
            "right": null,
            "justify_content": null,
            "_view_module": "@jupyter-widgets/base",
            "overflow": null,
            "_model_module_version": "1.2.0",
            "_view_count": null,
            "flex_flow": null,
            "width": null,
            "min_width": null,
            "border": null,
            "align_items": null,
            "bottom": null,
            "_model_module": "@jupyter-widgets/base",
            "top": null,
            "grid_column": null,
            "overflow_y": null,
            "overflow_x": null,
            "grid_auto_flow": null,
            "grid_area": null,
            "grid_template_columns": null,
            "flex": null,
            "_model_name": "LayoutModel",
            "justify_items": null,
            "grid_row": null,
            "max_height": null,
            "align_content": null,
            "visibility": null,
            "align_self": null,
            "height": null,
            "min_height": null,
            "padding": null,
            "grid_auto_rows": null,
            "grid_gap": null,
            "max_width": null,
            "order": null,
            "_view_module_version": "1.2.0",
            "grid_template_areas": null,
            "object_position": null,
            "object_fit": null,
            "grid_auto_columns": null,
            "margin": null,
            "display": null,
            "left": null
          }
        },
        "ffc256c8f16b4e60916aa0c856fd8447": {
          "model_module": "@jupyter-widgets/controls",
          "model_name": "FloatProgressModel",
          "state": {
            "_view_name": "ProgressView",
            "style": "IPY_MODEL_43f1454b9819457884c82431172869e6",
            "_dom_classes": [],
            "description": "",
            "_model_name": "FloatProgressModel",
            "bar_style": "success",
            "max": 1,
            "_view_module": "@jupyter-widgets/controls",
            "_model_module_version": "1.5.0",
            "value": 1,
            "_view_count": null,
            "_view_module_version": "1.5.0",
            "orientation": "horizontal",
            "min": 0,
            "description_tooltip": null,
            "_model_module": "@jupyter-widgets/controls",
            "layout": "IPY_MODEL_b2c620302a6e4fb2a3c1aae7c5d03ec1"
          }
        },
        "51c67dec4d47400d8f708fe990fbfccf": {
          "model_module": "@jupyter-widgets/controls",
          "model_name": "HTMLModel",
          "state": {
            "_view_name": "HTMLView",
            "style": "IPY_MODEL_1f6362a8c8554d27b1df59945985232c",
            "_dom_classes": [],
            "description": "",
            "_model_name": "HTMLModel",
            "placeholder": "​",
            "_view_module": "@jupyter-widgets/controls",
            "_model_module_version": "1.5.0",
            "value": " 446/? [5:26:03&lt;00:00, 43.86s/it]",
            "_view_count": null,
            "_view_module_version": "1.5.0",
            "description_tooltip": null,
            "_model_module": "@jupyter-widgets/controls",
            "layout": "IPY_MODEL_47444711d80e44fc8b70f992965973cb"
          }
        },
        "43f1454b9819457884c82431172869e6": {
          "model_module": "@jupyter-widgets/controls",
          "model_name": "ProgressStyleModel",
          "state": {
            "_view_name": "StyleView",
            "_model_name": "ProgressStyleModel",
            "description_width": "initial",
            "_view_module": "@jupyter-widgets/base",
            "_model_module_version": "1.5.0",
            "_view_count": null,
            "_view_module_version": "1.2.0",
            "bar_color": null,
            "_model_module": "@jupyter-widgets/controls"
          }
        },
        "b2c620302a6e4fb2a3c1aae7c5d03ec1": {
          "model_module": "@jupyter-widgets/base",
          "model_name": "LayoutModel",
          "state": {
            "_view_name": "LayoutView",
            "grid_template_rows": null,
            "right": null,
            "justify_content": null,
            "_view_module": "@jupyter-widgets/base",
            "overflow": null,
            "_model_module_version": "1.2.0",
            "_view_count": null,
            "flex_flow": null,
            "width": null,
            "min_width": null,
            "border": null,
            "align_items": null,
            "bottom": null,
            "_model_module": "@jupyter-widgets/base",
            "top": null,
            "grid_column": null,
            "overflow_y": null,
            "overflow_x": null,
            "grid_auto_flow": null,
            "grid_area": null,
            "grid_template_columns": null,
            "flex": null,
            "_model_name": "LayoutModel",
            "justify_items": null,
            "grid_row": null,
            "max_height": null,
            "align_content": null,
            "visibility": null,
            "align_self": null,
            "height": null,
            "min_height": null,
            "padding": null,
            "grid_auto_rows": null,
            "grid_gap": null,
            "max_width": null,
            "order": null,
            "_view_module_version": "1.2.0",
            "grid_template_areas": null,
            "object_position": null,
            "object_fit": null,
            "grid_auto_columns": null,
            "margin": null,
            "display": null,
            "left": null
          }
        },
        "1f6362a8c8554d27b1df59945985232c": {
          "model_module": "@jupyter-widgets/controls",
          "model_name": "DescriptionStyleModel",
          "state": {
            "_view_name": "StyleView",
            "_model_name": "DescriptionStyleModel",
            "description_width": "",
            "_view_module": "@jupyter-widgets/base",
            "_model_module_version": "1.5.0",
            "_view_count": null,
            "_view_module_version": "1.2.0",
            "_model_module": "@jupyter-widgets/controls"
          }
        },
        "47444711d80e44fc8b70f992965973cb": {
          "model_module": "@jupyter-widgets/base",
          "model_name": "LayoutModel",
          "state": {
            "_view_name": "LayoutView",
            "grid_template_rows": null,
            "right": null,
            "justify_content": null,
            "_view_module": "@jupyter-widgets/base",
            "overflow": null,
            "_model_module_version": "1.2.0",
            "_view_count": null,
            "flex_flow": null,
            "width": null,
            "min_width": null,
            "border": null,
            "align_items": null,
            "bottom": null,
            "_model_module": "@jupyter-widgets/base",
            "top": null,
            "grid_column": null,
            "overflow_y": null,
            "overflow_x": null,
            "grid_auto_flow": null,
            "grid_area": null,
            "grid_template_columns": null,
            "flex": null,
            "_model_name": "LayoutModel",
            "justify_items": null,
            "grid_row": null,
            "max_height": null,
            "align_content": null,
            "visibility": null,
            "align_self": null,
            "height": null,
            "min_height": null,
            "padding": null,
            "grid_auto_rows": null,
            "grid_gap": null,
            "max_width": null,
            "order": null,
            "_view_module_version": "1.2.0",
            "grid_template_areas": null,
            "object_position": null,
            "object_fit": null,
            "grid_auto_columns": null,
            "margin": null,
            "display": null,
            "left": null
          }
        },
        "f1c556c69ebc4dd28bcc2fb5efa85dde": {
          "model_module": "@jupyter-widgets/controls",
          "model_name": "HBoxModel",
          "state": {
            "_view_name": "HBoxView",
            "_dom_classes": [],
            "_model_name": "HBoxModel",
            "_view_module": "@jupyter-widgets/controls",
            "_model_module_version": "1.5.0",
            "_view_count": null,
            "_view_module_version": "1.5.0",
            "box_style": "",
            "layout": "IPY_MODEL_09c43f3c6b804ca78bd5c6edec082aec",
            "_model_module": "@jupyter-widgets/controls",
            "children": [
              "IPY_MODEL_559564bcbb2c459ba3cf1a5d772c9fb2",
              "IPY_MODEL_fdf0c89cf0dd47689d971e83b336e9b5"
            ]
          }
        },
        "09c43f3c6b804ca78bd5c6edec082aec": {
          "model_module": "@jupyter-widgets/base",
          "model_name": "LayoutModel",
          "state": {
            "_view_name": "LayoutView",
            "grid_template_rows": null,
            "right": null,
            "justify_content": null,
            "_view_module": "@jupyter-widgets/base",
            "overflow": null,
            "_model_module_version": "1.2.0",
            "_view_count": null,
            "flex_flow": null,
            "width": null,
            "min_width": null,
            "border": null,
            "align_items": null,
            "bottom": null,
            "_model_module": "@jupyter-widgets/base",
            "top": null,
            "grid_column": null,
            "overflow_y": null,
            "overflow_x": null,
            "grid_auto_flow": null,
            "grid_area": null,
            "grid_template_columns": null,
            "flex": null,
            "_model_name": "LayoutModel",
            "justify_items": null,
            "grid_row": null,
            "max_height": null,
            "align_content": null,
            "visibility": null,
            "align_self": null,
            "height": null,
            "min_height": null,
            "padding": null,
            "grid_auto_rows": null,
            "grid_gap": null,
            "max_width": null,
            "order": null,
            "_view_module_version": "1.2.0",
            "grid_template_areas": null,
            "object_position": null,
            "object_fit": null,
            "grid_auto_columns": null,
            "margin": null,
            "display": null,
            "left": null
          }
        },
        "559564bcbb2c459ba3cf1a5d772c9fb2": {
          "model_module": "@jupyter-widgets/controls",
          "model_name": "FloatProgressModel",
          "state": {
            "_view_name": "ProgressView",
            "style": "IPY_MODEL_5d77c29519794f1f9cc31061e454c20d",
            "_dom_classes": [],
            "description": "100%",
            "_model_name": "FloatProgressModel",
            "bar_style": "success",
            "max": 3,
            "_view_module": "@jupyter-widgets/controls",
            "_model_module_version": "1.5.0",
            "value": 3,
            "_view_count": null,
            "_view_module_version": "1.5.0",
            "orientation": "horizontal",
            "min": 0,
            "description_tooltip": null,
            "_model_module": "@jupyter-widgets/controls",
            "layout": "IPY_MODEL_fa215bb8ab7d40ebb7ce89292ad770a5"
          }
        },
        "fdf0c89cf0dd47689d971e83b336e9b5": {
          "model_module": "@jupyter-widgets/controls",
          "model_name": "HTMLModel",
          "state": {
            "_view_name": "HTMLView",
            "style": "IPY_MODEL_ad546162fd72497a8eaf8a303160bcd3",
            "_dom_classes": [],
            "description": "",
            "_model_name": "HTMLModel",
            "placeholder": "​",
            "_view_module": "@jupyter-widgets/controls",
            "_model_module_version": "1.5.0",
            "value": " 3/3 [00:41&lt;00:00, 13.88s/it]",
            "_view_count": null,
            "_view_module_version": "1.5.0",
            "description_tooltip": null,
            "_model_module": "@jupyter-widgets/controls",
            "layout": "IPY_MODEL_8802e4b419f04b3b9b9225855a731c05"
          }
        },
        "5d77c29519794f1f9cc31061e454c20d": {
          "model_module": "@jupyter-widgets/controls",
          "model_name": "ProgressStyleModel",
          "state": {
            "_view_name": "StyleView",
            "_model_name": "ProgressStyleModel",
            "description_width": "initial",
            "_view_module": "@jupyter-widgets/base",
            "_model_module_version": "1.5.0",
            "_view_count": null,
            "_view_module_version": "1.2.0",
            "bar_color": null,
            "_model_module": "@jupyter-widgets/controls"
          }
        },
        "fa215bb8ab7d40ebb7ce89292ad770a5": {
          "model_module": "@jupyter-widgets/base",
          "model_name": "LayoutModel",
          "state": {
            "_view_name": "LayoutView",
            "grid_template_rows": null,
            "right": null,
            "justify_content": null,
            "_view_module": "@jupyter-widgets/base",
            "overflow": null,
            "_model_module_version": "1.2.0",
            "_view_count": null,
            "flex_flow": null,
            "width": null,
            "min_width": null,
            "border": null,
            "align_items": null,
            "bottom": null,
            "_model_module": "@jupyter-widgets/base",
            "top": null,
            "grid_column": null,
            "overflow_y": null,
            "overflow_x": null,
            "grid_auto_flow": null,
            "grid_area": null,
            "grid_template_columns": null,
            "flex": null,
            "_model_name": "LayoutModel",
            "justify_items": null,
            "grid_row": null,
            "max_height": null,
            "align_content": null,
            "visibility": null,
            "align_self": null,
            "height": null,
            "min_height": null,
            "padding": null,
            "grid_auto_rows": null,
            "grid_gap": null,
            "max_width": null,
            "order": null,
            "_view_module_version": "1.2.0",
            "grid_template_areas": null,
            "object_position": null,
            "object_fit": null,
            "grid_auto_columns": null,
            "margin": null,
            "display": null,
            "left": null
          }
        },
        "ad546162fd72497a8eaf8a303160bcd3": {
          "model_module": "@jupyter-widgets/controls",
          "model_name": "DescriptionStyleModel",
          "state": {
            "_view_name": "StyleView",
            "_model_name": "DescriptionStyleModel",
            "description_width": "",
            "_view_module": "@jupyter-widgets/base",
            "_model_module_version": "1.5.0",
            "_view_count": null,
            "_view_module_version": "1.2.0",
            "_model_module": "@jupyter-widgets/controls"
          }
        },
        "8802e4b419f04b3b9b9225855a731c05": {
          "model_module": "@jupyter-widgets/base",
          "model_name": "LayoutModel",
          "state": {
            "_view_name": "LayoutView",
            "grid_template_rows": null,
            "right": null,
            "justify_content": null,
            "_view_module": "@jupyter-widgets/base",
            "overflow": null,
            "_model_module_version": "1.2.0",
            "_view_count": null,
            "flex_flow": null,
            "width": null,
            "min_width": null,
            "border": null,
            "align_items": null,
            "bottom": null,
            "_model_module": "@jupyter-widgets/base",
            "top": null,
            "grid_column": null,
            "overflow_y": null,
            "overflow_x": null,
            "grid_auto_flow": null,
            "grid_area": null,
            "grid_template_columns": null,
            "flex": null,
            "_model_name": "LayoutModel",
            "justify_items": null,
            "grid_row": null,
            "max_height": null,
            "align_content": null,
            "visibility": null,
            "align_self": null,
            "height": null,
            "min_height": null,
            "padding": null,
            "grid_auto_rows": null,
            "grid_gap": null,
            "max_width": null,
            "order": null,
            "_view_module_version": "1.2.0",
            "grid_template_areas": null,
            "object_position": null,
            "object_fit": null,
            "grid_auto_columns": null,
            "margin": null,
            "display": null,
            "left": null
          }
        },
        "674d300e7ecb44d08dc312ac86d601d0": {
          "model_module": "@jupyter-widgets/controls",
          "model_name": "HBoxModel",
          "state": {
            "_view_name": "HBoxView",
            "_dom_classes": [],
            "_model_name": "HBoxModel",
            "_view_module": "@jupyter-widgets/controls",
            "_model_module_version": "1.5.0",
            "_view_count": null,
            "_view_module_version": "1.5.0",
            "box_style": "",
            "layout": "IPY_MODEL_36845eb34f28463b967c04fc18e2eb35",
            "_model_module": "@jupyter-widgets/controls",
            "children": [
              "IPY_MODEL_361da65e8331492da6cb2fed90ab4b2c",
              "IPY_MODEL_e88177cc1f8f4ca8933b3c215db58474"
            ]
          }
        },
        "36845eb34f28463b967c04fc18e2eb35": {
          "model_module": "@jupyter-widgets/base",
          "model_name": "LayoutModel",
          "state": {
            "_view_name": "LayoutView",
            "grid_template_rows": null,
            "right": null,
            "justify_content": null,
            "_view_module": "@jupyter-widgets/base",
            "overflow": null,
            "_model_module_version": "1.2.0",
            "_view_count": null,
            "flex_flow": null,
            "width": null,
            "min_width": null,
            "border": null,
            "align_items": null,
            "bottom": null,
            "_model_module": "@jupyter-widgets/base",
            "top": null,
            "grid_column": null,
            "overflow_y": null,
            "overflow_x": null,
            "grid_auto_flow": null,
            "grid_area": null,
            "grid_template_columns": null,
            "flex": null,
            "_model_name": "LayoutModel",
            "justify_items": null,
            "grid_row": null,
            "max_height": null,
            "align_content": null,
            "visibility": null,
            "align_self": null,
            "height": null,
            "min_height": null,
            "padding": null,
            "grid_auto_rows": null,
            "grid_gap": null,
            "max_width": null,
            "order": null,
            "_view_module_version": "1.2.0",
            "grid_template_areas": null,
            "object_position": null,
            "object_fit": null,
            "grid_auto_columns": null,
            "margin": null,
            "display": null,
            "left": null
          }
        },
        "361da65e8331492da6cb2fed90ab4b2c": {
          "model_module": "@jupyter-widgets/controls",
          "model_name": "FloatProgressModel",
          "state": {
            "_view_name": "ProgressView",
            "style": "IPY_MODEL_ff85a18fc5e44687bf95efb99a2f61b6",
            "_dom_classes": [],
            "description": "",
            "_model_name": "FloatProgressModel",
            "bar_style": "success",
            "max": 1,
            "_view_module": "@jupyter-widgets/controls",
            "_model_module_version": "1.5.0",
            "value": 1,
            "_view_count": null,
            "_view_module_version": "1.5.0",
            "orientation": "horizontal",
            "min": 0,
            "description_tooltip": null,
            "_model_module": "@jupyter-widgets/controls",
            "layout": "IPY_MODEL_7562fca36156422a9b524c36ad5b0101"
          }
        },
        "e88177cc1f8f4ca8933b3c215db58474": {
          "model_module": "@jupyter-widgets/controls",
          "model_name": "HTMLModel",
          "state": {
            "_view_name": "HTMLView",
            "style": "IPY_MODEL_1a83ee5435fb46a09831b28c5dfea201",
            "_dom_classes": [],
            "description": "",
            "_model_name": "HTMLModel",
            "placeholder": "​",
            "_view_module": "@jupyter-widgets/controls",
            "_model_module_version": "1.5.0",
            "value": " 71/? [51:03&lt;00:00, 43.15s/it]",
            "_view_count": null,
            "_view_module_version": "1.5.0",
            "description_tooltip": null,
            "_model_module": "@jupyter-widgets/controls",
            "layout": "IPY_MODEL_48541b796d074bc1a5fdaf1d0cf7e240"
          }
        },
        "ff85a18fc5e44687bf95efb99a2f61b6": {
          "model_module": "@jupyter-widgets/controls",
          "model_name": "ProgressStyleModel",
          "state": {
            "_view_name": "StyleView",
            "_model_name": "ProgressStyleModel",
            "description_width": "initial",
            "_view_module": "@jupyter-widgets/base",
            "_model_module_version": "1.5.0",
            "_view_count": null,
            "_view_module_version": "1.2.0",
            "bar_color": null,
            "_model_module": "@jupyter-widgets/controls"
          }
        },
        "7562fca36156422a9b524c36ad5b0101": {
          "model_module": "@jupyter-widgets/base",
          "model_name": "LayoutModel",
          "state": {
            "_view_name": "LayoutView",
            "grid_template_rows": null,
            "right": null,
            "justify_content": null,
            "_view_module": "@jupyter-widgets/base",
            "overflow": null,
            "_model_module_version": "1.2.0",
            "_view_count": null,
            "flex_flow": null,
            "width": null,
            "min_width": null,
            "border": null,
            "align_items": null,
            "bottom": null,
            "_model_module": "@jupyter-widgets/base",
            "top": null,
            "grid_column": null,
            "overflow_y": null,
            "overflow_x": null,
            "grid_auto_flow": null,
            "grid_area": null,
            "grid_template_columns": null,
            "flex": null,
            "_model_name": "LayoutModel",
            "justify_items": null,
            "grid_row": null,
            "max_height": null,
            "align_content": null,
            "visibility": null,
            "align_self": null,
            "height": null,
            "min_height": null,
            "padding": null,
            "grid_auto_rows": null,
            "grid_gap": null,
            "max_width": null,
            "order": null,
            "_view_module_version": "1.2.0",
            "grid_template_areas": null,
            "object_position": null,
            "object_fit": null,
            "grid_auto_columns": null,
            "margin": null,
            "display": null,
            "left": null
          }
        },
        "1a83ee5435fb46a09831b28c5dfea201": {
          "model_module": "@jupyter-widgets/controls",
          "model_name": "DescriptionStyleModel",
          "state": {
            "_view_name": "StyleView",
            "_model_name": "DescriptionStyleModel",
            "description_width": "",
            "_view_module": "@jupyter-widgets/base",
            "_model_module_version": "1.5.0",
            "_view_count": null,
            "_view_module_version": "1.2.0",
            "_model_module": "@jupyter-widgets/controls"
          }
        },
        "48541b796d074bc1a5fdaf1d0cf7e240": {
          "model_module": "@jupyter-widgets/base",
          "model_name": "LayoutModel",
          "state": {
            "_view_name": "LayoutView",
            "grid_template_rows": null,
            "right": null,
            "justify_content": null,
            "_view_module": "@jupyter-widgets/base",
            "overflow": null,
            "_model_module_version": "1.2.0",
            "_view_count": null,
            "flex_flow": null,
            "width": null,
            "min_width": null,
            "border": null,
            "align_items": null,
            "bottom": null,
            "_model_module": "@jupyter-widgets/base",
            "top": null,
            "grid_column": null,
            "overflow_y": null,
            "overflow_x": null,
            "grid_auto_flow": null,
            "grid_area": null,
            "grid_template_columns": null,
            "flex": null,
            "_model_name": "LayoutModel",
            "justify_items": null,
            "grid_row": null,
            "max_height": null,
            "align_content": null,
            "visibility": null,
            "align_self": null,
            "height": null,
            "min_height": null,
            "padding": null,
            "grid_auto_rows": null,
            "grid_gap": null,
            "max_width": null,
            "order": null,
            "_view_module_version": "1.2.0",
            "grid_template_areas": null,
            "object_position": null,
            "object_fit": null,
            "grid_auto_columns": null,
            "margin": null,
            "display": null,
            "left": null
          }
        }
      }
    }
  },
  "cells": [
    {
      "cell_type": "markdown",
      "metadata": {
        "id": "aGblc_oAwkmB",
        "colab_type": "text"
      },
      "source": [
        "# TECH VENDOR PROFILER"
      ]
    },
    {
      "cell_type": "markdown",
      "metadata": {
        "id": "Co_3FN4Eq5Ca",
        "colab_type": "text"
      },
      "source": [
        "---\n",
        "#Preparation"
      ]
    },
    {
      "cell_type": "markdown",
      "metadata": {
        "id": "IF7f8pQZ5n8O",
        "colab_type": "text"
      },
      "source": [
        "## Installing packages"
      ]
    },
    {
      "cell_type": "code",
      "metadata": {
        "id": "DveJ5GtB7Lhw",
        "colab_type": "code",
        "colab": {
          "base_uri": "https://localhost:8080/",
          "height": 1000
        },
        "outputId": "7abaed56-c93d-4120-daee-225424f441ad"
      },
      "source": [
        "!pip install selenium\n",
        "!apt-get update\n",
        "!apt install chromium-chromedriver\n",
        "!cp /usr/lib/chromium-browser/chromedriver /usr/bin"
      ],
      "execution_count": null,
      "outputs": [
        {
          "output_type": "stream",
          "text": [
            "Collecting selenium\n",
            "\u001b[?25l  Downloading https://files.pythonhosted.org/packages/80/d6/4294f0b4bce4de0abf13e17190289f9d0613b0a44e5dd6a7f5ca98459853/selenium-3.141.0-py2.py3-none-any.whl (904kB)\n",
            "\u001b[K     |████████████████████████████████| 911kB 2.6MB/s \n",
            "\u001b[?25hRequirement already satisfied: urllib3 in /usr/local/lib/python3.6/dist-packages (from selenium) (1.24.3)\n",
            "Installing collected packages: selenium\n",
            "Successfully installed selenium-3.141.0\n",
            "Get:1 https://cloud.r-project.org/bin/linux/ubuntu bionic-cran35/ InRelease [3,626 B]\n",
            "Ign:2 https://developer.download.nvidia.com/compute/cuda/repos/ubuntu1804/x86_64  InRelease\n",
            "Ign:3 https://developer.download.nvidia.com/compute/machine-learning/repos/ubuntu1804/x86_64  InRelease\n",
            "Get:4 http://security.ubuntu.com/ubuntu bionic-security InRelease [88.7 kB]\n",
            "Hit:5 http://ppa.launchpad.net/graphics-drivers/ppa/ubuntu bionic InRelease\n",
            "Get:6 https://developer.download.nvidia.com/compute/cuda/repos/ubuntu1804/x86_64  Release [697 B]\n",
            "Hit:7 https://developer.download.nvidia.com/compute/machine-learning/repos/ubuntu1804/x86_64  Release\n",
            "Get:8 https://developer.download.nvidia.com/compute/cuda/repos/ubuntu1804/x86_64  Release.gpg [836 B]\n",
            "Hit:9 http://archive.ubuntu.com/ubuntu bionic InRelease\n",
            "Get:11 http://ppa.launchpad.net/marutter/c2d4u3.5/ubuntu bionic InRelease [15.4 kB]\n",
            "Get:12 http://archive.ubuntu.com/ubuntu bionic-updates InRelease [88.7 kB]\n",
            "Ign:13 https://developer.download.nvidia.com/compute/cuda/repos/ubuntu1804/x86_64  Packages\n",
            "Get:13 https://developer.download.nvidia.com/compute/cuda/repos/ubuntu1804/x86_64  Packages [255 kB]\n",
            "Get:14 http://archive.ubuntu.com/ubuntu bionic-backports InRelease [74.6 kB]\n",
            "Get:15 http://security.ubuntu.com/ubuntu bionic-security/universe amd64 Packages [884 kB]\n",
            "Get:16 http://ppa.launchpad.net/marutter/c2d4u3.5/ubuntu bionic/main Sources [1,857 kB]\n",
            "Get:17 http://archive.ubuntu.com/ubuntu bionic-updates/main amd64 Packages [1,336 kB]\n",
            "Get:18 http://security.ubuntu.com/ubuntu bionic-security/main amd64 Packages [1,038 kB]\n",
            "Get:19 http://archive.ubuntu.com/ubuntu bionic-updates/universe amd64 Packages [1,413 kB]\n",
            "Get:20 http://security.ubuntu.com/ubuntu bionic-security/multiverse amd64 Packages [9,558 B]\n",
            "Get:21 http://archive.ubuntu.com/ubuntu bionic-updates/multiverse amd64 Packages [27.1 kB]\n",
            "Get:22 http://archive.ubuntu.com/ubuntu bionic-updates/restricted amd64 Packages [116 kB]\n",
            "Get:23 http://ppa.launchpad.net/marutter/c2d4u3.5/ubuntu bionic/main amd64 Packages [896 kB]\n",
            "Fetched 8,104 kB in 6s (1,427 kB/s)\n",
            "Reading package lists... Done\n",
            "Reading package lists... Done\n",
            "Building dependency tree       \n",
            "Reading state information... Done\n",
            "The following package was automatically installed and is no longer required:\n",
            "  libnvidia-common-440\n",
            "Use 'apt autoremove' to remove it.\n",
            "The following additional packages will be installed:\n",
            "  chromium-browser chromium-browser-l10n chromium-codecs-ffmpeg-extra\n",
            "Suggested packages:\n",
            "  webaccounts-chromium-extension unity-chromium-extension adobe-flashplugin\n",
            "The following NEW packages will be installed:\n",
            "  chromium-browser chromium-browser-l10n chromium-chromedriver\n",
            "  chromium-codecs-ffmpeg-extra\n",
            "0 upgraded, 4 newly installed, 0 to remove and 54 not upgraded.\n",
            "Need to get 76.2 MB of archives.\n",
            "After this operation, 255 MB of additional disk space will be used.\n",
            "Get:1 http://archive.ubuntu.com/ubuntu bionic-updates/universe amd64 chromium-codecs-ffmpeg-extra amd64 84.0.4147.105-0ubuntu0.18.04.1 [1,118 kB]\n",
            "Get:2 http://archive.ubuntu.com/ubuntu bionic-updates/universe amd64 chromium-browser amd64 84.0.4147.105-0ubuntu0.18.04.1 [67.4 MB]\n",
            "Get:3 http://archive.ubuntu.com/ubuntu bionic-updates/universe amd64 chromium-browser-l10n all 84.0.4147.105-0ubuntu0.18.04.1 [3,379 kB]\n",
            "Get:4 http://archive.ubuntu.com/ubuntu bionic-updates/universe amd64 chromium-chromedriver amd64 84.0.4147.105-0ubuntu0.18.04.1 [4,354 kB]\n",
            "Fetched 76.2 MB in 9s (8,830 kB/s)\n",
            "Selecting previously unselected package chromium-codecs-ffmpeg-extra.\n",
            "(Reading database ... 144487 files and directories currently installed.)\n",
            "Preparing to unpack .../chromium-codecs-ffmpeg-extra_84.0.4147.105-0ubuntu0.18.04.1_amd64.deb ...\n",
            "Unpacking chromium-codecs-ffmpeg-extra (84.0.4147.105-0ubuntu0.18.04.1) ...\n",
            "Selecting previously unselected package chromium-browser.\n",
            "Preparing to unpack .../chromium-browser_84.0.4147.105-0ubuntu0.18.04.1_amd64.deb ...\n",
            "Unpacking chromium-browser (84.0.4147.105-0ubuntu0.18.04.1) ...\n",
            "Selecting previously unselected package chromium-browser-l10n.\n",
            "Preparing to unpack .../chromium-browser-l10n_84.0.4147.105-0ubuntu0.18.04.1_all.deb ...\n",
            "Unpacking chromium-browser-l10n (84.0.4147.105-0ubuntu0.18.04.1) ...\n",
            "Selecting previously unselected package chromium-chromedriver.\n",
            "Preparing to unpack .../chromium-chromedriver_84.0.4147.105-0ubuntu0.18.04.1_amd64.deb ...\n",
            "Unpacking chromium-chromedriver (84.0.4147.105-0ubuntu0.18.04.1) ...\n",
            "Setting up chromium-codecs-ffmpeg-extra (84.0.4147.105-0ubuntu0.18.04.1) ...\n",
            "Setting up chromium-browser (84.0.4147.105-0ubuntu0.18.04.1) ...\n",
            "update-alternatives: using /usr/bin/chromium-browser to provide /usr/bin/x-www-browser (x-www-browser) in auto mode\n",
            "update-alternatives: using /usr/bin/chromium-browser to provide /usr/bin/gnome-www-browser (gnome-www-browser) in auto mode\n",
            "Setting up chromium-chromedriver (84.0.4147.105-0ubuntu0.18.04.1) ...\n",
            "Setting up chromium-browser-l10n (84.0.4147.105-0ubuntu0.18.04.1) ...\n",
            "Processing triggers for hicolor-icon-theme (0.17-2) ...\n",
            "Processing triggers for mime-support (3.60ubuntu1) ...\n",
            "Processing triggers for man-db (2.8.3-2ubuntu0.1) ...\n",
            "cp: '/usr/lib/chromium-browser/chromedriver' and '/usr/bin/chromedriver' are the same file\n"
          ],
          "name": "stdout"
        }
      ]
    },
    {
      "cell_type": "markdown",
      "metadata": {
        "id": "4BbTeMec532p",
        "colab_type": "text"
      },
      "source": [
        "## Importing libraries and modules"
      ]
    },
    {
      "cell_type": "code",
      "metadata": {
        "id": "cjIon1FVgkq3",
        "colab_type": "code",
        "colab": {}
      },
      "source": [
        "import sys\n",
        "sys.path.insert(0,'/usr/lib/chromium-browser/chromedriver')\n",
        "from selenium import webdriver\n",
        "from tqdm import tqdm_notebook as tqdm\n",
        "import pandas as pd\n",
        "import os\n",
        "import json\n",
        "import datetime as dt\n",
        "import matplotlib.pyplot as plt\n",
        "import matplotlib.image as mpimg\n",
        "import numpy as np\n",
        "from selenium.webdriver.common.by import By\n",
        "from selenium.webdriver.support.ui import WebDriverWait\n",
        "from selenium.webdriver.support import expected_conditions as EC\n",
        "import time\n",
        "import random\n",
        "import re\n",
        "import warnings\n",
        "import math\n",
        "warnings.filterwarnings(\"ignore\")"
      ],
      "execution_count": null,
      "outputs": []
    },
    {
      "cell_type": "code",
      "metadata": {
        "id": "4SX_10Sngn0p",
        "colab_type": "code",
        "colab": {}
      },
      "source": [
        "chrome_options = webdriver.ChromeOptions()\n",
        "chrome_options.add_argument('--headless')\n",
        "chrome_options.add_argument('--no-sandbox')\n",
        "chrome_options.add_argument('--disable-dev-shm-usage')"
      ],
      "execution_count": null,
      "outputs": []
    },
    {
      "cell_type": "markdown",
      "metadata": {
        "id": "3CXDdtC2JVyr",
        "colab_type": "text"
      },
      "source": [
        "## Global functions"
      ]
    },
    {
      "cell_type": "code",
      "metadata": {
        "id": "EIv2iSrd9Zaz",
        "colab_type": "code",
        "colab": {}
      },
      "source": [
        "#Function to describe all statistics feature of the dataset\n",
        "\n",
        "def display_all(df):\n",
        "    with pd.option_context(\"display.max_rows\", 1000, \"display.max_columns\", 1000): \n",
        "        display(df)  \n",
        " #Function that takes and show a screenshot of the webpage where the ghost driver is on \n",
        "\n",
        "def webpage_shot():\n",
        "    wd.save_screenshot('screenshot.png')\n",
        "    %pylab inline\n",
        "    img=mpimg.imread('/content/screenshot.png')\n",
        "    imgplot = plt.imshow(img)\n",
        "    print(wd.title)\n",
        "    return plt.show()"
      ],
      "execution_count": null,
      "outputs": []
    },
    {
      "cell_type": "markdown",
      "metadata": {
        "id": "LGHTONWM5-iz",
        "colab_type": "text"
      },
      "source": [
        "## Set global constants"
      ]
    },
    {
      "cell_type": "code",
      "metadata": {
        "id": "WQmD8ab06Dxi",
        "colab_type": "code",
        "colab": {}
      },
      "source": [
        "idvendor1 = 1\n",
        "idvendor2 = 2\n",
        "vendor1 = \"MediaWorld\"\n",
        "vendor2 = \"Unieuro\"\n",
        "path = '/content/drive/My Drive/tech_vendor_datasets' \n",
        "linkMediaWorld = \"https://www.mediaworld.it/catalogo/telefonia/smartphone-e-cellulari/smartphone\"\n",
        "linkUnieuro = \"https://www.unieuro.it/online/Telefonia-e-Smartphone/Smartphone-e-Cellulari/Smartphone\"\n",
        "linkUnieuroIphone = \"https://www.unieuro.it/online/Telefonia-e-Smartphone/Smartphone-e-Cellulari/iPhone\"\n",
        "scrWidth = 1920\n",
        "scrHeight = 1080\n",
        "delay = 10"
      ],
      "execution_count": null,
      "outputs": []
    },
    {
      "cell_type": "markdown",
      "metadata": {
        "id": "AKohQG8THPhE",
        "colab_type": "text"
      },
      "source": [
        "---\n",
        "# Extraction - MediaWorld scraping\n",
        "![testo alternativo](https://drive.google.com/uc?export=view&id=17u-beTePLFrZ6PiKplA1kmmz2lUVPU1c)"
      ]
    },
    {
      "cell_type": "code",
      "metadata": {
        "id": "CxpR8TIfHV9u",
        "colab_type": "code",
        "colab": {
          "base_uri": "https://localhost:8080/",
          "height": 34
        },
        "outputId": "16d4d322-f541-4538-d596-3f5ff133adba"
      },
      "source": [
        "wd = webdriver.Chrome('chromedriver',chrome_options=chrome_options)\n",
        "wd.set_window_size(scrWidth, scrHeight)\n",
        "wd.get(linkMediaWorld)\n",
        "time.sleep(delay)\n",
        "list_mediaworld_smartphone = wd.find_elements_by_css_selector(\"div.main-content.is-catalog-page > div.search-product-list.js-comp.active > div.search-product-list-content.display-mode-list.active > article\")\n",
        "print(len(list_mediaworld_smartphone))"
      ],
      "execution_count": null,
      "outputs": [
        {
          "output_type": "stream",
          "text": [
            "24\n"
          ],
          "name": "stdout"
        }
      ]
    },
    {
      "cell_type": "markdown",
      "metadata": {
        "id": "FKHB7hFpD6ab",
        "colab_type": "text"
      },
      "source": [
        "24 products per page"
      ]
    },
    {
      "cell_type": "code",
      "metadata": {
        "id": "pa-6eVxuBfwF",
        "colab_type": "code",
        "colab": {
          "base_uri": "https://localhost:8080/",
          "height": 274
        },
        "outputId": "f83b3c1f-2d35-4cf8-e0b2-e3d406f84f21"
      },
      "source": [
        "webpage_shot()"
      ],
      "execution_count": null,
      "outputs": [
        {
          "output_type": "stream",
          "text": [
            "Populating the interactive namespace from numpy and matplotlib\n",
            "Migliori Smartphone Offerte e Prezzi | Mediaworld.it\n"
          ],
          "name": "stdout"
        },
        {
          "output_type": "display_data",
          "data": {
            "image/png": "[encoded data removed]",
            "text/plain": [
              "<Figure size 432x288 with 1 Axes>"
            ]
          },
          "metadata": {
            "tags": [],
            "needs_background": "light"
          }
        }
      ]
    },
    {
      "cell_type": "markdown",
      "metadata": {
        "id": "oj1k-DpmtVvR",
        "colab_type": "text"
      },
      "source": [
        "Function that retrieves all the products link of the products along the pages. \n",
        "I set original price equal to the current price if the product is not discounted"
      ]
    },
    {
      "cell_type": "code",
      "metadata": {
        "id": "2Gq4iWQVB8Xv",
        "colab_type": "code",
        "colab": {}
      },
      "source": [
        "def get_product_info_MediaWorld(s):\n",
        "\n",
        "  url = \"\"\n",
        "  product_name = \"\"\n",
        "  product_category = \"\"\n",
        "  original_price = \"\"\n",
        "  price = \"\"\n",
        "  tms_loading = dt.datetime.now()\n",
        "\n",
        "  try:\n",
        "      url = s.find_elements_by_css_selector(\"div.col-2 h3.product-name a\")[0].get_attribute(\"href\")\n",
        "      product_name = s.find_elements_by_css_selector(\"div.col-2 h3.product-name a\")[0].text\n",
        "      product_category = s.find_elements_by_css_selector(\"div.col-2 p.product-category\")[0].text\n",
        "      if (len(s.find_elements_by_css_selector(\"div.col-3 span.full-price.mw-price.strikeout.enhanced\")) == 1):\n",
        "             original_price = s.find_elements_by_css_selector(\"div.col-3 span.full-price.mw-price.strikeout.enhanced\")[0].text.replace(',','.')\n",
        "      else:\n",
        "             original_price = price = s.find_elements_by_css_selector(\"div.price-container span\")[0].text.replace(',','.')        \n",
        "      price = s.find_elements_by_css_selector(\"div.price-container span\")[0].text.replace(',','.')   \n",
        "  except:\n",
        "    pass\n",
        "  return {'tms_loading': tms_loading,\n",
        "          'id_vendor': idvendor1,\n",
        "          'vendor': vendor1,\n",
        "          'url': url,\n",
        "          'product_name': product_name,\n",
        "          'product_category': product_category,\n",
        "          'original_price': original_price,\n",
        "          'price': price}"
      ],
      "execution_count": null,
      "outputs": []
    },
    {
      "cell_type": "markdown",
      "metadata": {
        "id": "RuzvCLSPolrt",
        "colab_type": "text"
      },
      "source": [
        "Find the total number of pages to scrape"
      ]
    },
    {
      "cell_type": "code",
      "metadata": {
        "id": "bahXlpP8Q56z",
        "colab_type": "code",
        "colab": {
          "base_uri": "https://localhost:8080/",
          "height": 34
        },
        "outputId": "df174bae-8604-4796-e0ce-b10abd369f44"
      },
      "source": [
        "count_products = wd.find_elements_by_css_selector(\"li.active\")[0].text\n",
        "total_count_products = re.sub('(\\)|\\(|Prodotti )','',count_products)\n",
        "products_per_page = wd.find_elements_by_css_selector(\"span.pagination.top > span.pages\")[0].get_attribute(\"data-pagination-count\")\n",
        "total_pages_mediaworld = math.ceil(int(total_count_products)/int(products_per_page))\n",
        "print(total_pages_mediaworld)"
      ],
      "execution_count": null,
      "outputs": [
        {
          "output_type": "stream",
          "text": [
            "13\n"
          ],
          "name": "stdout"
        }
      ]
    },
    {
      "cell_type": "markdown",
      "metadata": {
        "id": "cKtzkYHrt0cz",
        "colab_type": "text"
      },
      "source": [
        "Collecting all the links related to every singles product. The link will be used to access to its proper page and get additional data"
      ]
    },
    {
      "cell_type": "code",
      "metadata": {
        "id": "xc22LlcNrZHj",
        "colab_type": "code",
        "colab": {
          "base_uri": "https://localhost:8080/",
          "height": 83,
          "referenced_widgets": [
            "2e665a2f067748eea022a09dc49256db",
            "bcd9c71ca6924bb8834d0c77963bbec6",
            "cac237ed09b843fc9b7f1a3ea09166d8",
            "95f9a11c7d4e4b74840d3a5be41bfca1",
            "a95587e5b213451e8eabd4af571fa740",
            "bcfe27c71185447eaf37c6fdb7947217",
            "77312f9d680e4b5b96731c769b40c3bb",
            "b727b44756ea4874ae34b10978e6ea15"
          ]
        },
        "outputId": "2036d93b-b82a-4f72-8388-a54c81520de6"
      },
      "source": [
        "all_mediaworld_phones = []\n",
        "\n",
        "for num in tqdm(range(1,total_pages_mediaworld + 1)):\n",
        "  wd.get(f\"https://www.mediaworld.it/catalogo/telefonia/smartphone-e-cellulari/smartphone?pageNumber={num}\")\n",
        "  time.sleep(delay)\n",
        "  list_mediaworld_smartphone = wd.find_elements_by_css_selector(\"div.main-content.is-catalog-page > div.search-product-list.js-comp.active > div.search-product-list-content.display-mode-list.active > article\")\n",
        "  for s in list_mediaworld_smartphone:\n",
        "    all_mediaworld_phones.append(get_product_info_MediaWorld(s))\n",
        "\n",
        "print('Total collected products: ' + str(len(all_mediaworld_phones)) + '/' + str(total_count_products))"
      ],
      "execution_count": null,
      "outputs": [
        {
          "output_type": "display_data",
          "data": {
            "application/vnd.jupyter.widget-view+json": {
              "model_id": "2e665a2f067748eea022a09dc49256db",
              "version_minor": 0,
              "version_major": 2
            },
            "text/plain": [
              "HBox(children=(FloatProgress(value=0.0, max=13.0), HTML(value='')))"
            ]
          },
          "metadata": {
            "tags": []
          }
        },
        {
          "output_type": "stream",
          "text": [
            "\n",
            "Total collected products: 304/304\n"
          ],
          "name": "stdout"
        }
      ]
    },
    {
      "cell_type": "markdown",
      "metadata": {
        "id": "YV3z_lpspbXt",
        "colab_type": "text"
      },
      "source": [
        "Setting a dataframe to collect the products which have just been scraped"
      ]
    },
    {
      "cell_type": "code",
      "metadata": {
        "id": "gVb8hlfdsXnW",
        "colab_type": "code",
        "colab": {
          "base_uri": "https://localhost:8080/",
          "height": 197
        },
        "outputId": "b4092125-9b37-429f-d93f-e5e49ab5e858"
      },
      "source": [
        "ds_all_mediaworld_phones = pd.DataFrame(all_mediaworld_phones)\n",
        "ds_all_mediaworld_phones.head()"
      ],
      "execution_count": null,
      "outputs": [
        {
          "output_type": "execute_result",
          "data": {
            "text/html": [
              "<div>\n",
              "<style scoped>\n",
              "    .dataframe tbody tr th:only-of-type {\n",
              "        vertical-align: middle;\n",
              "    }\n",
              "\n",
              "    .dataframe tbody tr th {\n",
              "        vertical-align: top;\n",
              "    }\n",
              "\n",
              "    .dataframe thead th {\n",
              "        text-align: right;\n",
              "    }\n",
              "</style>\n",
              "<table border=\"1\" class=\"dataframe\">\n",
              "  <thead>\n",
              "    <tr style=\"text-align: right;\">\n",
              "      <th></th>\n",
              "      <th>tms_loading</th>\n",
              "      <th>id_vendor</th>\n",
              "      <th>vendor</th>\n",
              "      <th>url</th>\n",
              "      <th>product_name</th>\n",
              "      <th>product_category</th>\n",
              "      <th>original_price</th>\n",
              "      <th>price</th>\n",
              "    </tr>\n",
              "  </thead>\n",
              "  <tbody>\n",
              "    <tr>\n",
              "      <th>0</th>\n",
              "      <td>2020-08-13 12:31:34.509187</td>\n",
              "      <td>1</td>\n",
              "      <td>MediaWorld</td>\n",
              "      <td>https://www.mediaworld.it/product/p-123403/sam...</td>\n",
              "      <td>SAMSUNG Galaxy S20 4G Cosmic Gray</td>\n",
              "      <td>Smartphone</td>\n",
              "      <td>919.00</td>\n",
              "      <td>597.35</td>\n",
              "    </tr>\n",
              "    <tr>\n",
              "      <th>1</th>\n",
              "      <td>2020-08-13 12:31:34.618199</td>\n",
              "      <td>1</td>\n",
              "      <td>MediaWorld</td>\n",
              "      <td>https://www.mediaworld.it/product/p-129771/xia...</td>\n",
              "      <td>XIAOMI Mi Note 10 Lite 128gb Black Vodafone</td>\n",
              "      <td>Smartphone Dual SIM</td>\n",
              "      <td>399.00</td>\n",
              "      <td>279.30</td>\n",
              "    </tr>\n",
              "    <tr>\n",
              "      <th>2</th>\n",
              "      <td>2020-08-13 12:31:34.751332</td>\n",
              "      <td>1</td>\n",
              "      <td>MediaWorld</td>\n",
              "      <td>https://www.mediaworld.it/product/p-112081/app...</td>\n",
              "      <td>APPLE iPhone 11 64GB Bianco</td>\n",
              "      <td>Smartphone</td>\n",
              "      <td>839.00</td>\n",
              "      <td>794.00</td>\n",
              "    </tr>\n",
              "    <tr>\n",
              "      <th>3</th>\n",
              "      <td>2020-08-13 12:31:34.856095</td>\n",
              "      <td>1</td>\n",
              "      <td>MediaWorld</td>\n",
              "      <td>https://www.mediaworld.it/product/p-112133/app...</td>\n",
              "      <td>APPLE iPhone 11 Pro 256GB Verde Notte</td>\n",
              "      <td>Smartphone</td>\n",
              "      <td>1359.00</td>\n",
              "      <td>1155.15</td>\n",
              "    </tr>\n",
              "    <tr>\n",
              "      <th>4</th>\n",
              "      <td>2020-08-13 12:31:34.967637</td>\n",
              "      <td>1</td>\n",
              "      <td>MediaWorld</td>\n",
              "      <td>https://www.mediaworld.it/product/p-123401/sam...</td>\n",
              "      <td>SAMSUNG Galaxy S20 4G Cloud Blue</td>\n",
              "      <td>Smartphone</td>\n",
              "      <td>919.00</td>\n",
              "      <td>597.35</td>\n",
              "    </tr>\n",
              "  </tbody>\n",
              "</table>\n",
              "</div>"
            ],
            "text/plain": [
              "                 tms_loading  id_vendor  ... original_price    price\n",
              "0 2020-08-13 12:31:34.509187          1  ...         919.00   597.35\n",
              "1 2020-08-13 12:31:34.618199          1  ...         399.00   279.30\n",
              "2 2020-08-13 12:31:34.751332          1  ...         839.00   794.00\n",
              "3 2020-08-13 12:31:34.856095          1  ...        1359.00  1155.15\n",
              "4 2020-08-13 12:31:34.967637          1  ...         919.00   597.35\n",
              "\n",
              "[5 rows x 8 columns]"
            ]
          },
          "metadata": {
            "tags": []
          },
          "execution_count": 21
        }
      ]
    },
    {
      "cell_type": "code",
      "metadata": {
        "id": "P-wUZ7rRBjNc",
        "colab_type": "code",
        "colab": {
          "base_uri": "https://localhost:8080/",
          "height": 273
        },
        "outputId": "102624bc-c785-47c6-c29f-7ce71dc2eab4"
      },
      "source": [
        "ds_all_mediaworld_phones.info()"
      ],
      "execution_count": null,
      "outputs": [
        {
          "output_type": "stream",
          "text": [
            "<class 'pandas.core.frame.DataFrame'>\n",
            "RangeIndex: 304 entries, 0 to 303\n",
            "Data columns (total 8 columns):\n",
            " #   Column            Non-Null Count  Dtype         \n",
            "---  ------            --------------  -----         \n",
            " 0   tms_loading       304 non-null    datetime64[ns]\n",
            " 1   id_vendor         304 non-null    int64         \n",
            " 2   vendor            304 non-null    object        \n",
            " 3   url               304 non-null    object        \n",
            " 4   product_name      304 non-null    object        \n",
            " 5   product_category  304 non-null    object        \n",
            " 6   original_price    304 non-null    object        \n",
            " 7   price             304 non-null    object        \n",
            "dtypes: datetime64[ns](1), int64(1), object(6)\n",
            "memory usage: 19.1+ KB\n"
          ],
          "name": "stdout"
        }
      ]
    },
    {
      "cell_type": "code",
      "metadata": {
        "id": "Tu6Y2dyrAHRP",
        "colab_type": "code",
        "colab": {
          "base_uri": "https://localhost:8080/",
          "height": 34
        },
        "outputId": "ab07e01d-19af-4c34-d36e-32f8a84f885d"
      },
      "source": [
        "ds_all_mediaworld_phones.duplicated(['url']).sum()"
      ],
      "execution_count": null,
      "outputs": [
        {
          "output_type": "execute_result",
          "data": {
            "text/plain": [
              "8"
            ]
          },
          "metadata": {
            "tags": []
          },
          "execution_count": 23
        }
      ]
    },
    {
      "cell_type": "code",
      "metadata": {
        "id": "lJDv8CDDCrBu",
        "colab_type": "code",
        "colab": {
          "base_uri": "https://localhost:8080/",
          "height": 405
        },
        "outputId": "40e07dc7-bf45-4f29-e771-794b3ad493bb"
      },
      "source": [
        "ds_all_mediaworld_phones = ds_all_mediaworld_phones.drop_duplicates(subset=['url'])\n",
        "ds_all_mediaworld_phones.reset_index(drop = True)"
      ],
      "execution_count": null,
      "outputs": [
        {
          "output_type": "execute_result",
          "data": {
            "text/html": [
              "<div>\n",
              "<style scoped>\n",
              "    .dataframe tbody tr th:only-of-type {\n",
              "        vertical-align: middle;\n",
              "    }\n",
              "\n",
              "    .dataframe tbody tr th {\n",
              "        vertical-align: top;\n",
              "    }\n",
              "\n",
              "    .dataframe thead th {\n",
              "        text-align: right;\n",
              "    }\n",
              "</style>\n",
              "<table border=\"1\" class=\"dataframe\">\n",
              "  <thead>\n",
              "    <tr style=\"text-align: right;\">\n",
              "      <th></th>\n",
              "      <th>tms_loading</th>\n",
              "      <th>id_vendor</th>\n",
              "      <th>vendor</th>\n",
              "      <th>url</th>\n",
              "      <th>product_name</th>\n",
              "      <th>product_category</th>\n",
              "      <th>original_price</th>\n",
              "      <th>price</th>\n",
              "    </tr>\n",
              "  </thead>\n",
              "  <tbody>\n",
              "    <tr>\n",
              "      <th>0</th>\n",
              "      <td>2020-08-13 12:31:34.509187</td>\n",
              "      <td>1</td>\n",
              "      <td>MediaWorld</td>\n",
              "      <td>https://www.mediaworld.it/product/p-123403/sam...</td>\n",
              "      <td>SAMSUNG Galaxy S20 4G Cosmic Gray</td>\n",
              "      <td>Smartphone</td>\n",
              "      <td>919.00</td>\n",
              "      <td>597.35</td>\n",
              "    </tr>\n",
              "    <tr>\n",
              "      <th>1</th>\n",
              "      <td>2020-08-13 12:31:34.618199</td>\n",
              "      <td>1</td>\n",
              "      <td>MediaWorld</td>\n",
              "      <td>https://www.mediaworld.it/product/p-129771/xia...</td>\n",
              "      <td>XIAOMI Mi Note 10 Lite 128gb Black Vodafone</td>\n",
              "      <td>Smartphone Dual SIM</td>\n",
              "      <td>399.00</td>\n",
              "      <td>279.30</td>\n",
              "    </tr>\n",
              "    <tr>\n",
              "      <th>2</th>\n",
              "      <td>2020-08-13 12:31:34.751332</td>\n",
              "      <td>1</td>\n",
              "      <td>MediaWorld</td>\n",
              "      <td>https://www.mediaworld.it/product/p-112081/app...</td>\n",
              "      <td>APPLE iPhone 11 64GB Bianco</td>\n",
              "      <td>Smartphone</td>\n",
              "      <td>839.00</td>\n",
              "      <td>794.00</td>\n",
              "    </tr>\n",
              "    <tr>\n",
              "      <th>3</th>\n",
              "      <td>2020-08-13 12:31:34.856095</td>\n",
              "      <td>1</td>\n",
              "      <td>MediaWorld</td>\n",
              "      <td>https://www.mediaworld.it/product/p-112133/app...</td>\n",
              "      <td>APPLE iPhone 11 Pro 256GB Verde Notte</td>\n",
              "      <td>Smartphone</td>\n",
              "      <td>1359.00</td>\n",
              "      <td>1155.15</td>\n",
              "    </tr>\n",
              "    <tr>\n",
              "      <th>4</th>\n",
              "      <td>2020-08-13 12:31:34.967637</td>\n",
              "      <td>1</td>\n",
              "      <td>MediaWorld</td>\n",
              "      <td>https://www.mediaworld.it/product/p-123401/sam...</td>\n",
              "      <td>SAMSUNG Galaxy S20 4G Cloud Blue</td>\n",
              "      <td>Smartphone</td>\n",
              "      <td>919.00</td>\n",
              "      <td>597.35</td>\n",
              "    </tr>\n",
              "    <tr>\n",
              "      <th>...</th>\n",
              "      <td>...</td>\n",
              "      <td>...</td>\n",
              "      <td>...</td>\n",
              "      <td>...</td>\n",
              "      <td>...</td>\n",
              "      <td>...</td>\n",
              "      <td>...</td>\n",
              "      <td>...</td>\n",
              "    </tr>\n",
              "    <tr>\n",
              "      <th>291</th>\n",
              "      <td>2020-08-13 12:34:45.567256</td>\n",
              "      <td>1</td>\n",
              "      <td>MediaWorld</td>\n",
              "      <td>https://www.mediaworld.it/product/p-117769/mot...</td>\n",
              "      <td>MOTOROLA E6 Plus 64GB Polished Graphite</td>\n",
              "      <td>Smartphone Dual SIM</td>\n",
              "      <td>169.99</td>\n",
              "      <td>129.99</td>\n",
              "    </tr>\n",
              "    <tr>\n",
              "      <th>292</th>\n",
              "      <td>2020-08-13 12:34:45.730879</td>\n",
              "      <td>1</td>\n",
              "      <td>MediaWorld</td>\n",
              "      <td>https://www.mediaworld.it/product/p-127343/xia...</td>\n",
              "      <td>XIAOMI Mi 10 8+256 Coral Green</td>\n",
              "      <td>Smartphone</td>\n",
              "      <td>899.00</td>\n",
              "      <td>899.00</td>\n",
              "    </tr>\n",
              "    <tr>\n",
              "      <th>293</th>\n",
              "      <td>2020-08-13 12:34:45.838830</td>\n",
              "      <td>1</td>\n",
              "      <td>MediaWorld</td>\n",
              "      <td>https://www.mediaworld.it/product/p-128769/hua...</td>\n",
              "      <td>HUAWEI P40 Lite E Midnight Black</td>\n",
              "      <td>Smartphone Dual SIM</td>\n",
              "      <td>199.00</td>\n",
              "      <td>158.99</td>\n",
              "    </tr>\n",
              "    <tr>\n",
              "      <th>294</th>\n",
              "      <td>2020-08-13 12:34:46.064667</td>\n",
              "      <td>1</td>\n",
              "      <td>MediaWorld</td>\n",
              "      <td>https://www.mediaworld.it/product/p-129520/xia...</td>\n",
              "      <td>XIAOMI Mi 10 Lite 5G 6+128 Aurora Blue</td>\n",
              "      <td>Smartphone Dual SIM</td>\n",
              "      <td>399.00</td>\n",
              "      <td>369.00</td>\n",
              "    </tr>\n",
              "    <tr>\n",
              "      <th>295</th>\n",
              "      <td>2020-08-13 12:34:46.181033</td>\n",
              "      <td>1</td>\n",
              "      <td>MediaWorld</td>\n",
              "      <td>https://www.mediaworld.it/product/p-127989/hua...</td>\n",
              "      <td>HUAWEI P40 Pro Blush Gold</td>\n",
              "      <td>Smartphone Dual SIM</td>\n",
              "      <td>1049.90</td>\n",
              "      <td>909.00</td>\n",
              "    </tr>\n",
              "  </tbody>\n",
              "</table>\n",
              "<p>296 rows × 8 columns</p>\n",
              "</div>"
            ],
            "text/plain": [
              "                   tms_loading  id_vendor  ... original_price    price\n",
              "0   2020-08-13 12:31:34.509187          1  ...         919.00   597.35\n",
              "1   2020-08-13 12:31:34.618199          1  ...         399.00   279.30\n",
              "2   2020-08-13 12:31:34.751332          1  ...         839.00   794.00\n",
              "3   2020-08-13 12:31:34.856095          1  ...        1359.00  1155.15\n",
              "4   2020-08-13 12:31:34.967637          1  ...         919.00   597.35\n",
              "..                         ...        ...  ...            ...      ...\n",
              "291 2020-08-13 12:34:45.567256          1  ...         169.99   129.99\n",
              "292 2020-08-13 12:34:45.730879          1  ...         899.00   899.00\n",
              "293 2020-08-13 12:34:45.838830          1  ...         199.00   158.99\n",
              "294 2020-08-13 12:34:46.064667          1  ...         399.00   369.00\n",
              "295 2020-08-13 12:34:46.181033          1  ...        1049.90   909.00\n",
              "\n",
              "[296 rows x 8 columns]"
            ]
          },
          "metadata": {
            "tags": []
          },
          "execution_count": 24
        }
      ]
    },
    {
      "cell_type": "markdown",
      "metadata": {
        "id": "xTC1Y51fuRlX",
        "colab_type": "text"
      },
      "source": [
        "This function get all the specs for every product pass as parameters"
      ]
    },
    {
      "cell_type": "code",
      "metadata": {
        "id": "yHeg0MH2BRgY",
        "colab_type": "code",
        "colab": {}
      },
      "source": [
        "def get_prod_spec_MediaWorld(prod,date_loading,price,original_price,brand):\n",
        "  os = \"\"\n",
        "  ram = \"\"\n",
        "  memory = \"\"\n",
        "  brand\n",
        "  model = \"\"\n",
        "  sim = \"\"\n",
        "  color = \"\"\n",
        "  display_type = \"\"\n",
        "  display_size = \"\"\n",
        "  carrier = \"\"\n",
        "  battery_capacity = \"\"\n",
        "  weight = \"\"\n",
        "  gps = \"\"\n",
        "  a_gps = \"\"\n",
        "  dimension = \"\"\n",
        "  height = \"\"\n",
        "  width = \"\"\n",
        "  length = \"\"\n",
        "  tms_loading = dt.datetime.now()\n",
        "\n",
        "  check = True\n",
        "  i = 0\n",
        "\n",
        "\n",
        "  for c in prod:\n",
        "      try:\n",
        "        while True:\n",
        "          if(c.find_elements_by_css_selector(\".Tech-row__inner.Tech-row__inner__key\")[i].get_attribute(\"textContent\").strip() == \"Sistema operativo:\"):\n",
        "           os = c.find_elements_by_css_selector(\".Tech-row__inner.Tech-row__inner__value\")[i].get_attribute(\"textContent\").strip() \n",
        "          if(c.find_elements_by_css_selector(\".Tech-row__inner.Tech-row__inner__key\")[i].get_attribute(\"textContent\").strip() == \"RAM:\"):\n",
        "           ram = c.find_elements_by_css_selector(\".Tech-row__inner.Tech-row__inner__value\")[i].get_attribute(\"textContent\").strip() \n",
        "          if(c.find_elements_by_css_selector(\".Tech-row__inner.Tech-row__inner__key\")[i].get_attribute(\"textContent\").strip() == \"Modello:\"):\n",
        "           model = c.find_elements_by_css_selector(\".Tech-row__inner.Tech-row__inner__value\")[i].get_attribute(\"textContent\").strip()  \n",
        "          if(c.find_elements_by_css_selector(\".Tech-row__inner.Tech-row__inner__key\")[i].get_attribute(\"textContent\").strip() == \"Capacità interna:\"):\n",
        "           memory = c.find_elements_by_css_selector(\".Tech-row__inner.Tech-row__inner__value\")[i].get_attribute(\"textContent\").strip() \n",
        "          if(c.find_elements_by_css_selector(\".Tech-row__inner.Tech-row__inner__key\")[i].get_attribute(\"textContent\").strip() == \"Numero Sim:\"):\n",
        "           sim = c.find_elements_by_css_selector(\".Tech-row__inner.Tech-row__inner__value\")[i].get_attribute(\"textContent\").strip()     \n",
        "          if(c.find_elements_by_css_selector(\".Tech-row__inner.Tech-row__inner__key\")[i].get_attribute(\"textContent\").strip() == \"Colore:\"):\n",
        "           color = c.find_elements_by_css_selector(\".Tech-row__inner.Tech-row__inner__value\")[i].get_attribute(\"textContent\").strip() \n",
        "          if(c.find_elements_by_css_selector(\".Tech-row__inner.Tech-row__inner__key\")[i].get_attribute(\"textContent\").strip() == \"Tipologia schermo:\"):\n",
        "           display_type = c.find_elements_by_css_selector(\".Tech-row__inner.Tech-row__inner__value\")[i].get_attribute(\"textContent\").strip()  \n",
        "          if(c.find_elements_by_css_selector(\".Tech-row__inner.Tech-row__inner__key\")[i].get_attribute(\"textContent\").strip() == \"Dimensioni display ('):\"):\n",
        "           display_size = c.find_elements_by_css_selector(\".Tech-row__inner.Tech-row__inner__value\")[i].get_attribute(\"textContent\").strip()  \n",
        "          if(c.find_elements_by_css_selector(\".Tech-row__inner.Tech-row__inner__key\")[i].get_attribute(\"textContent\").strip() == \"Capacità batteria:\"):\n",
        "           battery_capacity = c.find_elements_by_css_selector(\".Tech-row__inner.Tech-row__inner__value\")[i].get_attribute(\"textContent\").strip()    \n",
        "          if(c.find_elements_by_css_selector(\".Tech-row__inner.Tech-row__inner__key\")[i].get_attribute(\"textContent\").strip() == \"Operatore:\"):\n",
        "           carrier = c.find_elements_by_css_selector(\".Tech-row__inner.Tech-row__inner__value\")[i].get_attribute(\"textContent\").strip()    \n",
        "          if(c.find_elements_by_css_selector(\".Tech-row__inner.Tech-row__inner__key\")[i].get_attribute(\"textContent\").strip() == \"Peso (kg):\"):\n",
        "           weight = c.find_elements_by_css_selector(\".Tech-row__inner.Tech-row__inner__value\")[i].get_attribute(\"textContent\").strip()     \n",
        "          if(c.find_elements_by_css_selector(\".Tech-row__inner.Tech-row__inner__key\")[i].get_attribute(\"textContent\").strip() == \"GPS:\"):\n",
        "           gps = c.find_elements_by_css_selector(\".Tech-row__inner.Tech-row__inner__value\")[i].get_attribute(\"textContent\").strip()  \n",
        "          if(c.find_elements_by_css_selector(\".Tech-row__inner.Tech-row__inner__key\")[i].get_attribute(\"textContent\").strip() == \"A-GPS:\"):\n",
        "           a_gps = c.find_elements_by_css_selector(\".Tech-row__inner.Tech-row__inner__value\")[i].get_attribute(\"textContent\").strip()  \n",
        "          if(c.find_elements_by_css_selector(\".Tech-row__inner.Tech-row__inner__key\")[i].get_attribute(\"textContent\").strip() == \"Dimensioni:\"):\n",
        "           dimension = c.find_elements_by_css_selector(\".Tech-row__inner.Tech-row__inner__value\")[i].get_attribute(\"textContent\").strip()  \n",
        "           width = dimension.split('x')[0]\n",
        "           height = dimension.split('x')[1]\n",
        "           length = dimension.split('x')[2]\n",
        "\n",
        "          i += 1\n",
        "      except:\n",
        "        check = False\n",
        "        pass\n",
        "  return {'tms_loading': tms_loading,\n",
        "          'date_loading': date_loading,\n",
        "          'id_vendor': idvendor1,\n",
        "          'vendor': vendor1, \n",
        "          'os': os,\n",
        "          'brand': brand,\n",
        "          'model': model,\n",
        "          'price': price,\n",
        "          'original_price': original_price,\n",
        "          'ram': ram,\n",
        "          'memory': memory,\n",
        "          'sim': sim,\n",
        "          'gps': gps,\n",
        "          'a_gps': a_gps,\n",
        "          'color': color,\n",
        "          'display_type': display_type,\n",
        "          'display_size': display_size,\n",
        "          'carrier': carrier,\n",
        "          'battery_capacity': battery_capacity,\n",
        "          'height':height,\n",
        "          'width':width,\n",
        "          'length':length,\n",
        "          'weight': weight} "
      ],
      "execution_count": null,
      "outputs": []
    },
    {
      "cell_type": "markdown",
      "metadata": {
        "id": "Yl_mZYdRvr4I",
        "colab_type": "text"
      },
      "source": [
        "Appending all specs retrieved in a list. To ensure a correct loading of the page we use the class WebDriverWait"
      ]
    },
    {
      "cell_type": "code",
      "metadata": {
        "id": "MsyFaBfCuUtq",
        "colab_type": "code",
        "colab": {
          "base_uri": "https://localhost:8080/",
          "height": 66,
          "referenced_widgets": [
            "b1acae52528d4e7991ff20955ee1b55c",
            "de6b2200e0944c958fe5028ebdb65e9d",
            "1dab4c2a60674f9999bca9937083c5a3",
            "d95a4eb308c64731906a9d501543d997",
            "d05691afcc9144b5abbb37b168d0ddfc",
            "2130ef49cd0c4a8d8e48bc9efa69879d",
            "8ba4de6c4fe94fcd830420e18e052bb7",
            "88d0cffd8f9545f09c250022f9832f82"
          ]
        },
        "outputId": "32cfcdf7-dea4-4f26-b7e4-b2c12dcc3cd0"
      },
      "source": [
        "all_mediaworld_spec_phones = []\n",
        "\n",
        "date_loading = dt.date.today()\n",
        "\n",
        "for index, prd in tqdm(ds_all_mediaworld_phones.iterrows()):\n",
        "    time.sleep(np.random.randint(1,delay))\n",
        "    link = prd[\"url\"]\n",
        "    price = prd[\"price\"]\n",
        "    original_price = prd[\"original_price\"]\n",
        "    brand = prd[\"product_name\"].split(' ')[0]\n",
        "    try:\n",
        "      wd.set_window_size(scrWidth, scrHeight)\n",
        "      wd.get(link)\n",
        "      try:\n",
        "       WebDriverWait(wd, 10).until(\n",
        "          EC.element_to_be_clickable((By.CLASS_NAME, \"product-add-to-cart mw-yellow-btn btn-size-md js-add-to-cart\"))\n",
        "       )\n",
        "      except:\n",
        "        pass\n",
        "      prod = wd.find_elements_by_class_name(\"product-content-wrapper\")\n",
        "      all_mediaworld_spec_phones.append(get_prod_spec_MediaWorld(prod,date_loading,price,original_price,brand))\n",
        "    except Exception as e:\n",
        "      print(e) "
      ],
      "execution_count": null,
      "outputs": [
        {
          "output_type": "display_data",
          "data": {
            "application/vnd.jupyter.widget-view+json": {
              "model_id": "b1acae52528d4e7991ff20955ee1b55c",
              "version_minor": 0,
              "version_major": 2
            },
            "text/plain": [
              "HBox(children=(FloatProgress(value=1.0, bar_style='info', max=1.0), HTML(value='')))"
            ]
          },
          "metadata": {
            "tags": []
          }
        },
        {
          "output_type": "stream",
          "text": [
            "\n"
          ],
          "name": "stdout"
        }
      ]
    },
    {
      "cell_type": "code",
      "metadata": {
        "id": "rS8nciCPajmB",
        "colab_type": "code",
        "colab": {
          "base_uri": "https://localhost:8080/",
          "height": 405
        },
        "outputId": "47b32269-809e-4ab3-83eb-48c444ae032c"
      },
      "source": [
        "ds_spec_phones_mediaworld = pd.DataFrame(all_mediaworld_spec_phones)\n",
        "ds_spec_phones_mediaworld.head()"
      ],
      "execution_count": null,
      "outputs": [
        {
          "output_type": "execute_result",
          "data": {
            "text/html": [
              "<div>\n",
              "<style scoped>\n",
              "    .dataframe tbody tr th:only-of-type {\n",
              "        vertical-align: middle;\n",
              "    }\n",
              "\n",
              "    .dataframe tbody tr th {\n",
              "        vertical-align: top;\n",
              "    }\n",
              "\n",
              "    .dataframe thead th {\n",
              "        text-align: right;\n",
              "    }\n",
              "</style>\n",
              "<table border=\"1\" class=\"dataframe\">\n",
              "  <thead>\n",
              "    <tr style=\"text-align: right;\">\n",
              "      <th></th>\n",
              "      <th>tms_loading</th>\n",
              "      <th>date_loading</th>\n",
              "      <th>id_vendor</th>\n",
              "      <th>vendor</th>\n",
              "      <th>os</th>\n",
              "      <th>brand</th>\n",
              "      <th>model</th>\n",
              "      <th>price</th>\n",
              "      <th>original_price</th>\n",
              "      <th>ram</th>\n",
              "      <th>memory</th>\n",
              "      <th>sim</th>\n",
              "      <th>gps</th>\n",
              "      <th>a_gps</th>\n",
              "      <th>color</th>\n",
              "      <th>display_type</th>\n",
              "      <th>display_size</th>\n",
              "      <th>carrier</th>\n",
              "      <th>battery_capacity</th>\n",
              "      <th>height</th>\n",
              "      <th>width</th>\n",
              "      <th>length</th>\n",
              "      <th>weight</th>\n",
              "    </tr>\n",
              "  </thead>\n",
              "  <tbody>\n",
              "    <tr>\n",
              "      <th>0</th>\n",
              "      <td>2020-08-13 12:35:33.306301</td>\n",
              "      <td>2020-08-13</td>\n",
              "      <td>1</td>\n",
              "      <td>MediaWorld</td>\n",
              "      <td>Android</td>\n",
              "      <td>SAMSUNG</td>\n",
              "      <td>Galaxy S20 4G</td>\n",
              "      <td>597.35</td>\n",
              "      <td>919.00</td>\n",
              "      <td>8 GB</td>\n",
              "      <td>128 GB</td>\n",
              "      <td>Mono SIM</td>\n",
              "      <td>Sì</td>\n",
              "      <td>Sì</td>\n",
              "      <td>Grey</td>\n",
              "      <td>Dynamic AMOLED</td>\n",
              "      <td>6,2</td>\n",
              "      <td>No</td>\n",
              "      <td>4000 mAh</td>\n",
              "      <td>15,17</td>\n",
              "      <td>6,91</td>\n",
              "      <td>0,79 cm</td>\n",
              "      <td>0,163</td>\n",
              "    </tr>\n",
              "    <tr>\n",
              "      <th>1</th>\n",
              "      <td>2020-08-13 12:36:02.587361</td>\n",
              "      <td>2020-08-13</td>\n",
              "      <td>1</td>\n",
              "      <td>MediaWorld</td>\n",
              "      <td>Android</td>\n",
              "      <td>XIAOMI</td>\n",
              "      <td>MI NOTE 10 LITE</td>\n",
              "      <td>279.30</td>\n",
              "      <td>399.00</td>\n",
              "      <td>6 GB</td>\n",
              "      <td>128 GB</td>\n",
              "      <td>Dual SIM</td>\n",
              "      <td>Sì</td>\n",
              "      <td>N.d</td>\n",
              "      <td>Black</td>\n",
              "      <td>AMOLED</td>\n",
              "      <td>6,47</td>\n",
              "      <td>Vodafone</td>\n",
              "      <td>5260 mAh</td>\n",
              "      <td>15,78</td>\n",
              "      <td>7,42</td>\n",
              "      <td>0,967 cm</td>\n",
              "      <td>0,204</td>\n",
              "    </tr>\n",
              "    <tr>\n",
              "      <th>2</th>\n",
              "      <td>2020-08-13 12:36:25.157765</td>\n",
              "      <td>2020-08-13</td>\n",
              "      <td>1</td>\n",
              "      <td>MediaWorld</td>\n",
              "      <td>Ios</td>\n",
              "      <td>APPLE</td>\n",
              "      <td>iPhone 11 64GB</td>\n",
              "      <td>794.00</td>\n",
              "      <td>839.00</td>\n",
              "      <td></td>\n",
              "      <td>64 GB</td>\n",
              "      <td>Mono SIM</td>\n",
              "      <td>Sì</td>\n",
              "      <td>Sì</td>\n",
              "      <td>White</td>\n",
              "      <td>Retina</td>\n",
              "      <td>6,1</td>\n",
              "      <td>No</td>\n",
              "      <td></td>\n",
              "      <td>15,09</td>\n",
              "      <td>7,57</td>\n",
              "      <td>0,83 cm</td>\n",
              "      <td>0,194</td>\n",
              "    </tr>\n",
              "    <tr>\n",
              "      <th>3</th>\n",
              "      <td>2020-08-13 12:36:54.285715</td>\n",
              "      <td>2020-08-13</td>\n",
              "      <td>1</td>\n",
              "      <td>MediaWorld</td>\n",
              "      <td>Ios</td>\n",
              "      <td>APPLE</td>\n",
              "      <td>iPhone 11 Pro 256GB</td>\n",
              "      <td>1155.15</td>\n",
              "      <td>1359.00</td>\n",
              "      <td></td>\n",
              "      <td>256 GB</td>\n",
              "      <td>Mono SIM</td>\n",
              "      <td>Sì</td>\n",
              "      <td>Sì</td>\n",
              "      <td>Green</td>\n",
              "      <td>Oled</td>\n",
              "      <td>5,8</td>\n",
              "      <td>No</td>\n",
              "      <td></td>\n",
              "      <td>14,4</td>\n",
              "      <td>7,14</td>\n",
              "      <td>0,81 cm</td>\n",
              "      <td>0,188</td>\n",
              "    </tr>\n",
              "    <tr>\n",
              "      <th>4</th>\n",
              "      <td>2020-08-13 12:37:16.289591</td>\n",
              "      <td>2020-08-13</td>\n",
              "      <td>1</td>\n",
              "      <td>MediaWorld</td>\n",
              "      <td>Android</td>\n",
              "      <td>SAMSUNG</td>\n",
              "      <td>Galaxy S20 4G</td>\n",
              "      <td>597.35</td>\n",
              "      <td>919.00</td>\n",
              "      <td>8 GB</td>\n",
              "      <td>128 GB</td>\n",
              "      <td>Mono SIM</td>\n",
              "      <td>Sì</td>\n",
              "      <td>Sì</td>\n",
              "      <td>Blue</td>\n",
              "      <td>Dynamic AMOLED</td>\n",
              "      <td>6,2</td>\n",
              "      <td>No</td>\n",
              "      <td>4000 mAh</td>\n",
              "      <td>15,17</td>\n",
              "      <td>6,91</td>\n",
              "      <td>0,79 cm</td>\n",
              "      <td>0,163</td>\n",
              "    </tr>\n",
              "  </tbody>\n",
              "</table>\n",
              "</div>"
            ],
            "text/plain": [
              "                 tms_loading date_loading  id_vendor  ... width    length weight\n",
              "0 2020-08-13 12:35:33.306301   2020-08-13          1  ...  6,91   0,79 cm  0,163\n",
              "1 2020-08-13 12:36:02.587361   2020-08-13          1  ...  7,42  0,967 cm  0,204\n",
              "2 2020-08-13 12:36:25.157765   2020-08-13          1  ...  7,57   0,83 cm  0,194\n",
              "3 2020-08-13 12:36:54.285715   2020-08-13          1  ...  7,14   0,81 cm  0,188\n",
              "4 2020-08-13 12:37:16.289591   2020-08-13          1  ...  6,91   0,79 cm  0,163\n",
              "\n",
              "[5 rows x 23 columns]"
            ]
          },
          "metadata": {
            "tags": []
          },
          "execution_count": 27
        }
      ]
    },
    {
      "cell_type": "code",
      "metadata": {
        "id": "INnSJOy0Bq9b",
        "colab_type": "code",
        "colab": {
          "base_uri": "https://localhost:8080/",
          "height": 529
        },
        "outputId": "f93c93e2-6add-4ed2-e626-c3292d5ff596"
      },
      "source": [
        "ds_spec_phones_mediaworld.info()"
      ],
      "execution_count": null,
      "outputs": [
        {
          "output_type": "stream",
          "text": [
            "<class 'pandas.core.frame.DataFrame'>\n",
            "RangeIndex: 296 entries, 0 to 295\n",
            "Data columns (total 23 columns):\n",
            " #   Column            Non-Null Count  Dtype         \n",
            "---  ------            --------------  -----         \n",
            " 0   tms_loading       296 non-null    datetime64[ns]\n",
            " 1   date_loading      296 non-null    object        \n",
            " 2   id_vendor         296 non-null    int64         \n",
            " 3   vendor            296 non-null    object        \n",
            " 4   os                296 non-null    object        \n",
            " 5   brand             296 non-null    object        \n",
            " 6   model             296 non-null    object        \n",
            " 7   price             296 non-null    object        \n",
            " 8   original_price    296 non-null    object        \n",
            " 9   ram               296 non-null    object        \n",
            " 10  memory            296 non-null    object        \n",
            " 11  sim               296 non-null    object        \n",
            " 12  gps               296 non-null    object        \n",
            " 13  a_gps             296 non-null    object        \n",
            " 14  color             296 non-null    object        \n",
            " 15  display_type      296 non-null    object        \n",
            " 16  display_size      296 non-null    object        \n",
            " 17  carrier           296 non-null    object        \n",
            " 18  battery_capacity  296 non-null    object        \n",
            " 19  height            296 non-null    object        \n",
            " 20  width             296 non-null    object        \n",
            " 21  length            296 non-null    object        \n",
            " 22  weight            296 non-null    object        \n",
            "dtypes: datetime64[ns](1), int64(1), object(21)\n",
            "memory usage: 53.3+ KB\n"
          ],
          "name": "stdout"
        }
      ]
    },
    {
      "cell_type": "code",
      "metadata": {
        "id": "ggF6qYyOtrMi",
        "colab_type": "code",
        "colab": {
          "base_uri": "https://localhost:8080/",
          "height": 34
        },
        "outputId": "9b766152-030b-4ef4-e194-8c1d78c29a58"
      },
      "source": [
        "ds_all_mediaworld_phones.duplicated().sum()"
      ],
      "execution_count": null,
      "outputs": [
        {
          "output_type": "execute_result",
          "data": {
            "text/plain": [
              "0"
            ]
          },
          "metadata": {
            "tags": []
          },
          "execution_count": 29
        }
      ]
    },
    {
      "cell_type": "code",
      "metadata": {
        "id": "kHZqGYApwidn",
        "colab_type": "code",
        "colab": {}
      },
      "source": [
        "file_name = \"ds_spec_phones_mediaworld_\" + dt.date.today().strftime('%Y%m%d') + \".csv\"\n",
        "ds_spec_phones_mediaworld.to_csv(file_name,encoding=\"utf-8\")"
      ],
      "execution_count": null,
      "outputs": []
    },
    {
      "cell_type": "markdown",
      "metadata": {
        "id": "rp4KsMKtCr8r",
        "colab_type": "text"
      },
      "source": [
        "---\n",
        "# Extraction - Unieuro scraping\n",
        "![testo alternativo](https://drive.google.com/uc?export=view&id=186CaxVZq1S9MMCiiBidejVKHcgaV5c0Z)"
      ]
    },
    {
      "cell_type": "markdown",
      "metadata": {
        "id": "T0FdeE989wvH",
        "colab_type": "text"
      },
      "source": [
        "Unieuro split the smartphone catalogue into \"Iphone\" and the others brand so it's necessary to scrape the site in two phases"
      ]
    },
    {
      "cell_type": "markdown",
      "metadata": {
        "id": "4VYjiERd-B7q",
        "colab_type": "text"
      },
      "source": [
        "### Other brands"
      ]
    },
    {
      "cell_type": "code",
      "metadata": {
        "id": "TzFbfEVBC6eP",
        "colab_type": "code",
        "colab": {
          "base_uri": "https://localhost:8080/",
          "height": 34
        },
        "outputId": "b10813a7-5789-4277-d1c0-3651ec202cc2"
      },
      "source": [
        "wd = webdriver.Chrome('chromedriver',chrome_options=chrome_options)\n",
        "wd.set_window_size(scrWidth, scrHeight)\n",
        "wd.get(linkUnieuro)\n",
        "time.sleep(delay)\n",
        "list_smartphone_unieuro = wd.find_elements_by_css_selector(\"div.items-container> section.hits > section.collapsed > article\")\n",
        "print(len(list_smartphone_unieuro))"
      ],
      "execution_count": null,
      "outputs": [
        {
          "output_type": "stream",
          "text": [
            "24\n"
          ],
          "name": "stdout"
        }
      ]
    },
    {
      "cell_type": "code",
      "metadata": {
        "id": "U6irxjdLB_AM",
        "colab_type": "code",
        "colab": {
          "base_uri": "https://localhost:8080/",
          "height": 276
        },
        "outputId": "73db7235-922b-404e-aeae-73628acaff86"
      },
      "source": [
        "webpage_shot()"
      ],
      "execution_count": null,
      "outputs": [
        {
          "output_type": "stream",
          "text": [
            "Populating the interactive namespace from numpy and matplotlib\n",
            "Smartphone: scopri i prezzi imbattibili di Unieuro\n"
          ],
          "name": "stdout"
        },
        {
          "output_type": "display_data",
          "data": {
            "image/png": "[encoded data removed]",
            "text/plain": [
              "<Figure size 432x288 with 1 Axes>"
            ]
          },
          "metadata": {
            "tags": [],
            "needs_background": "light"
          }
        }
      ]
    },
    {
      "cell_type": "markdown",
      "metadata": {
        "id": "GFMNcpruxsxM",
        "colab_type": "text"
      },
      "source": [
        "Find the total number of pages to scrape"
      ]
    },
    {
      "cell_type": "code",
      "metadata": {
        "id": "-XIMvKpb56YZ",
        "colab_type": "code",
        "colab": {
          "base_uri": "https://localhost:8080/",
          "height": 34
        },
        "outputId": "d7a27944-e8c6-444c-bfa6-790a5bb095f9"
      },
      "source": [
        "total_results = wd.find_elements_by_css_selector(\"span.total-results\")[0].text\n",
        "total_products_unieuro = re.sub('(\\)|\\(| Prodotti)','',total_results)\n",
        "total_pages_unieuro = math.ceil(int(total_products_unieuro)/len(list_smartphone_unieuro))\n",
        "print(total_pages_unieuro)"
      ],
      "execution_count": null,
      "outputs": [
        {
          "output_type": "stream",
          "text": [
            "19\n"
          ],
          "name": "stdout"
        }
      ]
    },
    {
      "cell_type": "markdown",
      "metadata": {
        "id": "YEUwiPZ2w2di",
        "colab_type": "text"
      },
      "source": [
        "Function that retrieves all the products link of the products along the pages. \n",
        "I set original price equal to the current price if the product is not discounted"
      ]
    },
    {
      "cell_type": "code",
      "metadata": {
        "id": "VxzuRHhCC6go",
        "colab_type": "code",
        "colab": {}
      },
      "source": [
        "def get_product_info_Unieuro(s):\n",
        "  url = \"\"\n",
        "  product_name = \"\"\n",
        "  product_category = \"\"\n",
        "  original_price = \"\"\n",
        "  price = \"\"\n",
        "  tms_loading = dt.datetime.now()\n",
        "\n",
        "  try:\n",
        "      url = s.find_elements_by_css_selector(\"div.info div.product-img-container a\")[0].get_attribute(\"href\")\n",
        "      product_name = s.find_elements_by_css_selector(\"div.info div.title a\")[0].text\n",
        "      product_category = s.find_elements_by_css_selector(\"div.info div.category\")[0].text\n",
        "      if(len(s.find_elements_by_css_selector(\"div.info span.original-price\")) == 1):\n",
        "            original_price = s.find_elements_by_css_selector(\"div.info span.original-price\")[0].text.replace(',','.') \n",
        "      else:\n",
        "            original_price = s.find_elements_by_css_selector(\"div.info div.price\")[0].text.replace(',','.')         \n",
        "      price = s.find_elements_by_css_selector(\"div.info div.price\")[0].text.replace(',','.')   \n",
        "  except:\n",
        "    pass\n",
        "  return {'tms_loading': tms_loading,\n",
        "          'id_vendor': idvendor2,\n",
        "          'vendor': vendor2,\n",
        "          'url': url,\n",
        "          'product_name': product_name,\n",
        "          'product_category': product_category,\n",
        "          'original_price': original_price,\n",
        "          'price': price}"
      ],
      "execution_count": null,
      "outputs": []
    },
    {
      "cell_type": "markdown",
      "metadata": {
        "id": "HJhkqZ53x6tV",
        "colab_type": "text"
      },
      "source": [
        "Collecting all the links related to every singles product. The link will be used to access to its proper page and get additional data"
      ]
    },
    {
      "cell_type": "code",
      "metadata": {
        "id": "5BDupkCIAsLg",
        "colab_type": "code",
        "colab": {
          "base_uri": "https://localhost:8080/",
          "height": 83,
          "referenced_widgets": [
            "90aefe5464564fb299348a64e40a8637",
            "88e9f372885649198113da603c268c09",
            "c986bdecab2a4a05960b46b3d55df74b",
            "0d5791d6423041c388eaf7f4b42e811d",
            "a7acefc2940a49ec9ca565fdb65129ef",
            "f44d45db792042fbb95dd4641a3b6cfb",
            "1c98ee50f2a04dd1a5fbc7f73295e583",
            "fbfe9d0c152d43f9b039b21368efffa5"
          ]
        },
        "outputId": "9550b5c3-c44b-491c-8c99-208b2d3dba63"
      },
      "source": [
        "all_unieuro_phones = []\n",
        "\n",
        "for num in tqdm(range(0,total_pages_unieuro)):\n",
        "  wd.get(f\"https://www.unieuro.it/online/Telefonia-e-Smartphone/Smartphone-e-Cellulari/Smartphone?p={num}&dFR[categories.lvl3][0]=C2101\")\n",
        "  time.sleep(np.random.randint(1,delay))\n",
        "  list_smartphone = wd.find_elements_by_css_selector(\"div.items-container> section.hits > section.collapsed > article\")\n",
        "  for s in list_smartphone:\n",
        "    all_unieuro_phones.append(get_product_info_Unieuro(s))\n",
        "\n",
        "print('Total collected products: ' + str(len(all_unieuro_phones)) + '/' + total_products_unieuro)"
      ],
      "execution_count": null,
      "outputs": [
        {
          "output_type": "display_data",
          "data": {
            "application/vnd.jupyter.widget-view+json": {
              "model_id": "90aefe5464564fb299348a64e40a8637",
              "version_minor": 0,
              "version_major": 2
            },
            "text/plain": [
              "HBox(children=(FloatProgress(value=0.0, max=19.0), HTML(value='')))"
            ]
          },
          "metadata": {
            "tags": []
          }
        },
        {
          "output_type": "stream",
          "text": [
            "\n",
            "Total collected products: 446/446\n"
          ],
          "name": "stdout"
        }
      ]
    },
    {
      "cell_type": "markdown",
      "metadata": {
        "id": "luf6ArreyJIj",
        "colab_type": "text"
      },
      "source": [
        "Setting a dataframe to collect the products which have just been scraped"
      ]
    },
    {
      "cell_type": "code",
      "metadata": {
        "id": "F2GeS4JYPiee",
        "colab_type": "code",
        "colab": {
          "base_uri": "https://localhost:8080/",
          "height": 197
        },
        "outputId": "668fe288-c40d-47b3-b520-611e94a3e6d5"
      },
      "source": [
        "ds_unieuro_phones = pd.DataFrame(all_unieuro_phones)\n",
        "ds_unieuro_phones.head()"
      ],
      "execution_count": null,
      "outputs": [
        {
          "output_type": "execute_result",
          "data": {
            "text/html": [
              "<div>\n",
              "<style scoped>\n",
              "    .dataframe tbody tr th:only-of-type {\n",
              "        vertical-align: middle;\n",
              "    }\n",
              "\n",
              "    .dataframe tbody tr th {\n",
              "        vertical-align: top;\n",
              "    }\n",
              "\n",
              "    .dataframe thead th {\n",
              "        text-align: right;\n",
              "    }\n",
              "</style>\n",
              "<table border=\"1\" class=\"dataframe\">\n",
              "  <thead>\n",
              "    <tr style=\"text-align: right;\">\n",
              "      <th></th>\n",
              "      <th>tms_loading</th>\n",
              "      <th>id_vendor</th>\n",
              "      <th>vendor</th>\n",
              "      <th>url</th>\n",
              "      <th>product_name</th>\n",
              "      <th>product_category</th>\n",
              "      <th>original_price</th>\n",
              "      <th>price</th>\n",
              "    </tr>\n",
              "  </thead>\n",
              "  <tbody>\n",
              "    <tr>\n",
              "      <th>0</th>\n",
              "      <td>2020-08-14 06:09:20.340302</td>\n",
              "      <td>2</td>\n",
              "      <td>Unieuro</td>\n",
              "      <td>https://www.unieuro.it/online/Smartphone/Note-...</td>\n",
              "      <td>Xiaomi Redmi Note 8T 16 cm (6.3\") 4 GB 64 GB D...</td>\n",
              "      <td>Smartphone</td>\n",
              "      <td>€229.90</td>\n",
              "      <td>€179.90</td>\n",
              "    </tr>\n",
              "    <tr>\n",
              "      <th>1</th>\n",
              "      <td>2020-08-14 06:09:20.468157</td>\n",
              "      <td>2</td>\n",
              "      <td>Unieuro</td>\n",
              "      <td>https://www.unieuro.it/online/Smartphone/Galax...</td>\n",
              "      <td>Samsung Galaxy A20e , Black, 5.8, Wi-Fi 4 (802...</td>\n",
              "      <td>Smartphone</td>\n",
              "      <td>€169.90</td>\n",
              "      <td>€139.90</td>\n",
              "    </tr>\n",
              "    <tr>\n",
              "      <th>2</th>\n",
              "      <td>2020-08-14 06:09:20.592269</td>\n",
              "      <td>2</td>\n",
              "      <td>Unieuro</td>\n",
              "      <td>https://www.unieuro.it/online/Smartphone/Galax...</td>\n",
              "      <td>Samsung Galaxy A51 6.5\" 4 GB 128 GB Doppia SIM...</td>\n",
              "      <td>Smartphone</td>\n",
              "      <td>€379.90</td>\n",
              "      <td>€268.90</td>\n",
              "    </tr>\n",
              "    <tr>\n",
              "      <th>3</th>\n",
              "      <td>2020-08-14 06:09:20.709932</td>\n",
              "      <td>2</td>\n",
              "      <td>Unieuro</td>\n",
              "      <td>https://www.unieuro.it/online/Smartphone/Galax...</td>\n",
              "      <td>Samsung Galaxy S10 Lite , Black, 6.7, Wi-Fi 5 ...</td>\n",
              "      <td>Smartphone</td>\n",
              "      <td>€679.00</td>\n",
              "      <td>€499.00</td>\n",
              "    </tr>\n",
              "    <tr>\n",
              "      <th>4</th>\n",
              "      <td>2020-08-14 06:09:20.827036</td>\n",
              "      <td>2</td>\n",
              "      <td>Unieuro</td>\n",
              "      <td>https://www.unieuro.it/online/Smartphone/P30-l...</td>\n",
              "      <td>Huawei P30 lite 15,6 cm (6.15\") 4 GB 128 GB Du...</td>\n",
              "      <td>Smartphone</td>\n",
              "      <td>€299.90</td>\n",
              "      <td>€229.00</td>\n",
              "    </tr>\n",
              "  </tbody>\n",
              "</table>\n",
              "</div>"
            ],
            "text/plain": [
              "                 tms_loading  id_vendor  ... original_price    price\n",
              "0 2020-08-14 06:09:20.340302          2  ...        €229.90  €179.90\n",
              "1 2020-08-14 06:09:20.468157          2  ...        €169.90  €139.90\n",
              "2 2020-08-14 06:09:20.592269          2  ...        €379.90  €268.90\n",
              "3 2020-08-14 06:09:20.709932          2  ...        €679.00  €499.00\n",
              "4 2020-08-14 06:09:20.827036          2  ...        €299.90  €229.00\n",
              "\n",
              "[5 rows x 8 columns]"
            ]
          },
          "metadata": {
            "tags": []
          },
          "execution_count": 9
        }
      ]
    },
    {
      "cell_type": "code",
      "metadata": {
        "id": "QfhDp7C2CBBa",
        "colab_type": "code",
        "colab": {
          "base_uri": "https://localhost:8080/",
          "height": 273
        },
        "outputId": "3d824a2a-241d-426c-d973-009c2a2d7452"
      },
      "source": [
        "ds_unieuro_phones.info()"
      ],
      "execution_count": null,
      "outputs": [
        {
          "output_type": "stream",
          "text": [
            "<class 'pandas.core.frame.DataFrame'>\n",
            "RangeIndex: 446 entries, 0 to 445\n",
            "Data columns (total 8 columns):\n",
            " #   Column            Non-Null Count  Dtype         \n",
            "---  ------            --------------  -----         \n",
            " 0   tms_loading       446 non-null    datetime64[ns]\n",
            " 1   id_vendor         446 non-null    int64         \n",
            " 2   vendor            446 non-null    object        \n",
            " 3   url               446 non-null    object        \n",
            " 4   product_name      446 non-null    object        \n",
            " 5   product_category  446 non-null    object        \n",
            " 6   original_price    446 non-null    object        \n",
            " 7   price             446 non-null    object        \n",
            "dtypes: datetime64[ns](1), int64(1), object(6)\n",
            "memory usage: 28.0+ KB\n"
          ],
          "name": "stdout"
        }
      ]
    },
    {
      "cell_type": "code",
      "metadata": {
        "id": "a3VaxWQj_18s",
        "colab_type": "code",
        "colab": {
          "base_uri": "https://localhost:8080/",
          "height": 34
        },
        "outputId": "5a96874c-c831-43fe-b555-f2d9dd144721"
      },
      "source": [
        "ds_unieuro_phones.duplicated(['url']).sum()"
      ],
      "execution_count": null,
      "outputs": [
        {
          "output_type": "execute_result",
          "data": {
            "text/plain": [
              "0"
            ]
          },
          "metadata": {
            "tags": []
          },
          "execution_count": 11
        }
      ]
    },
    {
      "cell_type": "markdown",
      "metadata": {
        "id": "kpTfDSBGyQYa",
        "colab_type": "text"
      },
      "source": [
        "This function get all the specs for every product pass as parameters"
      ]
    },
    {
      "cell_type": "code",
      "metadata": {
        "id": "dVx3CbgFAGXl",
        "colab_type": "code",
        "colab": {}
      },
      "source": [
        "def get_prod_spec_Unieuro(prod,date_loading,price,original_price,brand,model,carrier):\n",
        "  os = \"\"\n",
        "  ram = \"\"\n",
        "  memory = \"\"\n",
        "  sim = \"\"\n",
        "  color = \"\"\n",
        "  display_type = \"\"\n",
        "  display_size = \"\"\n",
        "  battery_capacity = \"\"\n",
        "  weight = \"\"\n",
        "  gps = \"\"\n",
        "  a_gps = \"\"\n",
        "  height = \"\"\n",
        "  width = \"\"\n",
        "  length = \"\"\n",
        "  tms_loading = dt.datetime.now()\n",
        "  \n",
        "  i = 0\n",
        "\n",
        "  check = True\n",
        "\n",
        "  try:\n",
        "    while check:\n",
        "      if(prod.find_elements_by_css_selector(\"span.label\")[i].text == \"Piattaforma\"):\n",
        "        os = prod.find_elements_by_css_selector(\"span.detail\")[i].text\n",
        "      if(prod.find_elements_by_css_selector(\"span.label\")[i].text == \"Capacità della RAM\"):\n",
        "        ram = prod.find_elements_by_css_selector(\"span.detail\")[i].text \n",
        "      if(prod.find_elements_by_css_selector(\"span.label\")[i].text == \"Capacità memoria interna\"):\n",
        "        memory = prod.find_elements_by_css_selector(\"span.detail\")[i].text \n",
        "      if(prod.find_elements_by_css_selector(\"span.label\")[i].text == \"Capacità della scheda SIM\"):\n",
        "        sim = prod.find_elements_by_css_selector(\"span.detail\")[i].text     \n",
        "      if(prod.find_elements_by_css_selector(\"span.label\")[i].text == \"Colore del prodotto\"):\n",
        "        color = prod.find_elements_by_css_selector(\"span.detail\")[i].text  \n",
        "      if(prod.find_elements_by_css_selector(\"span.label\")[i].text == \"Tipo di display\"):\n",
        "        display_type = prod.find_elements_by_css_selector(\"span.detail\")[i].text   \n",
        "      if(prod.find_elements_by_css_selector(\"span.label\")[i].text == \"Dimensioni schermo\"):\n",
        "        display_size = prod.find_elements_by_css_selector(\"span.detail\")[i].text   \n",
        "      if(prod.find_elements_by_css_selector(\"span.label\")[i].text == \"Capacità della batteria\"):\n",
        "       battery_capacity = prod.find_elements_by_css_selector(\"span.detail\")[i].text    \n",
        "      if(prod.find_elements_by_css_selector(\"span.label\")[i].text == \"Peso\"):\n",
        "       weight = prod.find_elements_by_css_selector(\"span.detail\")[i].text    \n",
        "      if(prod.find_elements_by_css_selector(\"span.label\")[i].text == \"GPS\"):\n",
        "       gps = prod.find_elements_by_css_selector(\"span.detail\")[i].text   \n",
        "      if(prod.find_elements_by_css_selector(\"span.label\")[i].text == \"Assistenza funzione GPS (A-GPS)\"):\n",
        "       a_gps = prod.find_elements_by_css_selector(\"span.detail\")[i].text \n",
        "      if(prod.find_elements_by_css_selector(\"span.label\")[i].text == \"Altezza\"):\n",
        "       height = prod.find_elements_by_css_selector(\"span.detail\")[i].text   \n",
        "      if(prod.find_elements_by_css_selector(\"span.label\")[i].text == \"Larghezza\"):\n",
        "       width = prod.find_elements_by_css_selector(\"span.detail\")[i].text   \n",
        "      if(prod.find_elements_by_css_selector(\"span.label\")[i].text == \"Profondità\"):\n",
        "       length = prod.find_elements_by_css_selector(\"span.detail\")[i].text   \n",
        "\n",
        "      i += 1\n",
        "\n",
        "  except:\n",
        "     check = False\n",
        "     pass\n",
        "  return {'tms_loading': tms_loading,\n",
        "          'date_loading': date_loading,\n",
        "          'id_vendor': idvendor2,\n",
        "          'vendor': vendor2, \n",
        "          'os': os,\n",
        "          'brand': brand,  \n",
        "          'model': model,\n",
        "          'price': price,\n",
        "          'original_price': original_price,       \n",
        "          'ram': ram,\n",
        "          'memory': memory,\n",
        "          'sim': sim,\n",
        "          'gps': gps,\n",
        "          'a_gps': a_gps,\n",
        "          'color': color,\n",
        "          'display_type': display_type,\n",
        "          'display_size': display_size,\n",
        "          'carrier': carrier,\n",
        "          'battery_capacity': battery_capacity,\n",
        "          'height':height,\n",
        "          'width':width,\n",
        "          'length':length,\n",
        "          'weight': weight} "
      ],
      "execution_count": null,
      "outputs": []
    },
    {
      "cell_type": "markdown",
      "metadata": {
        "id": "JUapflGgyV25",
        "colab_type": "text"
      },
      "source": [
        "Appending all specs retrieved in a list. To ensure a correct loading of the page we use the class WebDriverWait"
      ]
    },
    {
      "cell_type": "code",
      "metadata": {
        "id": "rzY8DLOiOzvd",
        "colab_type": "code",
        "colab": {
          "base_uri": "https://localhost:8080/",
          "height": 66,
          "referenced_widgets": [
            "81d46d3d569040128efb89ed139712b5",
            "4390fb3d0e5a4a1797fd6ee96ec1a501",
            "ffc256c8f16b4e60916aa0c856fd8447",
            "51c67dec4d47400d8f708fe990fbfccf",
            "43f1454b9819457884c82431172869e6",
            "b2c620302a6e4fb2a3c1aae7c5d03ec1",
            "1f6362a8c8554d27b1df59945985232c",
            "47444711d80e44fc8b70f992965973cb"
          ]
        },
        "outputId": "1d9865ea-a912-4588-8612-918d4b2f721f"
      },
      "source": [
        "all_unieuro_spec_phones = []\n",
        "\n",
        "date_loading = dt.date.today()\n",
        "\n",
        "for index, prd in tqdm(ds_unieuro_phones.iterrows()):\n",
        "    time.sleep(np.random.randint(1,delay))\n",
        "    link = prd[\"url\"]\n",
        "    price = prd[\"price\"]\n",
        "    original_price = prd[\"original_price\"]\n",
        "    product_name_ext = prd[\"product_name\"]\n",
        "    product_name_no_carrier = re.sub(('Vodafone|TIM|H3G|WindTre'),'',product_name_ext,flags = re.IGNORECASE)\n",
        "    product_name_no_carrier = product_name_no_carrier.strip()\n",
        "    brand = product_name_no_carrier.split(' ')[0]\n",
        "    carrier = re.match(('Vodafone|TIM|H3G|WindTre'),product_name_ext,re.IGNORECASE)\n",
        "    if carrier is None:\n",
        "      carrier = 'No'\n",
        "    else:\n",
        "      carrier = carrier.group()\n",
        "    product_name_no_carrier = product_name_no_carrier.strip()  \n",
        "    product_name_no_carrier_no_brand = re.sub(brand,'',product_name_no_carrier,flags = re.IGNORECASE)\n",
        "    product_name_no_carrier_no_brand = product_name_no_carrier_no_brand.strip()\n",
        "    model_ext = re.match('(^.*?)(,|:|[0-9] cm|[0-9] GB|[0-9]\")',product_name_no_carrier_no_brand,re.IGNORECASE)\n",
        "    if model_ext is None:\n",
        "      model = product_name_no_carrier_no_brand\n",
        "    else:\n",
        "      model = re.match('.*(?=\\ )',model_ext.group(),re.IGNORECASE)\n",
        "      if model is None:\n",
        "         model = ''\n",
        "      else:\n",
        "         model = model.group()\n",
        "    try:\n",
        "      wd.set_window_size(scrWidth, scrHeight)\n",
        "      wd.get(link)\n",
        "      try:\n",
        "       WebDriverWait(wd, 10).until(\n",
        "          EC.presence_of_element_located((By.ID , \"specifications\"))\n",
        "       )\n",
        "      except:\n",
        "        pass\n",
        "      prod = wd.find_element_by_id(\"specifications\")   \n",
        "      all_unieuro_spec_phones.append(get_prod_spec_Unieuro(prod,date_loading,price,original_price,brand,model,carrier))\n",
        "    except Exception as e:\n",
        "     print(e)"
      ],
      "execution_count": null,
      "outputs": [
        {
          "output_type": "display_data",
          "data": {
            "application/vnd.jupyter.widget-view+json": {
              "model_id": "81d46d3d569040128efb89ed139712b5",
              "version_minor": 0,
              "version_major": 2
            },
            "text/plain": [
              "HBox(children=(FloatProgress(value=1.0, bar_style='info', max=1.0), HTML(value='')))"
            ]
          },
          "metadata": {
            "tags": []
          }
        },
        {
          "output_type": "stream",
          "text": [
            "\n"
          ],
          "name": "stdout"
        }
      ]
    },
    {
      "cell_type": "code",
      "metadata": {
        "id": "6xy10qLmlk0Q",
        "colab_type": "code",
        "colab": {
          "base_uri": "https://localhost:8080/",
          "height": 353
        },
        "outputId": "a37b891d-7044-4d2d-adb5-e9e0aa9c74f2"
      },
      "source": [
        "ds_spec_phones_unieuro = pd.DataFrame(all_unieuro_spec_phones)\n",
        "ds_spec_phones_unieuro.head()"
      ],
      "execution_count": null,
      "outputs": [
        {
          "output_type": "execute_result",
          "data": {
            "text/html": [
              "<div>\n",
              "<style scoped>\n",
              "    .dataframe tbody tr th:only-of-type {\n",
              "        vertical-align: middle;\n",
              "    }\n",
              "\n",
              "    .dataframe tbody tr th {\n",
              "        vertical-align: top;\n",
              "    }\n",
              "\n",
              "    .dataframe thead th {\n",
              "        text-align: right;\n",
              "    }\n",
              "</style>\n",
              "<table border=\"1\" class=\"dataframe\">\n",
              "  <thead>\n",
              "    <tr style=\"text-align: right;\">\n",
              "      <th></th>\n",
              "      <th>tms_loading</th>\n",
              "      <th>date_loading</th>\n",
              "      <th>id_vendor</th>\n",
              "      <th>vendor</th>\n",
              "      <th>os</th>\n",
              "      <th>brand</th>\n",
              "      <th>model</th>\n",
              "      <th>price</th>\n",
              "      <th>original_price</th>\n",
              "      <th>ram</th>\n",
              "      <th>memory</th>\n",
              "      <th>sim</th>\n",
              "      <th>gps</th>\n",
              "      <th>a_gps</th>\n",
              "      <th>color</th>\n",
              "      <th>display_type</th>\n",
              "      <th>display_size</th>\n",
              "      <th>carrier</th>\n",
              "      <th>battery_capacity</th>\n",
              "      <th>height</th>\n",
              "      <th>width</th>\n",
              "      <th>length</th>\n",
              "      <th>weight</th>\n",
              "    </tr>\n",
              "  </thead>\n",
              "  <tbody>\n",
              "    <tr>\n",
              "      <th>0</th>\n",
              "      <td>2020-08-13 15:01:23.625371</td>\n",
              "      <td>2020-08-13</td>\n",
              "      <td>2</td>\n",
              "      <td>Unieuro</td>\n",
              "      <td>Android</td>\n",
              "      <td>Xiaomi</td>\n",
              "      <td>Redmi Note 8T 16</td>\n",
              "      <td>€179.90</td>\n",
              "      <td>€229.90</td>\n",
              "      <td>4   GB</td>\n",
              "      <td>64   GB</td>\n",
              "      <td>Doppia SIM</td>\n",
              "      <td>Sì</td>\n",
              "      <td>Sì</td>\n",
              "      <td>Grigio</td>\n",
              "      <td>IPS</td>\n",
              "      <td>6.3   \"</td>\n",
              "      <td>No</td>\n",
              "      <td>4000   mAh</td>\n",
              "      <td>161.15   mm</td>\n",
              "      <td>75.4   mm</td>\n",
              "      <td>8.6   mm</td>\n",
              "      <td>199.8   g</td>\n",
              "    </tr>\n",
              "    <tr>\n",
              "      <th>1</th>\n",
              "      <td>2020-08-13 15:02:01.698153</td>\n",
              "      <td>2020-08-13</td>\n",
              "      <td>2</td>\n",
              "      <td>Unieuro</td>\n",
              "      <td>Android</td>\n",
              "      <td>Samsung</td>\n",
              "      <td>Galaxy A20e</td>\n",
              "      <td>€139.90</td>\n",
              "      <td>€169.90</td>\n",
              "      <td>3   GB</td>\n",
              "      <td>32   GB</td>\n",
              "      <td>Doppia SIM</td>\n",
              "      <td>Sì</td>\n",
              "      <td>Sì</td>\n",
              "      <td>Nero</td>\n",
              "      <td>PLS</td>\n",
              "      <td>5.8   \"</td>\n",
              "      <td>No</td>\n",
              "      <td>3000   mAh</td>\n",
              "      <td>147.4   mm</td>\n",
              "      <td>69.7   mm</td>\n",
              "      <td>8.4   mm</td>\n",
              "      <td>141   g</td>\n",
              "    </tr>\n",
              "    <tr>\n",
              "      <th>2</th>\n",
              "      <td>2020-08-13 15:02:53.076178</td>\n",
              "      <td>2020-08-13</td>\n",
              "      <td>2</td>\n",
              "      <td>Unieuro</td>\n",
              "      <td>Android</td>\n",
              "      <td>Samsung</td>\n",
              "      <td>Galaxy A51</td>\n",
              "      <td>€268.90</td>\n",
              "      <td>€379.90</td>\n",
              "      <td>4   GB</td>\n",
              "      <td>128   GB</td>\n",
              "      <td>Doppia SIM</td>\n",
              "      <td>Sì</td>\n",
              "      <td>Sì</td>\n",
              "      <td>Nero</td>\n",
              "      <td>SAMOLED</td>\n",
              "      <td>6.5   \"</td>\n",
              "      <td>No</td>\n",
              "      <td>4000   mAh</td>\n",
              "      <td>158.5   mm</td>\n",
              "      <td>73.6   mm</td>\n",
              "      <td>7.9   mm</td>\n",
              "      <td>172   g</td>\n",
              "    </tr>\n",
              "    <tr>\n",
              "      <th>3</th>\n",
              "      <td>2020-08-13 15:03:49.773108</td>\n",
              "      <td>2020-08-13</td>\n",
              "      <td>2</td>\n",
              "      <td>Unieuro</td>\n",
              "      <td>Android</td>\n",
              "      <td>Samsung</td>\n",
              "      <td>Galaxy S10 Lite</td>\n",
              "      <td>€499.00</td>\n",
              "      <td>€679.00</td>\n",
              "      <td>8   GB</td>\n",
              "      <td>128   GB</td>\n",
              "      <td>Doppia SIM</td>\n",
              "      <td>Sì</td>\n",
              "      <td>Sì</td>\n",
              "      <td>Nero</td>\n",
              "      <td>SAMOLED</td>\n",
              "      <td>6.7   \"</td>\n",
              "      <td>No</td>\n",
              "      <td>4500   mAh</td>\n",
              "      <td>162.5   mm</td>\n",
              "      <td>75.6   mm</td>\n",
              "      <td>8.1   mm</td>\n",
              "      <td>186   g</td>\n",
              "    </tr>\n",
              "    <tr>\n",
              "      <th>4</th>\n",
              "      <td>2020-08-13 15:04:42.985259</td>\n",
              "      <td>2020-08-13</td>\n",
              "      <td>2</td>\n",
              "      <td>Unieuro</td>\n",
              "      <td>Android</td>\n",
              "      <td>Huawei</td>\n",
              "      <td>P30 lite</td>\n",
              "      <td>€229.00</td>\n",
              "      <td>€299.90</td>\n",
              "      <td>4   GB</td>\n",
              "      <td>128   GB</td>\n",
              "      <td>Dual SIM ibrida</td>\n",
              "      <td>Sì</td>\n",
              "      <td>Sì</td>\n",
              "      <td>Nero</td>\n",
              "      <td>IPS</td>\n",
              "      <td>6.15   \"</td>\n",
              "      <td>No</td>\n",
              "      <td>3340   mAh</td>\n",
              "      <td>152.9   mm</td>\n",
              "      <td>72.7   mm</td>\n",
              "      <td>7.4   mm</td>\n",
              "      <td>159   g</td>\n",
              "    </tr>\n",
              "  </tbody>\n",
              "</table>\n",
              "</div>"
            ],
            "text/plain": [
              "                 tms_loading date_loading  ...    length     weight\n",
              "0 2020-08-13 15:01:23.625371   2020-08-13  ...  8.6   mm  199.8   g\n",
              "1 2020-08-13 15:02:01.698153   2020-08-13  ...  8.4   mm    141   g\n",
              "2 2020-08-13 15:02:53.076178   2020-08-13  ...  7.9   mm    172   g\n",
              "3 2020-08-13 15:03:49.773108   2020-08-13  ...  8.1   mm    186   g\n",
              "4 2020-08-13 15:04:42.985259   2020-08-13  ...  7.4   mm    159   g\n",
              "\n",
              "[5 rows x 23 columns]"
            ]
          },
          "metadata": {
            "tags": []
          },
          "execution_count": 40
        }
      ]
    },
    {
      "cell_type": "code",
      "metadata": {
        "id": "XCyHtUFdCEZJ",
        "colab_type": "code",
        "colab": {
          "base_uri": "https://localhost:8080/",
          "height": 529
        },
        "outputId": "99fa6f5d-ed72-4215-b779-1519d7470b1c"
      },
      "source": [
        "ds_spec_phones_unieuro.info()"
      ],
      "execution_count": null,
      "outputs": [
        {
          "output_type": "stream",
          "text": [
            "<class 'pandas.core.frame.DataFrame'>\n",
            "RangeIndex: 446 entries, 0 to 445\n",
            "Data columns (total 23 columns):\n",
            " #   Column            Non-Null Count  Dtype         \n",
            "---  ------            --------------  -----         \n",
            " 0   tms_loading       446 non-null    datetime64[ns]\n",
            " 1   date_loading      446 non-null    object        \n",
            " 2   id_vendor         446 non-null    int64         \n",
            " 3   vendor            446 non-null    object        \n",
            " 4   os                446 non-null    object        \n",
            " 5   brand             446 non-null    object        \n",
            " 6   model             446 non-null    object        \n",
            " 7   price             446 non-null    object        \n",
            " 8   original_price    446 non-null    object        \n",
            " 9   ram               446 non-null    object        \n",
            " 10  memory            446 non-null    object        \n",
            " 11  sim               446 non-null    object        \n",
            " 12  gps               446 non-null    object        \n",
            " 13  a_gps             446 non-null    object        \n",
            " 14  color             446 non-null    object        \n",
            " 15  display_type      446 non-null    object        \n",
            " 16  display_size      446 non-null    object        \n",
            " 17  carrier           446 non-null    object        \n",
            " 18  battery_capacity  446 non-null    object        \n",
            " 19  height            446 non-null    object        \n",
            " 20  width             446 non-null    object        \n",
            " 21  length            446 non-null    object        \n",
            " 22  weight            446 non-null    object        \n",
            "dtypes: datetime64[ns](1), int64(1), object(21)\n",
            "memory usage: 80.3+ KB\n"
          ],
          "name": "stdout"
        }
      ]
    },
    {
      "cell_type": "code",
      "metadata": {
        "id": "6wEVWV_7Yqi1",
        "colab_type": "code",
        "colab": {}
      },
      "source": [
        "file_name = \"ds_spec_phones_unieuro_\" + dt.date.today().strftime('%Y%m%d') + \".csv\"\n",
        "ds_spec_phones_unieuro.to_csv(file_name,encoding=\"utf-8\")"
      ],
      "execution_count": null,
      "outputs": []
    },
    {
      "cell_type": "markdown",
      "metadata": {
        "id": "PIQ36CSl-PHL",
        "colab_type": "text"
      },
      "source": [
        "### Iphone"
      ]
    },
    {
      "cell_type": "code",
      "metadata": {
        "id": "F_PogIn7-9CJ",
        "colab_type": "code",
        "colab": {
          "base_uri": "https://localhost:8080/",
          "height": 34
        },
        "outputId": "ea45d6f3-0074-475c-f3a3-cba0729f7669"
      },
      "source": [
        "wd = webdriver.Chrome('chromedriver',chrome_options=chrome_options)\n",
        "wd.set_window_size(scrWidth, scrHeight)\n",
        "wd.get(linkUnieuroIphone)\n",
        "time.sleep(delay)\n",
        "list_iphone_unieuro = wd.find_elements_by_css_selector(\"div.items-container> section.hits > section.collapsed > article\")\n",
        "print(len(list_iphone_unieuro))"
      ],
      "execution_count": null,
      "outputs": [
        {
          "output_type": "stream",
          "text": [
            "24\n"
          ],
          "name": "stdout"
        }
      ]
    },
    {
      "cell_type": "code",
      "metadata": {
        "id": "JtPiM6pM_sam",
        "colab_type": "code",
        "colab": {
          "base_uri": "https://localhost:8080/",
          "height": 274
        },
        "outputId": "fdbbe727-8ff7-4663-8f95-a3cc6a11ca26"
      },
      "source": [
        "webpage_shot()"
      ],
      "execution_count": null,
      "outputs": [
        {
          "output_type": "stream",
          "text": [
            "Populating the interactive namespace from numpy and matplotlib\n",
            "Iphone Apple in promzione solo sullo store Unieuro\n"
          ],
          "name": "stdout"
        },
        {
          "output_type": "display_data",
          "data": {
            "image/png": "[encoded data removed]",
            "text/plain": [
              "<Figure size 432x288 with 1 Axes>"
            ]
          },
          "metadata": {
            "tags": [],
            "needs_background": "light"
          }
        }
      ]
    },
    {
      "cell_type": "code",
      "metadata": {
        "id": "WLsNavQY_ZyW",
        "colab_type": "code",
        "colab": {
          "base_uri": "https://localhost:8080/",
          "height": 34
        },
        "outputId": "e44c41b6-9136-4589-99dc-0254ab7ccd5f"
      },
      "source": [
        "total_results = wd.find_elements_by_css_selector(\"span.total-results\")[0].text\n",
        "total_iphone_unieuro = re.sub('(\\)|\\(| Prodotti)','',total_results)\n",
        "total_pages_unieuro = math.ceil(int(total_iphone_unieuro)/len(list_iphone_unieuro))\n",
        "print(total_pages_unieuro)"
      ],
      "execution_count": null,
      "outputs": [
        {
          "output_type": "stream",
          "text": [
            "3\n"
          ],
          "name": "stdout"
        }
      ]
    },
    {
      "cell_type": "code",
      "metadata": {
        "id": "SOvw3OMf-hBf",
        "colab_type": "code",
        "colab": {
          "base_uri": "https://localhost:8080/",
          "height": 83,
          "referenced_widgets": [
            "f1c556c69ebc4dd28bcc2fb5efa85dde",
            "09c43f3c6b804ca78bd5c6edec082aec",
            "559564bcbb2c459ba3cf1a5d772c9fb2",
            "fdf0c89cf0dd47689d971e83b336e9b5",
            "5d77c29519794f1f9cc31061e454c20d",
            "fa215bb8ab7d40ebb7ce89292ad770a5",
            "ad546162fd72497a8eaf8a303160bcd3",
            "8802e4b419f04b3b9b9225855a731c05"
          ]
        },
        "outputId": "a00fffd9-c3a4-4ba4-b134-5530517dba5d"
      },
      "source": [
        "all_unieuro_iphones = []\n",
        "\n",
        "for num in tqdm(range(0,total_pages_unieuro)):\n",
        "  wd.get(f\"https://www.unieuro.it/online/Telefonia-e-Smartphone/Smartphone-e-Cellulari/iPhone?p={num}&dFR[categories.lvl3][0]=C2102\")\n",
        "  time.sleep(np.random.randint(1,delay))\n",
        "  list_smartphone = wd.find_elements_by_css_selector(\"div.items-container> section.hits > section.collapsed > article\")\n",
        "  for s in list_smartphone:\n",
        "    all_unieuro_iphones.append(get_product_info_Unieuro(s))\n",
        "\n",
        "print('Total collected products: ' + str(len(all_unieuro_iphones)) + '/' + total_iphone_unieuro)"
      ],
      "execution_count": null,
      "outputs": [
        {
          "output_type": "display_data",
          "data": {
            "application/vnd.jupyter.widget-view+json": {
              "model_id": "f1c556c69ebc4dd28bcc2fb5efa85dde",
              "version_minor": 0,
              "version_major": 2
            },
            "text/plain": [
              "HBox(children=(FloatProgress(value=0.0, max=3.0), HTML(value='')))"
            ]
          },
          "metadata": {
            "tags": []
          }
        },
        {
          "output_type": "stream",
          "text": [
            "\n",
            "Total collected products: 71/71\n"
          ],
          "name": "stdout"
        }
      ]
    },
    {
      "cell_type": "code",
      "metadata": {
        "id": "tZszGmiOA-UD",
        "colab_type": "code",
        "colab": {
          "base_uri": "https://localhost:8080/",
          "height": 197
        },
        "outputId": "57ff1bd7-9c5f-46d6-c29e-47db9cc8c969"
      },
      "source": [
        "ds_unieuro_iphones = pd.DataFrame(all_unieuro_iphones)\n",
        "ds_unieuro_iphones.head()"
      ],
      "execution_count": null,
      "outputs": [
        {
          "output_type": "execute_result",
          "data": {
            "text/html": [
              "<div>\n",
              "<style scoped>\n",
              "    .dataframe tbody tr th:only-of-type {\n",
              "        vertical-align: middle;\n",
              "    }\n",
              "\n",
              "    .dataframe tbody tr th {\n",
              "        vertical-align: top;\n",
              "    }\n",
              "\n",
              "    .dataframe thead th {\n",
              "        text-align: right;\n",
              "    }\n",
              "</style>\n",
              "<table border=\"1\" class=\"dataframe\">\n",
              "  <thead>\n",
              "    <tr style=\"text-align: right;\">\n",
              "      <th></th>\n",
              "      <th>tms_loading</th>\n",
              "      <th>id_vendor</th>\n",
              "      <th>vendor</th>\n",
              "      <th>url</th>\n",
              "      <th>product_name</th>\n",
              "      <th>product_category</th>\n",
              "      <th>original_price</th>\n",
              "      <th>price</th>\n",
              "    </tr>\n",
              "  </thead>\n",
              "  <tbody>\n",
              "    <tr>\n",
              "      <th>0</th>\n",
              "      <td>2020-08-13 20:19:16.268060</td>\n",
              "      <td>2</td>\n",
              "      <td>Unieuro</td>\n",
              "      <td>https://www.unieuro.it/online/iPhone/iPhone-11...</td>\n",
              "      <td>Apple iPhone 11 128 GB Nero</td>\n",
              "      <td>iPhone</td>\n",
              "      <td>€889.00</td>\n",
              "      <td>€799.00</td>\n",
              "    </tr>\n",
              "    <tr>\n",
              "      <th>1</th>\n",
              "      <td>2020-08-13 20:19:16.380464</td>\n",
              "      <td>2</td>\n",
              "      <td>Unieuro</td>\n",
              "      <td>https://www.unieuro.it/online/iPhone/iPhone-XS...</td>\n",
              "      <td>Apple iPhone XS Max 64GB Grigio siderale</td>\n",
              "      <td>iPhone</td>\n",
              "      <td>€1289.00</td>\n",
              "      <td>€749.00</td>\n",
              "    </tr>\n",
              "    <tr>\n",
              "      <th>2</th>\n",
              "      <td>2020-08-13 20:19:16.492195</td>\n",
              "      <td>2</td>\n",
              "      <td>Unieuro</td>\n",
              "      <td>https://www.unieuro.it/online/iPhone/iPhone-XR...</td>\n",
              "      <td>Apple iPhone XR 256GB Nero</td>\n",
              "      <td>iPhone</td>\n",
              "      <td>€899.00</td>\n",
              "      <td>€759.00</td>\n",
              "    </tr>\n",
              "    <tr>\n",
              "      <th>3</th>\n",
              "      <td>2020-08-13 20:19:16.600449</td>\n",
              "      <td>2</td>\n",
              "      <td>Unieuro</td>\n",
              "      <td>https://www.unieuro.it/online/iPhone/iPhone-SE...</td>\n",
              "      <td>Apple iPhone SE 11,9 cm (4.7\") 128 GB Dual SIM...</td>\n",
              "      <td>iPhone</td>\n",
              "      <td>€549.00</td>\n",
              "      <td>€549.00</td>\n",
              "    </tr>\n",
              "    <tr>\n",
              "      <th>4</th>\n",
              "      <td>2020-08-13 20:19:16.721008</td>\n",
              "      <td>2</td>\n",
              "      <td>Unieuro</td>\n",
              "      <td>https://www.unieuro.it/online/iPhone/iPhone-11...</td>\n",
              "      <td>Apple iPhone 11 128 GB Bianco</td>\n",
              "      <td>iPhone</td>\n",
              "      <td>€889.00</td>\n",
              "      <td>€799.00</td>\n",
              "    </tr>\n",
              "  </tbody>\n",
              "</table>\n",
              "</div>"
            ],
            "text/plain": [
              "                 tms_loading  id_vendor  ... original_price    price\n",
              "0 2020-08-13 20:19:16.268060          2  ...        €889.00  €799.00\n",
              "1 2020-08-13 20:19:16.380464          2  ...       €1289.00  €749.00\n",
              "2 2020-08-13 20:19:16.492195          2  ...        €899.00  €759.00\n",
              "3 2020-08-13 20:19:16.600449          2  ...        €549.00  €549.00\n",
              "4 2020-08-13 20:19:16.721008          2  ...        €889.00  €799.00\n",
              "\n",
              "[5 rows x 8 columns]"
            ]
          },
          "metadata": {
            "tags": []
          },
          "execution_count": 46
        }
      ]
    },
    {
      "cell_type": "code",
      "metadata": {
        "id": "9nTswMS3BPzW",
        "colab_type": "code",
        "colab": {
          "base_uri": "https://localhost:8080/",
          "height": 34
        },
        "outputId": "929de8f0-ba70-48dc-ca46-51c067937121"
      },
      "source": [
        "ds_unieuro_iphones.duplicated(['url']).sum()"
      ],
      "execution_count": null,
      "outputs": [
        {
          "output_type": "execute_result",
          "data": {
            "text/plain": [
              "0"
            ]
          },
          "metadata": {
            "tags": []
          },
          "execution_count": 47
        }
      ]
    },
    {
      "cell_type": "code",
      "metadata": {
        "id": "d7Dx7GWxBR-l",
        "colab_type": "code",
        "colab": {
          "base_uri": "https://localhost:8080/",
          "height": 66,
          "referenced_widgets": [
            "674d300e7ecb44d08dc312ac86d601d0",
            "36845eb34f28463b967c04fc18e2eb35",
            "361da65e8331492da6cb2fed90ab4b2c",
            "e88177cc1f8f4ca8933b3c215db58474",
            "ff85a18fc5e44687bf95efb99a2f61b6",
            "7562fca36156422a9b524c36ad5b0101",
            "1a83ee5435fb46a09831b28c5dfea201",
            "48541b796d074bc1a5fdaf1d0cf7e240"
          ]
        },
        "outputId": "f77656ad-3924-447d-d124-ad3178726c74"
      },
      "source": [
        "all_unieuro_spec_iphones = []\n",
        "\n",
        "date_loading = dt.date.today()\n",
        "\n",
        "for index, project in tqdm(ds_unieuro_iphones.iterrows()):\n",
        "    time.sleep(np.random.randint(1,delay))\n",
        "    link = project[\"url\"]\n",
        "    price = project[\"price\"]\n",
        "    original_price = project[\"original_price\"]\n",
        "    product_name_ext = project[\"product_name\"]\n",
        "    product_name_no_carrier_no_brand = re.sub(('Vodafone|TIM|H3G|WindTre|Apple'),'',product_name_ext,flags = re.IGNORECASE)\n",
        "    product_name_no_carrier_no_brand = product_name_no_carrier_no_brand.strip()\n",
        "    brand = \"APPLE\"\n",
        "    carrier = re.match(('Vodafone|TIM|H3G|WindTre'),product_name_ext,re.IGNORECASE)\n",
        "    if carrier is None:\n",
        "      carrier = 'No'\n",
        "    else:\n",
        "      carrier = carrier.group()   \n",
        "    model_ext = re.match('(^.*?)(,|:|[0-9] cm|[0-9] GB|[0-9]\")',product_name_no_carrier_no_brand,re.IGNORECASE)\n",
        "    if model_ext is None:\n",
        "      model = product_name_no_carrier_no_brand\n",
        "    else:\n",
        "      model = re.match('.*(?=\\ )',model_ext.group(),re.IGNORECASE)\n",
        "      model = model.group()\n",
        "    try:\n",
        "      wd.set_window_size(scrWidth, scrHeight)\n",
        "      wd.get(link)\n",
        "      try:\n",
        "       WebDriverWait(wd, 10).until(\n",
        "          EC.presence_of_element_located((By.ID , \"specifications\"))\n",
        "       )\n",
        "      except:\n",
        "        pass\n",
        "      prod = wd.find_element_by_id(\"specifications\")   \n",
        "      all_unieuro_spec_iphones.append(get_prod_spec_Unieuro(prod,date_loading,price,original_price,brand,model,carrier))\n",
        "    except Exception as e:\n",
        "      print(e) "
      ],
      "execution_count": null,
      "outputs": [
        {
          "output_type": "display_data",
          "data": {
            "application/vnd.jupyter.widget-view+json": {
              "model_id": "674d300e7ecb44d08dc312ac86d601d0",
              "version_minor": 0,
              "version_major": 2
            },
            "text/plain": [
              "HBox(children=(FloatProgress(value=1.0, bar_style='info', max=1.0), HTML(value='')))"
            ]
          },
          "metadata": {
            "tags": []
          }
        },
        {
          "output_type": "stream",
          "text": [
            "\n"
          ],
          "name": "stdout"
        }
      ]
    },
    {
      "cell_type": "code",
      "metadata": {
        "id": "VfPhdbr8IWWl",
        "colab_type": "code",
        "colab": {
          "base_uri": "https://localhost:8080/",
          "height": 405
        },
        "outputId": "ea389df2-671c-422c-85df-d72fba72f598"
      },
      "source": [
        "ds_spec_iphones_unieuro = pd.DataFrame(all_unieuro_spec_iphones)\n",
        "ds_spec_iphones_unieuro.head()"
      ],
      "execution_count": null,
      "outputs": [
        {
          "output_type": "execute_result",
          "data": {
            "text/html": [
              "<div>\n",
              "<style scoped>\n",
              "    .dataframe tbody tr th:only-of-type {\n",
              "        vertical-align: middle;\n",
              "    }\n",
              "\n",
              "    .dataframe tbody tr th {\n",
              "        vertical-align: top;\n",
              "    }\n",
              "\n",
              "    .dataframe thead th {\n",
              "        text-align: right;\n",
              "    }\n",
              "</style>\n",
              "<table border=\"1\" class=\"dataframe\">\n",
              "  <thead>\n",
              "    <tr style=\"text-align: right;\">\n",
              "      <th></th>\n",
              "      <th>tms_loading</th>\n",
              "      <th>date_loading</th>\n",
              "      <th>id_vendor</th>\n",
              "      <th>vendor</th>\n",
              "      <th>os</th>\n",
              "      <th>brand</th>\n",
              "      <th>model</th>\n",
              "      <th>price</th>\n",
              "      <th>original_price</th>\n",
              "      <th>ram</th>\n",
              "      <th>memory</th>\n",
              "      <th>sim</th>\n",
              "      <th>gps</th>\n",
              "      <th>a_gps</th>\n",
              "      <th>color</th>\n",
              "      <th>display_type</th>\n",
              "      <th>display_size</th>\n",
              "      <th>carrier</th>\n",
              "      <th>battery_capacity</th>\n",
              "      <th>height</th>\n",
              "      <th>width</th>\n",
              "      <th>length</th>\n",
              "      <th>weight</th>\n",
              "    </tr>\n",
              "  </thead>\n",
              "  <tbody>\n",
              "    <tr>\n",
              "      <th>0</th>\n",
              "      <td>2020-08-13 20:19:57.496644</td>\n",
              "      <td>2020-08-13</td>\n",
              "      <td>2</td>\n",
              "      <td>Unieuro</td>\n",
              "      <td>iOS</td>\n",
              "      <td>APPLE</td>\n",
              "      <td>iPhone 11 128</td>\n",
              "      <td>€799.00</td>\n",
              "      <td>€889.00</td>\n",
              "      <td></td>\n",
              "      <td>128   GB</td>\n",
              "      <td>Doppia SIM</td>\n",
              "      <td>Sì</td>\n",
              "      <td>Sì</td>\n",
              "      <td>Nero</td>\n",
              "      <td>LCD</td>\n",
              "      <td>6.1   \"</td>\n",
              "      <td>No</td>\n",
              "      <td></td>\n",
              "      <td>150.9   mm</td>\n",
              "      <td>75.7   mm</td>\n",
              "      <td>8.3   mm</td>\n",
              "      <td>194   g</td>\n",
              "    </tr>\n",
              "    <tr>\n",
              "      <th>1</th>\n",
              "      <td>2020-08-13 20:20:39.722037</td>\n",
              "      <td>2020-08-13</td>\n",
              "      <td>2</td>\n",
              "      <td>Unieuro</td>\n",
              "      <td>iOS</td>\n",
              "      <td>APPLE</td>\n",
              "      <td>iPhone XS Max 64GB Grigio siderale</td>\n",
              "      <td>€749.00</td>\n",
              "      <td>€1289.00</td>\n",
              "      <td></td>\n",
              "      <td>64   GB</td>\n",
              "      <td>Doppia SIM</td>\n",
              "      <td>Sì</td>\n",
              "      <td>Sì</td>\n",
              "      <td>Grigio</td>\n",
              "      <td>OLED</td>\n",
              "      <td>6.5   \"</td>\n",
              "      <td>No</td>\n",
              "      <td></td>\n",
              "      <td>157.5   mm</td>\n",
              "      <td>77.4   mm</td>\n",
              "      <td>7.7   mm</td>\n",
              "      <td>208   g</td>\n",
              "    </tr>\n",
              "    <tr>\n",
              "      <th>2</th>\n",
              "      <td>2020-08-13 20:21:24.070501</td>\n",
              "      <td>2020-08-13</td>\n",
              "      <td>2</td>\n",
              "      <td>Unieuro</td>\n",
              "      <td>iOS</td>\n",
              "      <td>APPLE</td>\n",
              "      <td>iPhone XR 256GB Nero</td>\n",
              "      <td>€759.00</td>\n",
              "      <td>€899.00</td>\n",
              "      <td></td>\n",
              "      <td>256   GB</td>\n",
              "      <td>Doppia SIM</td>\n",
              "      <td>Sì</td>\n",
              "      <td>Sì</td>\n",
              "      <td>Nero</td>\n",
              "      <td>LCD</td>\n",
              "      <td>6.1   \"</td>\n",
              "      <td>No</td>\n",
              "      <td></td>\n",
              "      <td>150.9   mm</td>\n",
              "      <td>75.7   mm</td>\n",
              "      <td>8.3   mm</td>\n",
              "      <td>194   g</td>\n",
              "    </tr>\n",
              "    <tr>\n",
              "      <th>3</th>\n",
              "      <td>2020-08-13 20:22:04.673091</td>\n",
              "      <td>2020-08-13</td>\n",
              "      <td>2</td>\n",
              "      <td>Unieuro</td>\n",
              "      <td>iOS</td>\n",
              "      <td>APPLE</td>\n",
              "      <td>iPhone SE</td>\n",
              "      <td>€549.00</td>\n",
              "      <td>€549.00</td>\n",
              "      <td></td>\n",
              "      <td>128   GB</td>\n",
              "      <td>Dual SIM ibrida</td>\n",
              "      <td>Sì</td>\n",
              "      <td></td>\n",
              "      <td>Nero</td>\n",
              "      <td>IPS</td>\n",
              "      <td>4.7   \"</td>\n",
              "      <td>No</td>\n",
              "      <td></td>\n",
              "      <td>138.4   mm</td>\n",
              "      <td>67.3   mm</td>\n",
              "      <td>7.3   mm</td>\n",
              "      <td>148</td>\n",
              "    </tr>\n",
              "    <tr>\n",
              "      <th>4</th>\n",
              "      <td>2020-08-13 20:22:42.218041</td>\n",
              "      <td>2020-08-13</td>\n",
              "      <td>2</td>\n",
              "      <td>Unieuro</td>\n",
              "      <td>iOS</td>\n",
              "      <td>APPLE</td>\n",
              "      <td>iPhone 11 128</td>\n",
              "      <td>€799.00</td>\n",
              "      <td>€889.00</td>\n",
              "      <td></td>\n",
              "      <td>128   GB</td>\n",
              "      <td>Doppia SIM</td>\n",
              "      <td>Sì</td>\n",
              "      <td>Sì</td>\n",
              "      <td>Bianco</td>\n",
              "      <td>LCD</td>\n",
              "      <td>6.1   \"</td>\n",
              "      <td>No</td>\n",
              "      <td></td>\n",
              "      <td>150.9   mm</td>\n",
              "      <td>75.7   mm</td>\n",
              "      <td>8.3   mm</td>\n",
              "      <td>194   g</td>\n",
              "    </tr>\n",
              "  </tbody>\n",
              "</table>\n",
              "</div>"
            ],
            "text/plain": [
              "                 tms_loading date_loading  ...    length   weight\n",
              "0 2020-08-13 20:19:57.496644   2020-08-13  ...  8.3   mm  194   g\n",
              "1 2020-08-13 20:20:39.722037   2020-08-13  ...  7.7   mm  208   g\n",
              "2 2020-08-13 20:21:24.070501   2020-08-13  ...  8.3   mm  194   g\n",
              "3 2020-08-13 20:22:04.673091   2020-08-13  ...  7.3   mm    148  \n",
              "4 2020-08-13 20:22:42.218041   2020-08-13  ...  8.3   mm  194   g\n",
              "\n",
              "[5 rows x 23 columns]"
            ]
          },
          "metadata": {
            "tags": []
          },
          "execution_count": 49
        }
      ]
    },
    {
      "cell_type": "code",
      "metadata": {
        "id": "fmLBMfreIoUz",
        "colab_type": "code",
        "colab": {
          "base_uri": "https://localhost:8080/",
          "height": 34
        },
        "outputId": "36ffc17a-8487-461e-d503-c4105a544f61"
      },
      "source": [
        "ds_spec_iphones_unieuro.duplicated().sum()"
      ],
      "execution_count": null,
      "outputs": [
        {
          "output_type": "execute_result",
          "data": {
            "text/plain": [
              "0"
            ]
          },
          "metadata": {
            "tags": []
          },
          "execution_count": 50
        }
      ]
    },
    {
      "cell_type": "code",
      "metadata": {
        "id": "s8q1w8c7I65W",
        "colab_type": "code",
        "colab": {}
      },
      "source": [
        "file_name = \"ds_spec_iphones_unieuro_\" + dt.date.today().strftime('%Y%m%d') + \".csv\"\n",
        "ds_spec_iphones_unieuro.to_csv(file_name,encoding=\"utf-8\")"
      ],
      "execution_count": null,
      "outputs": []
    },
    {
      "cell_type": "markdown",
      "metadata": {
        "id": "DMBLZ49aQsSk",
        "colab_type": "text"
      },
      "source": [
        "Merge the resulting datasets"
      ]
    },
    {
      "cell_type": "code",
      "metadata": {
        "id": "vZDm8wTrQrY4",
        "colab_type": "code",
        "colab": {
          "base_uri": "https://localhost:8080/",
          "height": 34
        },
        "outputId": "ac8a1ea1-5c5c-40f9-fc12-f8f927e1db4c"
      },
      "source": [
        "cnt = 0\n",
        "ds_all_phones_spec = pd.DataFrame()\n",
        "path = '/content/drive/My Drive/tech_vendor_datasets'\n",
        "fileList = os.listdir(path)\n",
        "\n",
        "for filename in fileList:\n",
        "  try:\n",
        "    df = pd.read_csv(path + '/' + filename,index_col = 0)  \n",
        "    ds_all_phones_spec = ds_all_phones_spec.append(df)\n",
        "    cnt += 1\n",
        "  except Exception as e:\n",
        "    print(e)\n",
        "    pass\n",
        "\n",
        "print(str(cnt) + '/' + str(len(fileList)) + ' files in the directory ' + path + ' have been successfully merged')"
      ],
      "execution_count": null,
      "outputs": [
        {
          "output_type": "stream",
          "text": [
            "9/9 files in the directory /content/drive/My Drive/tech_vendor_datasets have been successfully merged\n"
          ],
          "name": "stdout"
        }
      ]
    },
    {
      "cell_type": "code",
      "metadata": {
        "id": "vPM4h3dI_vtx",
        "colab_type": "code",
        "colab": {
          "base_uri": "https://localhost:8080/",
          "height": 529
        },
        "outputId": "93a6b2b1-eb34-4972-b0da-3fc65357db32"
      },
      "source": [
        "ds_all_phones_spec.info()"
      ],
      "execution_count": null,
      "outputs": [
        {
          "output_type": "stream",
          "text": [
            "<class 'pandas.core.frame.DataFrame'>\n",
            "Int64Index: 2440 entries, 0 to 445\n",
            "Data columns (total 23 columns):\n",
            " #   Column            Non-Null Count  Dtype \n",
            "---  ------            --------------  ----- \n",
            " 0   tms_loading       2440 non-null   object\n",
            " 1   date_loading      2440 non-null   object\n",
            " 2   id_vendor         2440 non-null   int64 \n",
            " 3   vendor            2440 non-null   object\n",
            " 4   os                2346 non-null   object\n",
            " 5   brand             2440 non-null   object\n",
            " 6   model             2426 non-null   object\n",
            " 7   price             2440 non-null   object\n",
            " 8   original_price    2440 non-null   object\n",
            " 9   ram               2052 non-null   object\n",
            " 10  memory            2420 non-null   object\n",
            " 11  sim               2288 non-null   object\n",
            " 12  gps               2406 non-null   object\n",
            " 13  a_gps             2048 non-null   object\n",
            " 14  color             2417 non-null   object\n",
            " 15  display_type      2318 non-null   object\n",
            " 16  display_size      2429 non-null   object\n",
            " 17  carrier           2429 non-null   object\n",
            " 18  battery_capacity  2060 non-null   object\n",
            " 19  height            2410 non-null   object\n",
            " 20  width             2410 non-null   object\n",
            " 21  length            2428 non-null   object\n",
            " 22  weight            2413 non-null   object\n",
            "dtypes: int64(1), object(22)\n",
            "memory usage: 457.5+ KB\n"
          ],
          "name": "stdout"
        }
      ]
    },
    {
      "cell_type": "markdown",
      "metadata": {
        "id": "6J-JILDXEmav",
        "colab_type": "text"
      },
      "source": [
        "Export the resulting dataset"
      ]
    },
    {
      "cell_type": "code",
      "metadata": {
        "id": "lWCCIEYCEpJo",
        "colab_type": "code",
        "colab": {}
      },
      "source": [
        "ds_all_phones_spec.to_csv(\"ds_all_phones_spec.csv\",encoding=\"utf-8\",index = False)"
      ],
      "execution_count": null,
      "outputs": []
    },
    {
      "cell_type": "markdown",
      "metadata": {
        "id": "jLD5IxVk2D79",
        "colab_type": "text"
      },
      "source": [
        "---\n",
        "\n",
        "#Transforming\n",
        "\n",
        "1.   Data profiling with OpenRefine\n",
        "2.   Data enrichment with Python\n",
        "\n"
      ]
    },
    {
      "cell_type": "code",
      "metadata": {
        "id": "plnuav0TbdQG",
        "colab_type": "code",
        "colab": {}
      },
      "source": [
        "df_refined = pd.read_csv(\"df_refined.csv\",encoding=\"utf-8\")"
      ],
      "execution_count": null,
      "outputs": []
    },
    {
      "cell_type": "code",
      "metadata": {
        "id": "GEmGvZ-Gb2QT",
        "colab_type": "code",
        "colab": {
          "base_uri": "https://localhost:8080/",
          "height": 529
        },
        "outputId": "aeedbd11-1c56-4d15-d286-822472f6c6a9"
      },
      "source": [
        "df_refined.info()"
      ],
      "execution_count": null,
      "outputs": [
        {
          "output_type": "stream",
          "text": [
            "<class 'pandas.core.frame.DataFrame'>\n",
            "RangeIndex: 2429 entries, 0 to 2428\n",
            "Data columns (total 23 columns):\n",
            " #   Column            Non-Null Count  Dtype  \n",
            "---  ------            --------------  -----  \n",
            " 0   tms_loading       2429 non-null   object \n",
            " 1   date_loading      2429 non-null   object \n",
            " 2   id_vendor         2429 non-null   int64  \n",
            " 3   vendor            2429 non-null   object \n",
            " 4   os                2429 non-null   object \n",
            " 5   brand             2429 non-null   object \n",
            " 6   model             2429 non-null   object \n",
            " 7   price             2429 non-null   float64\n",
            " 8   original_price    2429 non-null   float64\n",
            " 9   ram               2052 non-null   object \n",
            " 10  memory            2420 non-null   float64\n",
            " 11  sim               2429 non-null   object \n",
            " 12  gps               2429 non-null   object \n",
            " 13  a_gps             2429 non-null   object \n",
            " 14  color             2429 non-null   object \n",
            " 15  display_type      2429 non-null   object \n",
            " 16  display_size      2429 non-null   object \n",
            " 17  carrier           2429 non-null   object \n",
            " 18  battery_capacity  2060 non-null   float64\n",
            " 19  height            2410 non-null   float64\n",
            " 20  width             2410 non-null   float64\n",
            " 21  length            2410 non-null   float64\n",
            " 22  weight            2378 non-null   float64\n",
            "dtypes: float64(8), int64(1), object(14)\n",
            "memory usage: 436.6+ KB\n"
          ],
          "name": "stdout"
        }
      ]
    },
    {
      "cell_type": "markdown",
      "metadata": {
        "id": "1jjuYKjwGN4p",
        "colab_type": "text"
      },
      "source": [
        "Create the field PRICE range (1: smartphone with price < 200, 9: smartphone with price > 900"
      ]
    },
    {
      "cell_type": "code",
      "metadata": {
        "id": "OLiNu8sYEFA9",
        "colab_type": "code",
        "colab": {}
      },
      "source": [
        "conditions = [\n",
        "    (df_refined['price'] <= 200),\n",
        "    (df_refined['price'] > 200) & (df_refined['price'] <= 300),\n",
        "    (df_refined['price'] > 300) & (df_refined['price'] <= 400),\n",
        "    (df_refined['price'] > 400) & (df_refined['price'] <= 500),\n",
        "    (df_refined['price'] > 500) & (df_refined['price'] <= 600), \n",
        "    (df_refined['price'] > 600) & (df_refined['price'] <= 700),\n",
        "    (df_refined['price'] > 700) & (df_refined['price'] <= 800),\n",
        "    (df_refined['price'] > 800) & (df_refined['price'] <= 900),  \n",
        "    (df_refined['price'] > 900)\n",
        "    ]\n",
        "values = [1,2,3,4,5,6,7,8,9]\n",
        "\n",
        "df_refined['price_range'] = np.select(conditions, values)"
      ],
      "execution_count": null,
      "outputs": []
    },
    {
      "cell_type": "markdown",
      "metadata": {
        "id": "iR-KvQE1HjFC",
        "colab_type": "text"
      },
      "source": [
        "Computation of the applied discount for each product"
      ]
    },
    {
      "cell_type": "code",
      "metadata": {
        "id": "58l8Zf3mHpyr",
        "colab_type": "code",
        "colab": {}
      },
      "source": [
        "df_refined['discount'] = df_refined.original_price - df_refined.price"
      ],
      "execution_count": null,
      "outputs": []
    },
    {
      "cell_type": "markdown",
      "metadata": {
        "id": "aN4zp1OKO1ZE",
        "colab_type": "text"
      },
      "source": [
        "Create the flag discount (1 means for a discounted product, 0 is not)"
      ]
    },
    {
      "cell_type": "code",
      "metadata": {
        "id": "yRixQegwOzfS",
        "colab_type": "code",
        "colab": {}
      },
      "source": [
        "conds = [(df_refined['discount'] == 0),(df_refined['discount'] != 0)]\n",
        "val = ['0','1']\n",
        "\n",
        "df_refined['flag_discount'] = np.select(conds, val)"
      ],
      "execution_count": null,
      "outputs": []
    },
    {
      "cell_type": "markdown",
      "metadata": {
        "id": "DuHogJxlIcml",
        "colab_type": "text"
      },
      "source": [
        "Create the field DISCOUNT_RANGE (1: smartphone with discount percentage <= 10% , 6: smartphone with discount percentage > 50%"
      ]
    },
    {
      "cell_type": "code",
      "metadata": {
        "id": "K5SMvnNlIbxY",
        "colab_type": "code",
        "colab": {}
      },
      "source": [
        "df_refined['discount_perc'] = round(df_refined.discount/df_refined.original_price,2) * 100"
      ],
      "execution_count": null,
      "outputs": []
    },
    {
      "cell_type": "markdown",
      "metadata": {
        "id": "mYGxLUe7dbFW",
        "colab_type": "text"
      },
      "source": [
        "Discount range"
      ]
    },
    {
      "cell_type": "code",
      "metadata": {
        "id": "Zr7DftXpdaMb",
        "colab_type": "code",
        "colab": {}
      },
      "source": [
        "conditions = [\n",
        "    (df_refined['discount_perc'] <= 10),\n",
        "    (df_refined['discount_perc'] > 10) & (df_refined['discount_perc'] <= 20),\n",
        "    (df_refined['discount_perc'] > 20) & (df_refined['discount_perc'] <= 30),\n",
        "    (df_refined['discount_perc'] > 30) & (df_refined['discount_perc'] <= 40),\n",
        "    (df_refined['discount_perc'] > 40) & (df_refined['discount_perc'] <= 50), \n",
        "    (df_refined['discount_perc'] > 50)\n",
        "    ]\n",
        "values = [1,2,3,4,5,6]\n",
        "\n",
        "df_refined['discount_range'] = np.select(conditions, values)"
      ],
      "execution_count": null,
      "outputs": []
    },
    {
      "cell_type": "markdown",
      "metadata": {
        "id": "HF_s_v_kpA_3",
        "colab_type": "text"
      },
      "source": [
        "Final dataset"
      ]
    },
    {
      "cell_type": "code",
      "metadata": {
        "id": "sw-XlBm8RDuZ",
        "colab_type": "code",
        "colab": {
          "base_uri": "https://localhost:8080/",
          "height": 334
        },
        "outputId": "025354f9-837f-4114-d700-cd25dffc83e1"
      },
      "source": [
        "df_refined.loc[:4].style.background_gradient(subset=['price','original_price','discount'],cmap='viridis')"
      ],
      "execution_count": null,
      "outputs": [
        {
          "output_type": "execute_result",
          "data": {
            "text/html": [
              "<style  type=\"text/css\" >\n",
              "    #T_bdff0664_de4e_11ea_b2be_0242ac1c0002row0_col7 {\n",
              "            background-color:  #fde725;\n",
              "            color:  #000000;\n",
              "        }    #T_bdff0664_de4e_11ea_b2be_0242ac1c0002row0_col8 {\n",
              "            background-color:  #24868e;\n",
              "            color:  #000000;\n",
              "        }    #T_bdff0664_de4e_11ea_b2be_0242ac1c0002row0_col24 {\n",
              "            background-color:  #463480;\n",
              "            color:  #f1f1f1;\n",
              "        }    #T_bdff0664_de4e_11ea_b2be_0242ac1c0002row1_col7 {\n",
              "            background-color:  #7fd34e;\n",
              "            color:  #000000;\n",
              "        }    #T_bdff0664_de4e_11ea_b2be_0242ac1c0002row1_col8 {\n",
              "            background-color:  #fde725;\n",
              "            color:  #000000;\n",
              "        }    #T_bdff0664_de4e_11ea_b2be_0242ac1c0002row1_col24 {\n",
              "            background-color:  #fde725;\n",
              "            color:  #000000;\n",
              "        }    #T_bdff0664_de4e_11ea_b2be_0242ac1c0002row2_col7 {\n",
              "            background-color:  #98d83e;\n",
              "            color:  #000000;\n",
              "        }    #T_bdff0664_de4e_11ea_b2be_0242ac1c0002row2_col8 {\n",
              "            background-color:  #238a8d;\n",
              "            color:  #000000;\n",
              "        }    #T_bdff0664_de4e_11ea_b2be_0242ac1c0002row2_col24 {\n",
              "            background-color:  #3c508b;\n",
              "            color:  #f1f1f1;\n",
              "        }    #T_bdff0664_de4e_11ea_b2be_0242ac1c0002row3_col7 {\n",
              "            background-color:  #fde725;\n",
              "            color:  #000000;\n",
              "        }    #T_bdff0664_de4e_11ea_b2be_0242ac1c0002row3_col8 {\n",
              "            background-color:  #24868e;\n",
              "            color:  #000000;\n",
              "        }    #T_bdff0664_de4e_11ea_b2be_0242ac1c0002row3_col24 {\n",
              "            background-color:  #463480;\n",
              "            color:  #f1f1f1;\n",
              "        }    #T_bdff0664_de4e_11ea_b2be_0242ac1c0002row4_col7 {\n",
              "            background-color:  #440154;\n",
              "            color:  #f1f1f1;\n",
              "        }    #T_bdff0664_de4e_11ea_b2be_0242ac1c0002row4_col8 {\n",
              "            background-color:  #440154;\n",
              "            color:  #f1f1f1;\n",
              "        }    #T_bdff0664_de4e_11ea_b2be_0242ac1c0002row4_col24 {\n",
              "            background-color:  #440154;\n",
              "            color:  #f1f1f1;\n",
              "        }</style><table id=\"T_bdff0664_de4e_11ea_b2be_0242ac1c0002\" ><thead>    <tr>        <th class=\"blank level0\" ></th>        <th class=\"col_heading level0 col0\" >tms_loading</th>        <th class=\"col_heading level0 col1\" >date_loading</th>        <th class=\"col_heading level0 col2\" >id_vendor</th>        <th class=\"col_heading level0 col3\" >vendor</th>        <th class=\"col_heading level0 col4\" >os</th>        <th class=\"col_heading level0 col5\" >brand</th>        <th class=\"col_heading level0 col6\" >model</th>        <th class=\"col_heading level0 col7\" >price</th>        <th class=\"col_heading level0 col8\" >original_price</th>        <th class=\"col_heading level0 col9\" >ram</th>        <th class=\"col_heading level0 col10\" >memory</th>        <th class=\"col_heading level0 col11\" >sim</th>        <th class=\"col_heading level0 col12\" >gps</th>        <th class=\"col_heading level0 col13\" >a_gps</th>        <th class=\"col_heading level0 col14\" >color</th>        <th class=\"col_heading level0 col15\" >display_type</th>        <th class=\"col_heading level0 col16\" >display_size</th>        <th class=\"col_heading level0 col17\" >carrier</th>        <th class=\"col_heading level0 col18\" >battery_capacity</th>        <th class=\"col_heading level0 col19\" >height</th>        <th class=\"col_heading level0 col20\" >width</th>        <th class=\"col_heading level0 col21\" >length</th>        <th class=\"col_heading level0 col22\" >weight</th>        <th class=\"col_heading level0 col23\" >price_range</th>        <th class=\"col_heading level0 col24\" >discount</th>        <th class=\"col_heading level0 col25\" >flag_discount</th>        <th class=\"col_heading level0 col26\" >discount_perc</th>        <th class=\"col_heading level0 col27\" >discount_range</th>    </tr></thead><tbody>\n",
              "                <tr>\n",
              "                        <th id=\"T_bdff0664_de4e_11ea_b2be_0242ac1c0002level0_row0\" class=\"row_heading level0 row0\" >0</th>\n",
              "                        <td id=\"T_bdff0664_de4e_11ea_b2be_0242ac1c0002row0_col0\" class=\"data row0 col0\" >2020-08-07 14:25:21.555577</td>\n",
              "                        <td id=\"T_bdff0664_de4e_11ea_b2be_0242ac1c0002row0_col1\" class=\"data row0 col1\" >2020-08-07</td>\n",
              "                        <td id=\"T_bdff0664_de4e_11ea_b2be_0242ac1c0002row0_col2\" class=\"data row0 col2\" >2</td>\n",
              "                        <td id=\"T_bdff0664_de4e_11ea_b2be_0242ac1c0002row0_col3\" class=\"data row0 col3\" >Unieuro</td>\n",
              "                        <td id=\"T_bdff0664_de4e_11ea_b2be_0242ac1c0002row0_col4\" class=\"data row0 col4\" >iOS</td>\n",
              "                        <td id=\"T_bdff0664_de4e_11ea_b2be_0242ac1c0002row0_col5\" class=\"data row0 col5\" >APPLE</td>\n",
              "                        <td id=\"T_bdff0664_de4e_11ea_b2be_0242ac1c0002row0_col6\" class=\"data row0 col6\" >iPhone 11 128</td>\n",
              "                        <td id=\"T_bdff0664_de4e_11ea_b2be_0242ac1c0002row0_col7\" class=\"data row0 col7\" >799.000000</td>\n",
              "                        <td id=\"T_bdff0664_de4e_11ea_b2be_0242ac1c0002row0_col8\" class=\"data row0 col8\" >889.000000</td>\n",
              "                        <td id=\"T_bdff0664_de4e_11ea_b2be_0242ac1c0002row0_col9\" class=\"data row0 col9\" >nan</td>\n",
              "                        <td id=\"T_bdff0664_de4e_11ea_b2be_0242ac1c0002row0_col10\" class=\"data row0 col10\" >128.000000</td>\n",
              "                        <td id=\"T_bdff0664_de4e_11ea_b2be_0242ac1c0002row0_col11\" class=\"data row0 col11\" >Dual SIM</td>\n",
              "                        <td id=\"T_bdff0664_de4e_11ea_b2be_0242ac1c0002row0_col12\" class=\"data row0 col12\" >Si</td>\n",
              "                        <td id=\"T_bdff0664_de4e_11ea_b2be_0242ac1c0002row0_col13\" class=\"data row0 col13\" >Si</td>\n",
              "                        <td id=\"T_bdff0664_de4e_11ea_b2be_0242ac1c0002row0_col14\" class=\"data row0 col14\" >Black</td>\n",
              "                        <td id=\"T_bdff0664_de4e_11ea_b2be_0242ac1c0002row0_col15\" class=\"data row0 col15\" >LCD</td>\n",
              "                        <td id=\"T_bdff0664_de4e_11ea_b2be_0242ac1c0002row0_col16\" class=\"data row0 col16\" >6.1</td>\n",
              "                        <td id=\"T_bdff0664_de4e_11ea_b2be_0242ac1c0002row0_col17\" class=\"data row0 col17\" >No</td>\n",
              "                        <td id=\"T_bdff0664_de4e_11ea_b2be_0242ac1c0002row0_col18\" class=\"data row0 col18\" >nan</td>\n",
              "                        <td id=\"T_bdff0664_de4e_11ea_b2be_0242ac1c0002row0_col19\" class=\"data row0 col19\" >150.900000</td>\n",
              "                        <td id=\"T_bdff0664_de4e_11ea_b2be_0242ac1c0002row0_col20\" class=\"data row0 col20\" >75.700000</td>\n",
              "                        <td id=\"T_bdff0664_de4e_11ea_b2be_0242ac1c0002row0_col21\" class=\"data row0 col21\" >8.300000</td>\n",
              "                        <td id=\"T_bdff0664_de4e_11ea_b2be_0242ac1c0002row0_col22\" class=\"data row0 col22\" >194.000000</td>\n",
              "                        <td id=\"T_bdff0664_de4e_11ea_b2be_0242ac1c0002row0_col23\" class=\"data row0 col23\" >7</td>\n",
              "                        <td id=\"T_bdff0664_de4e_11ea_b2be_0242ac1c0002row0_col24\" class=\"data row0 col24\" >90.000000</td>\n",
              "                        <td id=\"T_bdff0664_de4e_11ea_b2be_0242ac1c0002row0_col25\" class=\"data row0 col25\" >1</td>\n",
              "                        <td id=\"T_bdff0664_de4e_11ea_b2be_0242ac1c0002row0_col26\" class=\"data row0 col26\" >10.000000</td>\n",
              "                        <td id=\"T_bdff0664_de4e_11ea_b2be_0242ac1c0002row0_col27\" class=\"data row0 col27\" >1</td>\n",
              "            </tr>\n",
              "            <tr>\n",
              "                        <th id=\"T_bdff0664_de4e_11ea_b2be_0242ac1c0002level0_row1\" class=\"row_heading level0 row1\" >1</th>\n",
              "                        <td id=\"T_bdff0664_de4e_11ea_b2be_0242ac1c0002row1_col0\" class=\"data row1 col0\" >2020-08-07 14:26:02.493044</td>\n",
              "                        <td id=\"T_bdff0664_de4e_11ea_b2be_0242ac1c0002row1_col1\" class=\"data row1 col1\" >2020-08-07</td>\n",
              "                        <td id=\"T_bdff0664_de4e_11ea_b2be_0242ac1c0002row1_col2\" class=\"data row1 col2\" >2</td>\n",
              "                        <td id=\"T_bdff0664_de4e_11ea_b2be_0242ac1c0002row1_col3\" class=\"data row1 col3\" >Unieuro</td>\n",
              "                        <td id=\"T_bdff0664_de4e_11ea_b2be_0242ac1c0002row1_col4\" class=\"data row1 col4\" >iOS</td>\n",
              "                        <td id=\"T_bdff0664_de4e_11ea_b2be_0242ac1c0002row1_col5\" class=\"data row1 col5\" >APPLE</td>\n",
              "                        <td id=\"T_bdff0664_de4e_11ea_b2be_0242ac1c0002row1_col6\" class=\"data row1 col6\" >iPhone XS Max 64GB Grigio siderale</td>\n",
              "                        <td id=\"T_bdff0664_de4e_11ea_b2be_0242ac1c0002row1_col7\" class=\"data row1 col7\" >749.000000</td>\n",
              "                        <td id=\"T_bdff0664_de4e_11ea_b2be_0242ac1c0002row1_col8\" class=\"data row1 col8\" >1289.000000</td>\n",
              "                        <td id=\"T_bdff0664_de4e_11ea_b2be_0242ac1c0002row1_col9\" class=\"data row1 col9\" >nan</td>\n",
              "                        <td id=\"T_bdff0664_de4e_11ea_b2be_0242ac1c0002row1_col10\" class=\"data row1 col10\" >64.000000</td>\n",
              "                        <td id=\"T_bdff0664_de4e_11ea_b2be_0242ac1c0002row1_col11\" class=\"data row1 col11\" >Dual SIM</td>\n",
              "                        <td id=\"T_bdff0664_de4e_11ea_b2be_0242ac1c0002row1_col12\" class=\"data row1 col12\" >Si</td>\n",
              "                        <td id=\"T_bdff0664_de4e_11ea_b2be_0242ac1c0002row1_col13\" class=\"data row1 col13\" >Si</td>\n",
              "                        <td id=\"T_bdff0664_de4e_11ea_b2be_0242ac1c0002row1_col14\" class=\"data row1 col14\" >Grey</td>\n",
              "                        <td id=\"T_bdff0664_de4e_11ea_b2be_0242ac1c0002row1_col15\" class=\"data row1 col15\" >OLED</td>\n",
              "                        <td id=\"T_bdff0664_de4e_11ea_b2be_0242ac1c0002row1_col16\" class=\"data row1 col16\" >6.5</td>\n",
              "                        <td id=\"T_bdff0664_de4e_11ea_b2be_0242ac1c0002row1_col17\" class=\"data row1 col17\" >No</td>\n",
              "                        <td id=\"T_bdff0664_de4e_11ea_b2be_0242ac1c0002row1_col18\" class=\"data row1 col18\" >nan</td>\n",
              "                        <td id=\"T_bdff0664_de4e_11ea_b2be_0242ac1c0002row1_col19\" class=\"data row1 col19\" >157.500000</td>\n",
              "                        <td id=\"T_bdff0664_de4e_11ea_b2be_0242ac1c0002row1_col20\" class=\"data row1 col20\" >77.400000</td>\n",
              "                        <td id=\"T_bdff0664_de4e_11ea_b2be_0242ac1c0002row1_col21\" class=\"data row1 col21\" >7.700000</td>\n",
              "                        <td id=\"T_bdff0664_de4e_11ea_b2be_0242ac1c0002row1_col22\" class=\"data row1 col22\" >208.000000</td>\n",
              "                        <td id=\"T_bdff0664_de4e_11ea_b2be_0242ac1c0002row1_col23\" class=\"data row1 col23\" >7</td>\n",
              "                        <td id=\"T_bdff0664_de4e_11ea_b2be_0242ac1c0002row1_col24\" class=\"data row1 col24\" >540.000000</td>\n",
              "                        <td id=\"T_bdff0664_de4e_11ea_b2be_0242ac1c0002row1_col25\" class=\"data row1 col25\" >1</td>\n",
              "                        <td id=\"T_bdff0664_de4e_11ea_b2be_0242ac1c0002row1_col26\" class=\"data row1 col26\" >42.000000</td>\n",
              "                        <td id=\"T_bdff0664_de4e_11ea_b2be_0242ac1c0002row1_col27\" class=\"data row1 col27\" >5</td>\n",
              "            </tr>\n",
              "            <tr>\n",
              "                        <th id=\"T_bdff0664_de4e_11ea_b2be_0242ac1c0002level0_row2\" class=\"row_heading level0 row2\" >2</th>\n",
              "                        <td id=\"T_bdff0664_de4e_11ea_b2be_0242ac1c0002row2_col0\" class=\"data row2 col0\" >2020-08-07 14:26:43.350360</td>\n",
              "                        <td id=\"T_bdff0664_de4e_11ea_b2be_0242ac1c0002row2_col1\" class=\"data row2 col1\" >2020-08-07</td>\n",
              "                        <td id=\"T_bdff0664_de4e_11ea_b2be_0242ac1c0002row2_col2\" class=\"data row2 col2\" >2</td>\n",
              "                        <td id=\"T_bdff0664_de4e_11ea_b2be_0242ac1c0002row2_col3\" class=\"data row2 col3\" >Unieuro</td>\n",
              "                        <td id=\"T_bdff0664_de4e_11ea_b2be_0242ac1c0002row2_col4\" class=\"data row2 col4\" >iOS</td>\n",
              "                        <td id=\"T_bdff0664_de4e_11ea_b2be_0242ac1c0002row2_col5\" class=\"data row2 col5\" >APPLE</td>\n",
              "                        <td id=\"T_bdff0664_de4e_11ea_b2be_0242ac1c0002row2_col6\" class=\"data row2 col6\" >iPhone XR 256GB Nero</td>\n",
              "                        <td id=\"T_bdff0664_de4e_11ea_b2be_0242ac1c0002row2_col7\" class=\"data row2 col7\" >759.000000</td>\n",
              "                        <td id=\"T_bdff0664_de4e_11ea_b2be_0242ac1c0002row2_col8\" class=\"data row2 col8\" >899.000000</td>\n",
              "                        <td id=\"T_bdff0664_de4e_11ea_b2be_0242ac1c0002row2_col9\" class=\"data row2 col9\" >nan</td>\n",
              "                        <td id=\"T_bdff0664_de4e_11ea_b2be_0242ac1c0002row2_col10\" class=\"data row2 col10\" >256.000000</td>\n",
              "                        <td id=\"T_bdff0664_de4e_11ea_b2be_0242ac1c0002row2_col11\" class=\"data row2 col11\" >Dual SIM</td>\n",
              "                        <td id=\"T_bdff0664_de4e_11ea_b2be_0242ac1c0002row2_col12\" class=\"data row2 col12\" >Si</td>\n",
              "                        <td id=\"T_bdff0664_de4e_11ea_b2be_0242ac1c0002row2_col13\" class=\"data row2 col13\" >Si</td>\n",
              "                        <td id=\"T_bdff0664_de4e_11ea_b2be_0242ac1c0002row2_col14\" class=\"data row2 col14\" >Black</td>\n",
              "                        <td id=\"T_bdff0664_de4e_11ea_b2be_0242ac1c0002row2_col15\" class=\"data row2 col15\" >LCD</td>\n",
              "                        <td id=\"T_bdff0664_de4e_11ea_b2be_0242ac1c0002row2_col16\" class=\"data row2 col16\" >6.1</td>\n",
              "                        <td id=\"T_bdff0664_de4e_11ea_b2be_0242ac1c0002row2_col17\" class=\"data row2 col17\" >No</td>\n",
              "                        <td id=\"T_bdff0664_de4e_11ea_b2be_0242ac1c0002row2_col18\" class=\"data row2 col18\" >nan</td>\n",
              "                        <td id=\"T_bdff0664_de4e_11ea_b2be_0242ac1c0002row2_col19\" class=\"data row2 col19\" >150.900000</td>\n",
              "                        <td id=\"T_bdff0664_de4e_11ea_b2be_0242ac1c0002row2_col20\" class=\"data row2 col20\" >75.700000</td>\n",
              "                        <td id=\"T_bdff0664_de4e_11ea_b2be_0242ac1c0002row2_col21\" class=\"data row2 col21\" >8.300000</td>\n",
              "                        <td id=\"T_bdff0664_de4e_11ea_b2be_0242ac1c0002row2_col22\" class=\"data row2 col22\" >194.000000</td>\n",
              "                        <td id=\"T_bdff0664_de4e_11ea_b2be_0242ac1c0002row2_col23\" class=\"data row2 col23\" >7</td>\n",
              "                        <td id=\"T_bdff0664_de4e_11ea_b2be_0242ac1c0002row2_col24\" class=\"data row2 col24\" >140.000000</td>\n",
              "                        <td id=\"T_bdff0664_de4e_11ea_b2be_0242ac1c0002row2_col25\" class=\"data row2 col25\" >1</td>\n",
              "                        <td id=\"T_bdff0664_de4e_11ea_b2be_0242ac1c0002row2_col26\" class=\"data row2 col26\" >16.000000</td>\n",
              "                        <td id=\"T_bdff0664_de4e_11ea_b2be_0242ac1c0002row2_col27\" class=\"data row2 col27\" >2</td>\n",
              "            </tr>\n",
              "            <tr>\n",
              "                        <th id=\"T_bdff0664_de4e_11ea_b2be_0242ac1c0002level0_row3\" class=\"row_heading level0 row3\" >3</th>\n",
              "                        <td id=\"T_bdff0664_de4e_11ea_b2be_0242ac1c0002row3_col0\" class=\"data row3 col0\" >2020-08-07 14:27:20.581299</td>\n",
              "                        <td id=\"T_bdff0664_de4e_11ea_b2be_0242ac1c0002row3_col1\" class=\"data row3 col1\" >2020-08-07</td>\n",
              "                        <td id=\"T_bdff0664_de4e_11ea_b2be_0242ac1c0002row3_col2\" class=\"data row3 col2\" >2</td>\n",
              "                        <td id=\"T_bdff0664_de4e_11ea_b2be_0242ac1c0002row3_col3\" class=\"data row3 col3\" >Unieuro</td>\n",
              "                        <td id=\"T_bdff0664_de4e_11ea_b2be_0242ac1c0002row3_col4\" class=\"data row3 col4\" >iOS</td>\n",
              "                        <td id=\"T_bdff0664_de4e_11ea_b2be_0242ac1c0002row3_col5\" class=\"data row3 col5\" >APPLE</td>\n",
              "                        <td id=\"T_bdff0664_de4e_11ea_b2be_0242ac1c0002row3_col6\" class=\"data row3 col6\" >iPhone 11 128</td>\n",
              "                        <td id=\"T_bdff0664_de4e_11ea_b2be_0242ac1c0002row3_col7\" class=\"data row3 col7\" >799.000000</td>\n",
              "                        <td id=\"T_bdff0664_de4e_11ea_b2be_0242ac1c0002row3_col8\" class=\"data row3 col8\" >889.000000</td>\n",
              "                        <td id=\"T_bdff0664_de4e_11ea_b2be_0242ac1c0002row3_col9\" class=\"data row3 col9\" >nan</td>\n",
              "                        <td id=\"T_bdff0664_de4e_11ea_b2be_0242ac1c0002row3_col10\" class=\"data row3 col10\" >128.000000</td>\n",
              "                        <td id=\"T_bdff0664_de4e_11ea_b2be_0242ac1c0002row3_col11\" class=\"data row3 col11\" >Dual SIM</td>\n",
              "                        <td id=\"T_bdff0664_de4e_11ea_b2be_0242ac1c0002row3_col12\" class=\"data row3 col12\" >Si</td>\n",
              "                        <td id=\"T_bdff0664_de4e_11ea_b2be_0242ac1c0002row3_col13\" class=\"data row3 col13\" >Si</td>\n",
              "                        <td id=\"T_bdff0664_de4e_11ea_b2be_0242ac1c0002row3_col14\" class=\"data row3 col14\" >White</td>\n",
              "                        <td id=\"T_bdff0664_de4e_11ea_b2be_0242ac1c0002row3_col15\" class=\"data row3 col15\" >LCD</td>\n",
              "                        <td id=\"T_bdff0664_de4e_11ea_b2be_0242ac1c0002row3_col16\" class=\"data row3 col16\" >6.1</td>\n",
              "                        <td id=\"T_bdff0664_de4e_11ea_b2be_0242ac1c0002row3_col17\" class=\"data row3 col17\" >No</td>\n",
              "                        <td id=\"T_bdff0664_de4e_11ea_b2be_0242ac1c0002row3_col18\" class=\"data row3 col18\" >nan</td>\n",
              "                        <td id=\"T_bdff0664_de4e_11ea_b2be_0242ac1c0002row3_col19\" class=\"data row3 col19\" >150.900000</td>\n",
              "                        <td id=\"T_bdff0664_de4e_11ea_b2be_0242ac1c0002row3_col20\" class=\"data row3 col20\" >75.700000</td>\n",
              "                        <td id=\"T_bdff0664_de4e_11ea_b2be_0242ac1c0002row3_col21\" class=\"data row3 col21\" >8.300000</td>\n",
              "                        <td id=\"T_bdff0664_de4e_11ea_b2be_0242ac1c0002row3_col22\" class=\"data row3 col22\" >194.000000</td>\n",
              "                        <td id=\"T_bdff0664_de4e_11ea_b2be_0242ac1c0002row3_col23\" class=\"data row3 col23\" >7</td>\n",
              "                        <td id=\"T_bdff0664_de4e_11ea_b2be_0242ac1c0002row3_col24\" class=\"data row3 col24\" >90.000000</td>\n",
              "                        <td id=\"T_bdff0664_de4e_11ea_b2be_0242ac1c0002row3_col25\" class=\"data row3 col25\" >1</td>\n",
              "                        <td id=\"T_bdff0664_de4e_11ea_b2be_0242ac1c0002row3_col26\" class=\"data row3 col26\" >10.000000</td>\n",
              "                        <td id=\"T_bdff0664_de4e_11ea_b2be_0242ac1c0002row3_col27\" class=\"data row3 col27\" >1</td>\n",
              "            </tr>\n",
              "            <tr>\n",
              "                        <th id=\"T_bdff0664_de4e_11ea_b2be_0242ac1c0002level0_row4\" class=\"row_heading level0 row4\" >4</th>\n",
              "                        <td id=\"T_bdff0664_de4e_11ea_b2be_0242ac1c0002row4_col0\" class=\"data row4 col0\" >2020-08-07 14:28:00.444050</td>\n",
              "                        <td id=\"T_bdff0664_de4e_11ea_b2be_0242ac1c0002row4_col1\" class=\"data row4 col1\" >2020-08-07</td>\n",
              "                        <td id=\"T_bdff0664_de4e_11ea_b2be_0242ac1c0002row4_col2\" class=\"data row4 col2\" >2</td>\n",
              "                        <td id=\"T_bdff0664_de4e_11ea_b2be_0242ac1c0002row4_col3\" class=\"data row4 col3\" >Unieuro</td>\n",
              "                        <td id=\"T_bdff0664_de4e_11ea_b2be_0242ac1c0002row4_col4\" class=\"data row4 col4\" >iOS</td>\n",
              "                        <td id=\"T_bdff0664_de4e_11ea_b2be_0242ac1c0002row4_col5\" class=\"data row4 col5\" >APPLE</td>\n",
              "                        <td id=\"T_bdff0664_de4e_11ea_b2be_0242ac1c0002row4_col6\" class=\"data row4 col6\" >iPhone SE</td>\n",
              "                        <td id=\"T_bdff0664_de4e_11ea_b2be_0242ac1c0002row4_col7\" class=\"data row4 col7\" >539.000000</td>\n",
              "                        <td id=\"T_bdff0664_de4e_11ea_b2be_0242ac1c0002row4_col8\" class=\"data row4 col8\" >549.000000</td>\n",
              "                        <td id=\"T_bdff0664_de4e_11ea_b2be_0242ac1c0002row4_col9\" class=\"data row4 col9\" >nan</td>\n",
              "                        <td id=\"T_bdff0664_de4e_11ea_b2be_0242ac1c0002row4_col10\" class=\"data row4 col10\" >128.000000</td>\n",
              "                        <td id=\"T_bdff0664_de4e_11ea_b2be_0242ac1c0002row4_col11\" class=\"data row4 col11\" >Dual SIM ibrida</td>\n",
              "                        <td id=\"T_bdff0664_de4e_11ea_b2be_0242ac1c0002row4_col12\" class=\"data row4 col12\" >Si</td>\n",
              "                        <td id=\"T_bdff0664_de4e_11ea_b2be_0242ac1c0002row4_col13\" class=\"data row4 col13\" >N.d</td>\n",
              "                        <td id=\"T_bdff0664_de4e_11ea_b2be_0242ac1c0002row4_col14\" class=\"data row4 col14\" >Black</td>\n",
              "                        <td id=\"T_bdff0664_de4e_11ea_b2be_0242ac1c0002row4_col15\" class=\"data row4 col15\" >IPS</td>\n",
              "                        <td id=\"T_bdff0664_de4e_11ea_b2be_0242ac1c0002row4_col16\" class=\"data row4 col16\" >4.7</td>\n",
              "                        <td id=\"T_bdff0664_de4e_11ea_b2be_0242ac1c0002row4_col17\" class=\"data row4 col17\" >No</td>\n",
              "                        <td id=\"T_bdff0664_de4e_11ea_b2be_0242ac1c0002row4_col18\" class=\"data row4 col18\" >nan</td>\n",
              "                        <td id=\"T_bdff0664_de4e_11ea_b2be_0242ac1c0002row4_col19\" class=\"data row4 col19\" >138.400000</td>\n",
              "                        <td id=\"T_bdff0664_de4e_11ea_b2be_0242ac1c0002row4_col20\" class=\"data row4 col20\" >67.300000</td>\n",
              "                        <td id=\"T_bdff0664_de4e_11ea_b2be_0242ac1c0002row4_col21\" class=\"data row4 col21\" >7.300000</td>\n",
              "                        <td id=\"T_bdff0664_de4e_11ea_b2be_0242ac1c0002row4_col22\" class=\"data row4 col22\" >148.000000</td>\n",
              "                        <td id=\"T_bdff0664_de4e_11ea_b2be_0242ac1c0002row4_col23\" class=\"data row4 col23\" >5</td>\n",
              "                        <td id=\"T_bdff0664_de4e_11ea_b2be_0242ac1c0002row4_col24\" class=\"data row4 col24\" >10.000000</td>\n",
              "                        <td id=\"T_bdff0664_de4e_11ea_b2be_0242ac1c0002row4_col25\" class=\"data row4 col25\" >1</td>\n",
              "                        <td id=\"T_bdff0664_de4e_11ea_b2be_0242ac1c0002row4_col26\" class=\"data row4 col26\" >2.000000</td>\n",
              "                        <td id=\"T_bdff0664_de4e_11ea_b2be_0242ac1c0002row4_col27\" class=\"data row4 col27\" >1</td>\n",
              "            </tr>\n",
              "    </tbody></table>"
            ],
            "text/plain": [
              "<pandas.io.formats.style.Styler at 0x7f9e9eeecb00>"
            ]
          },
          "metadata": {
            "tags": []
          },
          "execution_count": 40
        }
      ]
    },
    {
      "cell_type": "markdown",
      "metadata": {
        "id": "gjR_XYocoHco",
        "colab_type": "text"
      },
      "source": [
        "Dataset features explanation"
      ]
    },
    {
      "cell_type": "markdown",
      "metadata": {
        "id": "4wN5jFvap_zY",
        "colab_type": "text"
      },
      "source": [
        "| Field | Field explanation | Unit of measure\n",
        "| --- | --- | --- |\n",
        "| tms_loading | timestamp of the loading |\n",
        "| date_loading | data of the loading |\n",
        "| os | operating system |\n",
        "| brand | brand of the product |\n",
        "| model | model of the product |\n",
        "| price | current price | €\n",
        "| original_price | original price | €\n",
        "| ram |\tram | GB\n",
        "| memory | internal memory | GB\n",
        "| sim | one sim / dual sim |\n",
        "| gps | gps |\n",
        "| a-gps | assisted gps |\n",
        "| color | color |\n",
        "| display_type | display type |\n",
        "| display_size | display size | inches\n",
        "| carrier | carrier |\n",
        "| battery_capacity | capacity of the battery |\n",
        "| height | height of the product | mm\n",
        "| width\t| width of the samrtphone | mm\n",
        "| length | length of the product | mm\n",
        "| weigth | weigth of the product | g\n",
        "| price range | price range |\n",
        "| discount | discounted value | €\n",
        "| flag_discount | discounted / not discounted |\n",
        "| discount_perc | discout percentage applied | %\n",
        "| discount_range | discounted range |\n"
      ]
    },
    {
      "cell_type": "markdown",
      "metadata": {
        "id": "-cOzo914qWhn",
        "colab_type": "text"
      },
      "source": [
        "---\n",
        "\n",
        "# Loading"
      ]
    },
    {
      "cell_type": "markdown",
      "metadata": {
        "id": "A1J7W9PhxfyP",
        "colab_type": "text"
      },
      "source": [
        "Export the dataset into a csv file"
      ]
    },
    {
      "cell_type": "code",
      "metadata": {
        "id": "r1jclBTEdtO0",
        "colab_type": "code",
        "colab": {}
      },
      "source": [
        "df_refined.to_csv(\"ds_all_phones.csv\",index = False)"
      ],
      "execution_count": null,
      "outputs": []
    },
    {
      "cell_type": "markdown",
      "metadata": {
        "id": "GA4hxtJ3qBy4",
        "colab_type": "text"
      },
      "source": [
        "---\n",
        "\n",
        "# Data Visualization"
      ]
    },
    {
      "cell_type": "markdown",
      "metadata": {
        "id": "LzKF6Tubz-K-",
        "colab_type": "text"
      },
      "source": [
        "[Go to the published POWER BI Dashboard](https://app.powerbi.com/view?r=eyJrIjoiYTM5MDgyYTItYWIxOC00MDQyLWE4NTMtZjM4ODc3ODBmZDBjIiwidCI6IjMzYWIyODYxLWZmY2YtNDVjNC04NzBjLTEyZGQ3NWY0YjI1NCIsImMiOjh9)"
      ]
    }
  ]
}